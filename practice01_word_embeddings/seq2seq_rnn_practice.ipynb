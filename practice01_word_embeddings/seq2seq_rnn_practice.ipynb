{
  "cells": [
    {
      "cell_type": "markdown",
      "metadata": {
        "id": "-Cn3EqjXTHbf"
      },
      "source": [
        "## week10: seq2seq practice\n",
        "### Generating names with recurrent neural networks\n",
        "\n",
        "This time you'll find yourself delving into the heart (and other intestines) of recurrent neural networks on a class of toy problems.\n",
        "\n",
        "Struggle to find a name for the variable? Let's see how you'll come up with a name for your son/daughter. Surely no human has expertize over what is a good child name, so let us train RNN instead;\n",
        "\n",
        "It's dangerous to go alone, take these:"
      ]
    },
    {
      "cell_type": "code",
      "execution_count": 1,
      "metadata": {
        "id": "pvS34Pz5THbj"
      },
      "outputs": [],
      "source": [
        "import numpy as np\n",
        "import matplotlib.pyplot as plt\n",
        "%matplotlib inline"
      ]
    },
    {
      "cell_type": "markdown",
      "metadata": {
        "id": "6M-v64bETHbk"
      },
      "source": [
        "# Our data\n",
        "The dataset contains ~8k earthling names from different cultures, all in latin transcript.\n",
        "\n",
        "This notebook has been designed so as to allow you to quickly swap names for something similar: deep learning article titles, IKEA furniture, pokemon names, etc."
      ]
    },
    {
      "cell_type": "code",
      "execution_count": 2,
      "metadata": {
        "colab": {
          "base_uri": "https://localhost:8080/"
        },
        "id": "ycBRb0R8THbk",
        "outputId": "6a825ec9-30b7-4273-9ea3-51e906f9b5ae"
      },
      "outputs": [
        {
          "output_type": "stream",
          "name": "stdout",
          "text": [
            "--2024-11-04 14:42:42--  https://raw.githubusercontent.com/girafe-ai/ml-course/23s_msai/week0_10_embeddings_and_seq2seq/names\n",
            "Resolving raw.githubusercontent.com (raw.githubusercontent.com)... 185.199.111.133, 185.199.108.133, 185.199.110.133, ...\n",
            "Connecting to raw.githubusercontent.com (raw.githubusercontent.com)|185.199.111.133|:443... connected.\n",
            "HTTP request sent, awaiting response... 200 OK\n",
            "Length: 55868 (55K) [text/plain]\n",
            "Saving to: ‘names’\n",
            "\n",
            "names               100%[===================>]  54.56K  --.-KB/s    in 0.01s   \n",
            "\n",
            "2024-11-04 14:42:42 (4.37 MB/s) - ‘names’ saved [55868/55868]\n",
            "\n"
          ]
        }
      ],
      "source": [
        "# Uncomment this cell in Colab\n",
        "\n",
        "! wget https://raw.githubusercontent.com/girafe-ai/ml-course/23s_msai/week0_10_embeddings_and_seq2seq/names -O names"
      ]
    },
    {
      "cell_type": "code",
      "execution_count": 3,
      "metadata": {
        "id": "4WRbqnc5THbl"
      },
      "outputs": [],
      "source": [
        "import os\n",
        "\n",
        "start_token = \"<\"\n",
        "end_token = \">\"\n",
        "pad_token = \"_\"\n",
        "\n",
        "with open(\"names\") as f:\n",
        "    names = f.read()[:-1].split(\"\\n\")\n",
        "    names = [start_token + line + end_token for line in names]"
      ]
    },
    {
      "cell_type": "code",
      "execution_count": 4,
      "metadata": {
        "colab": {
          "base_uri": "https://localhost:8080/"
        },
        "id": "FDFQo_N3THbl",
        "outputId": "a42d236f-b44d-4133-ea76-1a54b58ffce3"
      },
      "outputs": [
        {
          "output_type": "stream",
          "name": "stdout",
          "text": [
            "n samples =  7944\n",
            "<Abagael>\n",
            "<Claresta>\n",
            "<Glory>\n",
            "<Liliane>\n",
            "<Prissie>\n",
            "<Geeta>\n",
            "<Giovanne>\n",
            "<Piggy>\n"
          ]
        }
      ],
      "source": [
        "print(\"n samples = \", len(names))\n",
        "for x in names[::1000]:\n",
        "    print(x)"
      ]
    },
    {
      "cell_type": "code",
      "execution_count": 5,
      "metadata": {
        "colab": {
          "base_uri": "https://localhost:8080/",
          "height": 626
        },
        "id": "AxIVjXM-THbm",
        "outputId": "49ccc556-7b4a-4759-ca16-97a27cff8a34"
      },
      "outputs": [
        {
          "output_type": "stream",
          "name": "stdout",
          "text": [
            "max length = 17\n"
          ]
        },
        {
          "output_type": "execute_result",
          "data": {
            "text/plain": [
              "(array([1.900e+01, 2.720e+02, 0.000e+00, 9.270e+02, 0.000e+00, 1.877e+03,\n",
              "        0.000e+00, 2.049e+03, 0.000e+00, 1.447e+03, 0.000e+00, 8.460e+02,\n",
              "        0.000e+00, 3.510e+02, 0.000e+00, 1.160e+02, 0.000e+00, 2.400e+01,\n",
              "        0.000e+00, 1.000e+01, 0.000e+00, 3.000e+00, 0.000e+00, 1.000e+00,\n",
              "        2.000e+00]),\n",
              " array([ 4.  ,  4.52,  5.04,  5.56,  6.08,  6.6 ,  7.12,  7.64,  8.16,\n",
              "         8.68,  9.2 ,  9.72, 10.24, 10.76, 11.28, 11.8 , 12.32, 12.84,\n",
              "        13.36, 13.88, 14.4 , 14.92, 15.44, 15.96, 16.48, 17.  ]),\n",
              " <BarContainer object of 25 artists>)"
            ]
          },
          "metadata": {},
          "execution_count": 5
        },
        {
          "output_type": "display_data",
          "data": {
            "text/plain": [
              "<Figure size 640x480 with 1 Axes>"
            ],
            "image/png": "[encoded data removed]"
          },
          "metadata": {}
        }
      ],
      "source": [
        "MAX_LENGTH = max(map(len, names))\n",
        "print(\"max length =\", MAX_LENGTH)\n",
        "\n",
        "plt.title(\"Sequence length distribution\")\n",
        "plt.hist(list(map(len, names)), bins=25)"
      ]
    },
    {
      "cell_type": "markdown",
      "metadata": {
        "id": "Fx-Qs60ATHbm"
      },
      "source": [
        "# Text processing\n",
        "\n",
        "First we need next to collect a \"vocabulary\" of all unique tokens i.e. unique characters. We can then encode inputs as a sequence of character ids."
      ]
    },
    {
      "cell_type": "code",
      "execution_count": 6,
      "metadata": {
        "colab": {
          "base_uri": "https://localhost:8080/"
        },
        "id": "g21nu8NpTHbn",
        "outputId": "a4e87edf-4f90-48d3-87cc-c091d26795a9"
      },
      "outputs": [
        {
          "output_type": "stream",
          "name": "stdout",
          "text": [
            "num_tokens =  58\n"
          ]
        }
      ],
      "source": [
        "# all unique characters go here\n",
        "tokens = set()\n",
        "for name in names:\n",
        "    tokens.update(set(name))\n",
        "\n",
        "tokens.update({pad_token})\n",
        "tokens = list(tokens)\n",
        "\n",
        "num_tokens = len(tokens)\n",
        "print(\"num_tokens = \", num_tokens)\n",
        "\n",
        "assert (\n",
        "    50 < num_tokens < 60\n",
        "), \"Names should contain within 50 and 60 unique tokens depending on encoding\""
      ]
    },
    {
      "cell_type": "code",
      "execution_count": 7,
      "metadata": {
        "colab": {
          "base_uri": "https://localhost:8080/"
        },
        "id": "x_x3nVBbT-IO",
        "outputId": "53b79d08-7e6c-4b73-ba2c-f8838174e133"
      },
      "outputs": [
        {
          "output_type": "execute_result",
          "data": {
            "text/plain": [
              "True"
            ]
          },
          "metadata": {},
          "execution_count": 7
        }
      ],
      "source": [
        "pad_token in tokens"
      ]
    },
    {
      "cell_type": "markdown",
      "metadata": {
        "id": "gqGbKtF8THbn"
      },
      "source": [
        "### Convert characters to integers\n",
        "\n",
        "Torch is built for crunching numbers, not strings.\n",
        "To train our neural network, we'll need to replace characters with their indices in tokens list.\n",
        "\n",
        "Let's compose a dictionary that does this mapping."
      ]
    },
    {
      "cell_type": "code",
      "execution_count": 8,
      "metadata": {
        "id": "FuUFKZlLTHbn"
      },
      "outputs": [],
      "source": [
        "id_to_token = list(tokens)\n",
        "token_to_id = {token: idx for idx, token in enumerate(id_to_token)}"
      ]
    },
    {
      "cell_type": "code",
      "execution_count": 9,
      "metadata": {
        "colab": {
          "base_uri": "https://localhost:8080/"
        },
        "id": "QWWLbC7jTHbn",
        "outputId": "c7cdf28a-9c2c-454d-9f6b-2f1ea59b2231"
      },
      "outputs": [
        {
          "output_type": "stream",
          "name": "stdout",
          "text": [
            "Seems alright!\n"
          ]
        }
      ],
      "source": [
        "assert len(tokens) == len(token_to_id), \"dictionaries must have same size\"\n",
        "\n",
        "for i in range(num_tokens):\n",
        "    assert (\n",
        "        token_to_id[tokens[i]] == i\n",
        "    ), \"token identifier must be it's position in tokens list\"\n",
        "\n",
        "print(\"Seems alright!\")"
      ]
    },
    {
      "cell_type": "code",
      "execution_count": 10,
      "metadata": {
        "id": "EUn7gatzTHbo"
      },
      "outputs": [],
      "source": [
        "def to_matrix(\n",
        "    names_batch,\n",
        "    max_len=None,\n",
        "    pad=token_to_id[pad_token],\n",
        "    dtype=\"int32\",\n",
        "    batch_first=False,\n",
        "):\n",
        "    \"\"\"Casts a list of names into rnn-digestable matrix\"\"\"\n",
        "\n",
        "    max_len = max_len or max(map(len, names_batch))\n",
        "    names_ix = np.zeros([len(names_batch), max_len], dtype) + pad\n",
        "\n",
        "    for i in range(len(names_batch)):\n",
        "        line_ix = [token_to_id[c] for c in names_batch[i]][:max_len]\n",
        "        names_ix[i, : len(line_ix)] = line_ix\n",
        "\n",
        "    if not batch_first:  # convert [batch, time] into [time, batch]\n",
        "        names_ix = np.transpose(names_ix)\n",
        "\n",
        "    return names_ix"
      ]
    },
    {
      "cell_type": "code",
      "execution_count": 11,
      "metadata": {
        "colab": {
          "base_uri": "https://localhost:8080/"
        },
        "id": "QB7tRl0ITHbo",
        "outputId": "f21fe931-93e6-4c95-aef6-7f8439dc16ea"
      },
      "outputs": [
        {
          "output_type": "stream",
          "name": "stdout",
          "text": [
            "<Abagael>\n",
            "<Glory>\n",
            "<Prissie>\n",
            "<Giovanne>\n",
            "[[38 19 54 27 52 27 31  1  4 35]\n",
            " [38 14  1  9 56 45  4 35 35 35]\n",
            " [38 55 56 40  0  0 40 31  4 35]\n",
            " [38 14 40  9 10 27 24 24 31  4]]\n"
          ]
        }
      ],
      "source": [
        "# Example: cast 4 random names to matrices, pad with zeros\n",
        "print(\"\\n\".join(names[::2000]))\n",
        "print(to_matrix(names[::2000]).T)"
      ]
    },
    {
      "cell_type": "markdown",
      "source": [],
      "metadata": {
        "id": "4Z-nx2laofxs"
      }
    },
    {
      "cell_type": "code",
      "execution_count": 12,
      "metadata": {
        "colab": {
          "base_uri": "https://localhost:8080/",
          "height": 452
        },
        "id": "NqJHEYDIVU4z",
        "outputId": "6aeba803-7a1b-4361-b8fb-d845ac88e0d8"
      },
      "outputs": [
        {
          "output_type": "execute_result",
          "data": {
            "text/plain": [
              "<matplotlib.collections.QuadMesh at 0x79a3803e3a90>"
            ]
          },
          "metadata": {},
          "execution_count": 12
        },
        {
          "output_type": "display_data",
          "data": {
            "text/plain": [
              "<Figure size 640x480 with 1 Axes>"
            ],
            "image/png": "[encoded data removed]"
          },
          "metadata": {}
        }
      ],
      "source": [
        "plt.pcolormesh(to_matrix(names[::2000]).T == token_to_id[pad_token])"
      ]
    },
    {
      "cell_type": "markdown",
      "metadata": {
        "id": "DfZTqvQ9THbo"
      },
      "source": [
        "# Recurrent neural network\n",
        "\n",
        "We can rewrite recurrent neural network as a consecutive application of dense layer to input $x_t$ and previous rnn state $h_t$. This is exactly what we're gonna do now.\n",
        "<img src=\"https://github.com/girafe-ai/ml-course/blob/23f_msu_dl/week0_05_embeddings_and_seq2seq/rnn.png?raw=1\" width=480>\n",
        "\n",
        "Since we're training a language model, there should also be:\n",
        "* An embedding layer that converts character id x_t to a vector.\n",
        "* An output layer that predicts probabilities of next phoneme"
      ]
    },
    {
      "cell_type": "code",
      "execution_count": 13,
      "metadata": {
        "id": "YK1p8YNRTHbo"
      },
      "outputs": [],
      "source": [
        "import torch, torch.nn as nn\n",
        "import torch.nn.functional as F"
      ]
    },
    {
      "cell_type": "code",
      "execution_count": 14,
      "metadata": {
        "id": "l0gRUi-1THbp"
      },
      "outputs": [],
      "source": [
        "class CharRNNCell(nn.Module):\n",
        "    \"\"\"\n",
        "    Implement the scheme above as torch module\n",
        "    \"\"\"\n",
        "\n",
        "    def __init__(self, num_tokens=len(tokens), embedding_size=16, rnn_num_units=64):\n",
        "        super(self.__class__, self).__init__()\n",
        "        self.num_units = rnn_num_units\n",
        "\n",
        "        self.embedding = nn.Embedding(num_tokens, embedding_size)\n",
        "        self.rnn_update = nn.Linear(embedding_size + rnn_num_units, rnn_num_units)\n",
        "        self.rnn_to_logits = nn.Linear(rnn_num_units, num_tokens)\n",
        "\n",
        "    def forward(self, x, h_prev):\n",
        "        \"\"\"\n",
        "        This method computes h_next(x, h_prev) and log P(x_next | h_next)\n",
        "        We'll call it repeatedly to produce the whole sequence.\n",
        "\n",
        "        :param x: batch of character ids, containing vector of int64\n",
        "        :param h_prev: previous rnn hidden states, containing matrix [batch, rnn_num_units] of float32\n",
        "        \"\"\"\n",
        "        # get vector embedding of x\n",
        "        x_emb = self.embedding(x)\n",
        "\n",
        "        # compute next hidden state using self.rnn_update\n",
        "        # hint: use torch.cat(..., dim=...) for concatenation\n",
        "        x_and_h = torch.cat([x_emb, h_prev], dim=-1)  # YOUR CODE HERE\n",
        "        h_next = self.rnn_update(x_and_h)  # YOUR CODE HERE\n",
        "\n",
        "        h_next = torch.tanh(h_next)  # YOUR CODE HERE\n",
        "\n",
        "        assert h_next.size() == h_prev.size()\n",
        "\n",
        "        # compute logits for next character probs\n",
        "        logits = self.rnn_to_logits(h_next)  # YOUR CODE\n",
        "\n",
        "        return h_next, logits\n",
        "\n",
        "    def initial_state(self, batch_size):\n",
        "        \"\"\"return rnn state before it processes first input (aka h0)\"\"\"\n",
        "        return torch.zeros(batch_size, self.num_units, requires_grad=True)"
      ]
    },
    {
      "cell_type": "code",
      "execution_count": 15,
      "metadata": {
        "id": "7NtCo1CTTHbp"
      },
      "outputs": [],
      "source": [
        "char_rnn = CharRNNCell()"
      ]
    },
    {
      "cell_type": "markdown",
      "metadata": {
        "id": "xq9kjqkNTHbp"
      },
      "source": [
        "### RNN loop\n",
        "\n",
        "Once we've defined a single RNN step, we can apply it in a loop to get predictions on each step."
      ]
    },
    {
      "cell_type": "code",
      "execution_count": 16,
      "metadata": {
        "id": "d0oZFCaiTHbp"
      },
      "outputs": [],
      "source": [
        "def rnn_loop(char_rnn, batch_ix):\n",
        "    \"\"\"\n",
        "    Computes log P(next_character) for all time-steps in names_ix\n",
        "    :param names_ix: an int32 matrix of shape [batch, time], output of to_matrix(names)\n",
        "    \"\"\"\n",
        "    max_length, batch_size = batch_ix.size()\n",
        "    hid_state = char_rnn.initial_state(batch_size)\n",
        "    all_logits = []\n",
        "\n",
        "    for x_t in batch_ix:\n",
        "        hid_state, logits_next = char_rnn(\n",
        "            x_t, hid_state\n",
        "        )  # <-- here we call your one-step code\n",
        "        all_logits.append(logits_next)\n",
        "\n",
        "    return torch.stack(all_logits, dim=1)"
      ]
    },
    {
      "cell_type": "code",
      "execution_count": 17,
      "metadata": {
        "id": "xQYRCPb-THbp"
      },
      "outputs": [],
      "source": [
        "batch_ix = to_matrix(names[:5])\n",
        "batch_ix = torch.tensor(batch_ix, dtype=torch.int64)\n",
        "\n",
        "all_logits = rnn_loop(char_rnn, batch_ix)"
      ]
    },
    {
      "cell_type": "code",
      "execution_count": 18,
      "metadata": {
        "colab": {
          "base_uri": "https://localhost:8080/"
        },
        "id": "7CIPmGD4XTCk",
        "outputId": "c68476ed-58de-4ba4-e853-b768ac448608"
      },
      "outputs": [
        {
          "output_type": "execute_result",
          "data": {
            "text/plain": [
              "torch.Size([5, 9, 58])"
            ]
          },
          "metadata": {},
          "execution_count": 18
        }
      ],
      "source": [
        "all_logits.shape"
      ]
    },
    {
      "cell_type": "markdown",
      "metadata": {
        "id": "dUzxXWOGTHbq"
      },
      "source": [
        "### Likelihood and gradients\n",
        "\n",
        "We can now train our neural network to minimize crossentropy (maximize log-likelihood) with the actual next tokens.\n",
        "\n",
        "To do so in a vectorized manner, we take `batch_ix[:, 1:]` - a matrix of token ids shifted i step to the left so i-th element is acutally the \"next token\" for i-th prediction"
      ]
    },
    {
      "cell_type": "code",
      "execution_count": 20,
      "metadata": {
        "id": "7LD2jD0TX7Nx"
      },
      "outputs": [],
      "source": [
        "loss_func = nn.CrossEntropyLoss(ignore_index=token_to_id[pad_token])\n",
        "actual_next_tokens = batch_ix[1:, :].T\n",
        "\n",
        "pred_logits = all_logits[:, :-1, :]\n",
        "pred_logits_flattened = pred_logits.reshape(\n",
        "    (pred_logits.shape[0] * pred_logits.shape[1], -1)\n",
        ")\n",
        "actual_next_tokens_flattened = actual_next_tokens.reshape(-1)"
      ]
    },
    {
      "cell_type": "code",
      "execution_count": 21,
      "metadata": {
        "colab": {
          "base_uri": "https://localhost:8080/"
        },
        "id": "cDL9SpHFY9QS",
        "outputId": "8cb8206e-3ba9-4166-f734-776f437c4dba"
      },
      "outputs": [
        {
          "output_type": "stream",
          "name": "stdout",
          "text": [
            "torch.Size([40, 58])\n",
            "torch.Size([40])\n"
          ]
        }
      ],
      "source": [
        "print(pred_logits_flattened.shape)\n",
        "print(actual_next_tokens_flattened.shape)"
      ]
    },
    {
      "cell_type": "code",
      "execution_count": 22,
      "metadata": {
        "id": "yuUfJdibY1ae"
      },
      "outputs": [],
      "source": [
        "loss = loss_func(pred_logits_flattened, actual_next_tokens_flattened)"
      ]
    },
    {
      "cell_type": "code",
      "execution_count": 23,
      "metadata": {
        "id": "6dG9M9G6THbq"
      },
      "outputs": [],
      "source": [
        "loss.backward()"
      ]
    },
    {
      "cell_type": "code",
      "execution_count": 24,
      "metadata": {
        "id": "2A8htDtOTHbq"
      },
      "outputs": [],
      "source": [
        "for w in char_rnn.parameters():\n",
        "    assert w.grad is not None and torch.max(torch.abs(w.grad)).data.numpy() != 0, (\n",
        "        \"Loss is not differentiable w.r.t. a weight with shape %s. Check forward method.\"\n",
        "        % (w.size(),)\n",
        "    )"
      ]
    },
    {
      "cell_type": "markdown",
      "metadata": {
        "id": "aBoWzFWpTHbq"
      },
      "source": [
        "### The training loop\n",
        "\n",
        "We train our char-rnn exactly the same way we train any deep learning model: by minibatch sgd.\n",
        "\n",
        "The only difference is that this time we sample strings, not images or sound."
      ]
    },
    {
      "cell_type": "code",
      "execution_count": 25,
      "metadata": {
        "id": "nlUGwL6RTHbq"
      },
      "outputs": [],
      "source": [
        "from IPython.display import clear_output\n",
        "from random import sample\n",
        "\n",
        "char_rnn = CharRNNCell()\n",
        "opt = torch.optim.Adam(char_rnn.parameters())\n",
        "history = []"
      ]
    },
    {
      "cell_type": "code",
      "execution_count": 26,
      "metadata": {
        "colab": {
          "base_uri": "https://localhost:8080/",
          "height": 430
        },
        "id": "eatwHADITHbr",
        "outputId": "bffea968-1cd0-494c-de90-3e163a09104c"
      },
      "outputs": [
        {
          "output_type": "display_data",
          "data": {
            "text/plain": [
              "<Figure size 640x480 with 1 Axes>"
            ],
            "image/png": "[encoded data removed]"
          },
          "metadata": {}
        }
      ],
      "source": [
        "MAX_LENGTH = 16\n",
        "\n",
        "for i in range(1000):\n",
        "    opt.zero_grad()\n",
        "    batch_ix = to_matrix(sample(names, 32), max_len=MAX_LENGTH)\n",
        "    batch_ix = torch.tensor(batch_ix, dtype=torch.int64)\n",
        "\n",
        "    all_logits = rnn_loop(char_rnn, batch_ix)\n",
        "\n",
        "    # compute loss\n",
        "    # <YOUR CODE>\n",
        "    actual_next_tokens = batch_ix[1:, :].T\n",
        "\n",
        "    pred_logits = all_logits[:, :-1, :]\n",
        "    pred_logits_flattened = pred_logits.reshape(\n",
        "        (pred_logits.shape[0] * pred_logits.shape[1], -1)\n",
        "    )\n",
        "    actual_next_tokens_flattened = actual_next_tokens.reshape(-1)\n",
        "    loss = loss_func(pred_logits_flattened, actual_next_tokens_flattened)\n",
        "    # train with backprop\n",
        "    loss.backward()\n",
        "    opt.step()\n",
        "    # <YOUR CODE>\n",
        "\n",
        "    history.append(loss.item())\n",
        "    if (i + 1) % 100 == 0:\n",
        "        clear_output(True)\n",
        "        plt.plot(history, label=\"loss\")\n",
        "        plt.legend()\n",
        "        plt.show()\n",
        "\n",
        "assert np.mean(history[:10]) > np.mean(history[-10:]), \"RNN didn't converge.\""
      ]
    },
    {
      "cell_type": "markdown",
      "metadata": {
        "id": "cKG4Bne6THbr"
      },
      "source": [
        "### RNN: sampling\n",
        "Once we've trained our network a bit, let's get to actually generating stuff.\n",
        "All we need is the single rnn step function you have defined in `char_rnn.forward`."
      ]
    },
    {
      "cell_type": "code",
      "execution_count": 27,
      "metadata": {
        "id": "iHKCJg29THbr"
      },
      "outputs": [],
      "source": [
        "def generate_sample(\n",
        "    char_rnn, seed_phrase=\"<\", max_length=MAX_LENGTH, temperature=1.0, pretty_print=True\n",
        "):\n",
        "    \"\"\"\n",
        "    The function generates text given a phrase of length at least SEQ_LENGTH.\n",
        "    :param seed_phrase: prefix characters. The RNN is asked to continue the phrase\n",
        "    :param max_length: maximum output length, including seed_phrase\n",
        "    :param temperature: coefficient for sampling.  higher temperature produces more chaotic outputs,\n",
        "                        smaller temperature converges to the single most likely output\n",
        "    \"\"\"\n",
        "\n",
        "    x_sequence = [token_to_id[token] for token in seed_phrase]\n",
        "    x_sequence = torch.tensor([x_sequence], dtype=torch.int64)\n",
        "    hid_state = char_rnn.initial_state(batch_size=1)\n",
        "\n",
        "    # feed the seed phrase, if any\n",
        "    for i in range(len(seed_phrase) - 1):\n",
        "        hid_state, _ = char_rnn(x_sequence[:, i], hid_state)\n",
        "\n",
        "    # start generating\n",
        "    for _ in range(max_length - len(seed_phrase)):\n",
        "        hid_state, logits_next = char_rnn(x_sequence[:, -1], hid_state)\n",
        "        p_next = F.softmax(logits_next / temperature, dim=-1).data.numpy()[0]\n",
        "\n",
        "        # sample next token and push it back into x_sequence\n",
        "        next_ix = np.random.choice(num_tokens, p=p_next)\n",
        "        next_ix = torch.tensor([[next_ix]], dtype=torch.int64)\n",
        "        x_sequence = torch.cat([x_sequence, next_ix], dim=1)\n",
        "    output = \"\".join([tokens[ix] for ix in x_sequence.data.numpy()[0]])\n",
        "    if pretty_print:\n",
        "        output = output.split(\">\")[0][1:]\n",
        "    return output"
      ]
    },
    {
      "cell_type": "code",
      "execution_count": 39,
      "metadata": {
        "colab": {
          "base_uri": "https://localhost:8080/"
        },
        "id": "cpsTKRULTHbr",
        "outputId": "6b891506-ba53-406a-e44a-b8bcd7bed693"
      },
      "outputs": [
        {
          "output_type": "stream",
          "name": "stdout",
          "text": [
            "BaC\n",
            "wIoWwnsdy\n",
            "H-Nkudorinhhd\n",
            "CelwfUeZ\n",
            "NzorFhaeDmhy\n",
            "Qqnexhe\n",
            "DLoed\n",
            "LDFl\n",
            "TosFadesYtpkVkd\n",
            "Kurtfmarl'ov\n"
          ]
        }
      ],
      "source": [
        "for _ in range(10):\n",
        "    print(generate_sample(char_rnn, temperature=2.5))"
      ]
    },
    {
      "cell_type": "code",
      "execution_count": 29,
      "metadata": {
        "colab": {
          "base_uri": "https://localhost:8080/"
        },
        "id": "di7AHZDMTHbr",
        "outputId": "6523ced7-54a9-4e57-91c1-ec91d1144024"
      },
      "outputs": [
        {
          "output_type": "stream",
          "name": "stdout",
          "text": [
            "AAASJAAl\n",
            "AAASJAAda\n",
            "AAASJAAlinqo\n",
            "AAASJAAlet\n",
            "AAASJAAn\n",
            "AAASJAAner\n",
            "AAASJAAly\n",
            "AAASJAAleil\n",
            "AAASJAAnyllm\n",
            "AAASJAAna\n",
            "AAASJAAn\n",
            "AAASJAA\n",
            "AAASJAAsh\n",
            "AAASJAAgere\n",
            "AAASJAAne\n",
            "AAASJAAce\n",
            "AAASJAAgtafa\n",
            "AAASJAAna\n",
            "AAASJAAC\n",
            "AAASJAA\n",
            "AAASJAAni\n",
            "AAASJAAnn\n",
            "AAASJAAlinal\n",
            "AAASJAAtty\n",
            "AAASJAAndan\n",
            "AAASJAAlle\n",
            "AAASJAAlon\n",
            "AAASJAAnna\n",
            "AAASJAAl\n",
            "AAASJAAsiaZ\n",
            "AAASJAArly\n",
            "AAASJAAno\n",
            "AAASJAAne\n",
            "AAASJAAttond\n",
            "AAASJAA\n",
            "AAASJAAlelt\n",
            "AAASJAArton\n",
            "AAASJAAbie\n",
            "AAASJAAngyllie\n",
            "AAASJAAta\n",
            "AAASJAArry\n",
            "AAASJAAnna\n",
            "AAASJAAne\n",
            "AAASJAAna\n",
            "AAASJAArio\n",
            "AAASJAAsta\n",
            "AAASJAAnerti\n",
            "AAASJAA\n",
            "AAASJAAlen\n",
            "AAASJAAlle\n"
          ]
        }
      ],
      "source": [
        "for _ in range(50):\n",
        "    print(generate_sample(char_rnn, seed_phrase=\"<AAASJAA\"))"
      ]
    }
  ],
  "metadata": {
    "colab": {
      "provenance": []
    },
    "kernelspec": {
      "display_name": "Python 3",
      "language": "python",
      "name": "python3"
    },
    "language_info": {
      "codemirror_mode": {
        "name": "ipython",
        "version": 3
      },
      "file_extension": ".py",
      "mimetype": "text/x-python",
      "name": "python",
      "nbconvert_exporter": "python",
      "pygments_lexer": "ipython3",
      "version": "3.7.3"
    }
  },
  "nbformat": 4,
  "nbformat_minor": 0
}