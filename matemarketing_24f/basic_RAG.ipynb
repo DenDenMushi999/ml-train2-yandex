{
  "cells": [
    {
      "cell_type": "markdown",
      "id": "d67a4729-cd2f-47e7-a4f6-f84a5677414f",
      "metadata": {
        "id": "d67a4729-cd2f-47e7-a4f6-f84a5677414f"
      },
      "source": [
        "# Basic RAG\n",
        "*Credits: example is based on tutorial by Mistral.ai team https://github.com/mistralai/cookbook*\n",
        "![](https://github.com/mistralai/cookbook/blob/main/images/rag.png?raw=1)\n",
        "\n",
        "Retrieval-augmented generation (RAG) is an AI framework that synergizes the capabilities of LLMs and information retrieval systems. It’s useful to answer questions or generate content leveraging external knowledge. There are two main steps in RAG: 1) retrieval: retrieve relevant information from a knowledge base with text embeddings stored in a vector store; 2) generation: insert the relevant information to the prompt for the LLM to generate information. In this guide, we will walk through a very basic example of RAG with four implementations:\n",
        "\n",
        "- RAG from scratch with Mistral\n",
        "- RAG with Mistral and LangChain\n",
        "- RAG with Mistral and LlamaIndex\n",
        "- RAG with Mistral and Haystack\n",
        "\n",
        "## RAG from scratch\n",
        "\n",
        "This section aims to guide you through the process of building a basic RAG from scratch. We have two goals: firstly, to offer users a comprehensive understanding of the internal workings of RAG and demystify the underlying mechanisms; secondly, to empower you with the essential foundations needed to build an RAG using the minimum required dependencies.\n",
        "\n",
        "\n",
        "### Import needed packages\n",
        "The first step is to install the needed packages `mistralai` and `faiss-cpu` and import the needed packages:\n",
        "\n"
      ]
    },
    {
      "cell_type": "code",
      "execution_count": 2,
      "id": "b880d1ed-3db0-45a1-807e-1b47e9ce1320",
      "metadata": {
        "colab": {
          "base_uri": "https://localhost:8080/"
        },
        "id": "b880d1ed-3db0-45a1-807e-1b47e9ce1320",
        "outputId": "30dae5cc-900f-499c-e5df-ddfb6fe01bde"
      },
      "outputs": [],
      "source": [
        "! pip install faiss-cpu==1.7.4 mistralai"
      ]
    },
    {
      "cell_type": "code",
      "execution_count": 2,
      "id": "851612c3-ee93-42e3-a1fb-481f89c9410f",
      "metadata": {
        "colab": {
          "base_uri": "https://localhost:8080/"
        },
        "id": "851612c3-ee93-42e3-a1fb-481f89c9410f",
        "outputId": "cecddb4c-8631-4098-d985-586d199f687e"
      },
      "outputs": [
        {
          "name": "stdout",
          "output_type": "stream",
          "text": [
            "Type your API Key··········\n"
          ]
        }
      ],
      "source": [
        "from mistralai import Mistral\n",
        "import requests\n",
        "import numpy as np\n",
        "import faiss\n",
        "import os\n",
        "from getpass import getpass\n",
        "\n",
        "api_key = getpass(\"Type your API Key\")\n",
        "client = Mistral(api_key=api_key)"
      ]
    },
    {
      "cell_type": "markdown",
      "id": "aad1aa61-9e1c-46c8-ae5e-61855df440f9",
      "metadata": {
        "id": "aad1aa61-9e1c-46c8-ae5e-61855df440f9"
      },
      "source": [
        "## Get data and split document into chunks\n",
        "\n",
        "In a RAG system, it is crucial to split the document into smaller chunks so that it’s more effective to identify and retrieve the most relevant information in the retrieval process later. In this example, we simply split our text by character, combine 2048 characters into each chunk, and we get 37 chunks."
      ]
    },
    {
      "cell_type": "code",
      "execution_count": 50,
      "id": "J4CFRZetfkyK",
      "metadata": {
        "id": "J4CFRZetfkyK"
      },
      "outputs": [],
      "source": [
        "import nltk"
      ]
    },
    {
      "cell_type": "code",
      "execution_count": 51,
      "id": "9it6UL4KgAhE",
      "metadata": {
        "colab": {
          "base_uri": "https://localhost:8080/"
        },
        "id": "9it6UL4KgAhE",
        "outputId": "34d36e43-2e6d-498d-e368-a5b9d1605e1b"
      },
      "outputs": [
        {
          "name": "stdout",
          "output_type": "stream",
          "text": [
            "--2024-10-02 18:31:33--  https://raw.githubusercontent.com/neychev/small_DL_repo/refs/heads/master/datasets/onegin.txt\n",
            "Resolving raw.githubusercontent.com (raw.githubusercontent.com)... 185.199.109.133, 185.199.110.133, 185.199.108.133, ...\n",
            "Connecting to raw.githubusercontent.com (raw.githubusercontent.com)|185.199.109.133|:443... connected.\n",
            "HTTP request sent, awaiting response... 200 OK\n",
            "Length: 262521 (256K) [text/plain]\n",
            "Saving to: ‘onegin.txt’\n",
            "\n",
            "onegin.txt          100%[===================>] 256.37K  --.-KB/s    in 0.04s   \n",
            "\n",
            "2024-10-02 18:31:33 (6.77 MB/s) - ‘onegin.txt’ saved [262521/262521]\n",
            "\n"
          ]
        }
      ],
      "source": [
        "!wget https://raw.githubusercontent.com/neychev/small_DL_repo/refs/heads/master/datasets/onegin.txt"
      ]
    },
    {
      "cell_type": "code",
      "execution_count": 54,
      "id": "wPyTPKyzgH6P",
      "metadata": {
        "id": "wPyTPKyzgH6P"
      },
      "outputs": [],
      "source": [
        "with open(\"onegin.txt\", \"r\") as iofile:\n",
        "    text_raw = iofile.readlines()"
      ]
    },
    {
      "cell_type": "code",
      "execution_count": 56,
      "id": "bmoe1DnYgSU0",
      "metadata": {
        "id": "bmoe1DnYgSU0"
      },
      "outputs": [],
      "source": [
        "text = \"\\n\".join([x.strip() for x in text_raw if len(x.strip()) > 0])"
      ]
    },
    {
      "cell_type": "code",
      "execution_count": 57,
      "id": "O3isK2aFgpVh",
      "metadata": {
        "colab": {
          "base_uri": "https://localhost:8080/"
        },
        "id": "O3isK2aFgpVh",
        "outputId": "5eae73dc-aa8b-49e6-c532-63dac2b07904"
      },
      "outputs": [
        {
          "name": "stdout",
          "output_type": "stream",
          "text": [
            "I\n",
            "«Мой дядя самых честных правил,\n",
            "Когда не в шутку занемог,\n",
            "Он уважать себя заставил\n",
            "И лучше выдумать не мог.\n",
            "Его пример другим наука;\n",
            "Но, боже мой, какая скука\n",
            "С больным сидеть и день и ночь,\n",
            "Не отхо\n"
          ]
        }
      ],
      "source": [
        "print(text[:200])"
      ]
    },
    {
      "cell_type": "code",
      "execution_count": 64,
      "id": "1ENG-OTzfj7A",
      "metadata": {
        "id": "1ENG-OTzfj7A"
      },
      "outputs": [],
      "source": [
        "tokenized_sentences = nltk.sent_tokenize(text, language=\"russian\")"
      ]
    },
    {
      "cell_type": "code",
      "execution_count": 65,
      "id": "vXwV4GuUhVQu",
      "metadata": {
        "id": "vXwV4GuUhVQu"
      },
      "outputs": [],
      "source": [
        "max_length = 1000"
      ]
    },
    {
      "cell_type": "code",
      "execution_count": 66,
      "id": "DDZ6bkOugva3",
      "metadata": {
        "id": "DDZ6bkOugva3"
      },
      "outputs": [],
      "source": [
        "chunks = []\n",
        "current_chunk = \"\"\n",
        "for sentence in tokenized_sentences:\n",
        "    if len(current_chunk) + len(sentence) + 1 <= max_length:\n",
        "        current_chunk += \" \" + sentence\n",
        "    else:\n",
        "        if current_chunk:\n",
        "            chunks.append(current_chunk.strip())\n",
        "        current_chunk = sentence\n",
        "if current_chunk:\n",
        "    chunks.append(current_chunk.strip())"
      ]
    },
    {
      "cell_type": "code",
      "execution_count": 68,
      "id": "ALxWSwjphY3Z",
      "metadata": {
        "colab": {
          "base_uri": "https://localhost:8080/"
        },
        "id": "ALxWSwjphY3Z",
        "outputId": "7cbd3319-9856-4c3c-853b-c1271cffbf96"
      },
      "outputs": [
        {
          "name": "stdout",
          "output_type": "stream",
          "text": [
            "I\n",
            "«Мой дядя самых честных правил,\n",
            "Когда не в шутку занемог,\n",
            "Он уважать себя заставил\n",
            "И лучше выдумать не мог. Его пример другим наука;\n",
            "Но, боже мой, какая скука\n",
            "С больным сидеть и день и ночь,\n",
            "Не отходя ни шагу прочь! Какое низкое коварство\n",
            "Полуживого забавлять,\n",
            "Ему подушки поправлять,\n",
            "Печально подносить лекарство,\n",
            "Вздыхать и думать про себя:\n",
            "Когда же черт возьмет тебя!»\n",
            "II\n",
            "Так думал молодой повеса,\n",
            "Летя в пыли на почтовых,\n",
            "Всевышней волею Зевеса\n",
            "Наследник всех своих родных. —\n",
            "Друзья Людмилы и Руслана! С героем моего романа\n",
            "Без предисловий, сей же час\n",
            "Позвольте познакомить вас:\n",
            "Онегин, добрый мой приятель,\n",
            "Родился на брегах Невы,\n",
            "Где, может быть, родились вы\n",
            "Или блистали, мой читатель;\n",
            "Там некогда гулял и я:\n",
            "Но вреден север для меня\n",
            "III\n",
            "Служив отлично-благородно,\n",
            "Долгами жил его отец,\n",
            "Давал три бала ежегодно\n",
            "И промотался наконец. Судьба Евгения хранила:\n",
            "Сперва Madame за ним ходила,\n",
            "Потом Monsieur ее сменил;\n",
            "Ребенок был резов, но мил.\n"
          ]
        }
      ],
      "source": [
        "print(chunks[0])"
      ]
    },
    {
      "cell_type": "markdown",
      "id": "4176cbe3-9b15-4d17-afb1-665011d09bb7",
      "metadata": {
        "id": "4176cbe3-9b15-4d17-afb1-665011d09bb7"
      },
      "source": [
        "#### Considerations:\n",
        "- **Chunk size**: Depending on your specific use case, it may be necessary to customize or experiment with different chunk sizes and chunk overlap to achieve optimal performance in RAG. For example, smaller chunks can be more beneficial in retrieval processes, as larger text chunks often contain filler text that can obscure the semantic representation. As such, using smaller text chunks in the retrieval process can enable the RAG system to identify and extract relevant information more effectively and accurately.  However, it’s worth considering the trade-offs that come with using smaller chunks, such as increasing processing time and computational resources.\n",
        "- **How to split**: While the simplest method is to split the text by character, there are other options depending on the use case and document structure. For example, to avoid exceeding token limits in API calls, it may be necessary to split the text by tokens. To maintain the cohesiveness of the chunks, it can be useful to split the text by sentences, paragraphs, or HTML headers. If working with code, it’s often recommended to split by meaningful code chunks for example using an Abstract Syntax Tree (AST) parser.\n",
        "\n",
        "\n",
        "### Create embeddings for each text chunk\n",
        "For each text chunk, we then need to create text embeddings, which are numeric representations of the text in the vector space. Words with similar meanings are expected to be in closer proximity or have a shorter distance in the vector space.\n",
        "To create an embedding, use Mistral’s embeddings API endpoint and the embedding model `mistral-embed`. We create a `get_text_embedding` to get the embedding from a single text chunk and then we use list comprehension to get text embeddings for all text chunks.\n"
      ]
    },
    {
      "cell_type": "code",
      "execution_count": 70,
      "id": "e77d9805-7a53-4210-9f80-f4de52285588",
      "metadata": {
        "id": "e77d9805-7a53-4210-9f80-f4de52285588"
      },
      "outputs": [],
      "source": [
        "def get_text_embedding(input):\n",
        "    embeddings_batch_response = client.embeddings.create(\n",
        "        model=\"mistral-embed\", inputs=input\n",
        "    )\n",
        "    return embeddings_batch_response.data[0].embedding"
      ]
    },
    {
      "cell_type": "code",
      "execution_count": 71,
      "id": "kol56_SsYAoh",
      "metadata": {
        "id": "kol56_SsYAoh"
      },
      "outputs": [],
      "source": [
        "import time"
      ]
    },
    {
      "cell_type": "code",
      "execution_count": 72,
      "id": "HtFEUIqlYbEo",
      "metadata": {
        "id": "HtFEUIqlYbEo"
      },
      "outputs": [],
      "source": [
        "embed_list = []"
      ]
    },
    {
      "cell_type": "code",
      "execution_count": 1,
      "id": "46503830-6ad5-493e-a629-152721e2d88e",
      "metadata": {
        "colab": {
          "base_uri": "https://localhost:8080/",
          "height": 350,
          "referenced_widgets": [
            "703f1071fe3d4008bec996de5e51897f",
            "7446e3002a6d49c2ab9d5f745da46743",
            "c100ed88f12d4b6aa085c6a1f398c195",
            "41f93f3e8d7443a3b67417e1877ebf0d",
            "eaa26e11e4f04a2ebb1a593188921d9a",
            "e23e94a9628542aeab15c0efd02b67c5",
            "297eaa500840495dae0714f5739ef68a",
            "4fcca29b093e4346ad89b5458fe3727c",
            "d30b28dcdd294c7f8945504792684d4d",
            "39ec764836bb4196933da4d44671ee66",
            "64ec6ba2010f4553ac06878e8ae80d23"
          ]
        },
        "id": "46503830-6ad5-493e-a629-152721e2d88e",
        "outputId": "237f2ade-2a4f-4c50-fd09-f090eb4cd75f"
      },
      "outputs": [],
      "source": [
        "for chunk in tqdma(chunks[len(embed_list) :]):\n",
        "    embed_list.append(get_text_embedding(chunk))\n",
        "    time.sleep(1.5)"
      ]
    },
    {
      "cell_type": "code",
      "execution_count": 74,
      "id": "bZkZO7OQYp7P",
      "metadata": {
        "id": "bZkZO7OQYp7P"
      },
      "outputs": [],
      "source": [
        "text_embeddings = np.array(embed_list)"
      ]
    },
    {
      "cell_type": "code",
      "execution_count": 75,
      "id": "ca875993-fe6d-42df-811e-a43891cd0350",
      "metadata": {
        "colab": {
          "base_uri": "https://localhost:8080/"
        },
        "id": "ca875993-fe6d-42df-811e-a43891cd0350",
        "outputId": "40030db2-bf97-4708-fa44-7f883ff5cc25"
      },
      "outputs": [
        {
          "data": {
            "text/plain": [
              "(25, 1024)"
            ]
          },
          "execution_count": 75,
          "metadata": {},
          "output_type": "execute_result"
        }
      ],
      "source": [
        "text_embeddings.shape"
      ]
    },
    {
      "cell_type": "markdown",
      "id": "1cba33c7-9d1d-44d8-a01e-e30f16be1aac",
      "metadata": {
        "id": "1cba33c7-9d1d-44d8-a01e-e30f16be1aac"
      },
      "source": [
        "### Load into a vector database\n",
        "Once we get the text embeddings, a common practice is to store them in a vector database for efficient processing and retrieval. There are several vector database to choose from. In our simple example, we are using an open-source vector database Faiss, which allows for efficient similarity search.  \n",
        "\n",
        "With Faiss, we instantiate an instance of the Index class, which defines the indexing structure of the vector database. We then add the text embeddings to this indexing structure.\n"
      ]
    },
    {
      "cell_type": "code",
      "execution_count": 76,
      "id": "6a5b1877-b113-4527-9055-cae9049fef08",
      "metadata": {
        "id": "6a5b1877-b113-4527-9055-cae9049fef08"
      },
      "outputs": [],
      "source": [
        "d = text_embeddings.shape[1]\n",
        "index = faiss.IndexFlatL2(d)\n",
        "index.add(text_embeddings)"
      ]
    },
    {
      "cell_type": "markdown",
      "id": "5ee023ab-b26c-4df5-8a7b-7dd660bfad86",
      "metadata": {
        "id": "5ee023ab-b26c-4df5-8a7b-7dd660bfad86"
      },
      "source": [
        "#### Considerations:\n",
        "- **Vector database**: When selecting a vector database, there are several factors to consider including speed, scalability, cloud management, advanced filtering, and open-source vs. closed-source.\n",
        "\n",
        "### Create embeddings for a question\n",
        "Whenever users ask a question, we also need to create embeddings for this question using the same embedding models as before.\n"
      ]
    },
    {
      "cell_type": "code",
      "execution_count": 77,
      "id": "894d9764-9da9-4629-8f2a-c9dcaf6ceb8d",
      "metadata": {
        "colab": {
          "base_uri": "https://localhost:8080/"
        },
        "id": "894d9764-9da9-4629-8f2a-c9dcaf6ceb8d",
        "outputId": "385d43e1-82e3-4d35-fa44-3e15c3bcab45"
      },
      "outputs": [
        {
          "data": {
            "text/plain": [
              "(1, 1024)"
            ]
          },
          "execution_count": 77,
          "metadata": {},
          "output_type": "execute_result"
        }
      ],
      "source": [
        "question = \"Что ел Евгений в ресторане?\"\n",
        "question_embeddings = np.array([get_text_embedding(question)])\n",
        "question_embeddings.shape"
      ]
    },
    {
      "cell_type": "code",
      "execution_count": 78,
      "id": "Yiq6qFFxZagR",
      "metadata": {
        "colab": {
          "base_uri": "https://localhost:8080/"
        },
        "id": "Yiq6qFFxZagR",
        "outputId": "526c5733-bc74-4837-caf1-75aa35a516e4"
      },
      "outputs": [
        {
          "data": {
            "text/plain": [
              "array([0.78836663, 0.79888681, 0.76348379, 0.790934  , 0.78910528,\n",
              "       0.81562656, 0.7685063 , 0.78843981, 0.78624877, 0.78812345,\n",
              "       0.75959841, 0.77016986, 0.78904237, 0.79210282, 0.77717381,\n",
              "       0.81304187, 0.75823373, 0.80236302, 0.77026705, 0.80386935,\n",
              "       0.7472646 , 0.77184632, 0.74869756, 0.81027778, 0.79531215])"
            ]
          },
          "execution_count": 78,
          "metadata": {},
          "output_type": "execute_result"
        }
      ],
      "source": [
        "question_embeddings[0].dot(text_embeddings.T)"
      ]
    },
    {
      "cell_type": "markdown",
      "id": "15989e10-d0ec-41be-b6be-fa317565a926",
      "metadata": {
        "id": "15989e10-d0ec-41be-b6be-fa317565a926"
      },
      "source": [
        "#### Considerations:\n",
        "- Hypothetical Document Embeddings (HyDE): In some cases, the user’s question might not be the most relevant query to use for identifying the relevant context. Instead, it maybe more effective to generate a hypothetical answer or a hypothetical document based on the user’s query and use the embeddings of the generated text to retrieve similar text chunks.\n",
        "\n",
        "### Retrieve similar chunks from the vector database\n",
        "We can perform a search on the vector database with `index.search`, which takes two arguments: the first is the vector of the question embeddings, and the second is the number of similar vectors to retrieve. This function returns the distances and the indices of the most similar vectors to the question vector in the vector database. Then based on the returned indices, we can retrieve the actual relevant text chunks that correspond to those indices.\n"
      ]
    },
    {
      "cell_type": "code",
      "execution_count": 79,
      "id": "xkHrpY1NZ-Nu",
      "metadata": {
        "colab": {
          "base_uri": "https://localhost:8080/"
        },
        "id": "xkHrpY1NZ-Nu",
        "outputId": "5ef209cc-914b-430b-bd67-804fc31e7b4d"
      },
      "outputs": [
        {
          "data": {
            "text/plain": [
              "array([ 5, 15, 23, 19, 17,  1, 24, 13,  3,  4, 12,  7,  0,  9,  8, 14, 21,\n",
              "       18, 11,  6,  2, 10, 16, 22, 20])"
            ]
          },
          "execution_count": 79,
          "metadata": {},
          "output_type": "execute_result"
        }
      ],
      "source": [
        "question_embeddings[0].dot(text_embeddings.T).argsort()[::-1]"
      ]
    },
    {
      "cell_type": "code",
      "execution_count": 80,
      "id": "c930b378-7aac-434c-881b-ab69d3edb93d",
      "metadata": {
        "colab": {
          "base_uri": "https://localhost:8080/"
        },
        "id": "c930b378-7aac-434c-881b-ab69d3edb93d",
        "outputId": "fa004dd3-9776-48c4-9798-a660aa173fe8"
      },
      "outputs": [
        {
          "name": "stdout",
          "output_type": "stream",
          "text": [
            "[[ 5 15]]\n"
          ]
        }
      ],
      "source": [
        "D, I = index.search(question_embeddings, k=2)\n",
        "print(I)"
      ]
    },
    {
      "cell_type": "code",
      "execution_count": 81,
      "id": "73aab584-1dbf-4532-b41e-0403eeeeb567",
      "metadata": {
        "colab": {
          "base_uri": "https://localhost:8080/"
        },
        "id": "73aab584-1dbf-4532-b41e-0403eeeeb567",
        "outputId": "fdadc2a1-c52d-4ce5-c96e-f2d7805b884d"
      },
      "outputs": [
        {
          "name": "stdout",
          "output_type": "stream",
          "text": [
            "['Покамест в утреннем уборе,\\nНадев широкий боливар\\nОнегин едет на бульвар,\\nИ там гуляет на просторе,\\nПока недремлющий брегет\\nНе прозвонит ему обед. XVI\\nУж темно: в санки он садится. «Пади, пади!» – раздался крик;\\nМорозной пылью серебрится\\nЕго бобровый воротник. К Talon помчался: он уверен,\\nЧто там уж ждет его Каверин. Вошел: и пробка в потолок,\\nВина кометы брызнул ток;\\nПред ним roast-beef окровавленный\\nИ трюфли, роскошь юных лет,\\nФранцузской кухни лучший цвет,\\nИ Страсбурга пирог нетленный\\nМеж сыром лимбургским живым\\nИ ананасом золотым. XVII\\nЕще бокалов жажда просит\\nЗалить горячий жир котлет,\\nНо звон брегета им доносит,\\nЧто новый начался балет. Театра злой законодатель,\\nНепостоянный обожатель\\nОчаровательных актрис,\\nПочетный гражданин кулис,\\nОнегин полетел к театру,\\nГде каждый, вольностью дыша,\\nГотов охлопать entrechat,\\nОбшикать Федру, Клеопатру,\\nМоину вызвать (для того,\\nЧтоб только слышали его). XVIII\\nВолшебный край!', 'Всех прежде вас оставил он;\\nИ правда то, что в наши лета\\nДовольно скучен высший тон;\\nХоть, может быть, иная дама\\nТолкует Сея и Бентама,\\nНо вообще их разговор\\nНесносный, хоть невинный вздор;\\nК тому ж они так непорочны,\\nТак величавы, так умны,\\nТак благочестия полны,\\nТак осмотрительны, так точны,\\nТак неприступны для мужчин,\\nЧто вид их уж рождает сплин. XLIII\\nИ вы, красотки молодые,\\nКоторых позднею порой\\nУносят дрожки удалые\\nПо петербургской мостовой,\\nИ вас покинул мой Евгений. Отступник бурных наслаждений,\\nОнегин дома заперся,\\nЗевая, за перо взялся,\\nХотел писать – но труд упорный\\nЕму был тошен; ничего\\nНе вышло из пера его,\\nИ не попал он в цех задорный\\nЛюдей, о коих не сужу,\\nЗатем, что к ним принадлежу.']\n"
          ]
        }
      ],
      "source": [
        "retrieved_chunk = [chunks[i] for i in I.tolist()[0]]\n",
        "print(retrieved_chunk)"
      ]
    },
    {
      "cell_type": "markdown",
      "id": "4b417a59-021a-411d-a491-cb31815192cd",
      "metadata": {
        "id": "4b417a59-021a-411d-a491-cb31815192cd"
      },
      "source": [
        "#### Considerations:\n",
        "- **Retrieval methods**: There are a lot different retrieval strategies. In our example, we are showing a simple similarity search with embeddings. Sometimes when there is metadata available for the data, it’s better to filter the data based on the metadata first before performing similarity search. There are also other statistical retrieval methods like TF-IDF and BM25 that use frequency and distribution of terms in the document to identify relevant text chunks.\n",
        "- **Retrieved document**: Do we always retrieve individual text chunk as it is? Not always.\n",
        "    - Sometimes, we would like to include more context around the actual retrieved text chunk. We call the actual retrieve text chunk “child chunk” and our goal is to retrieve a larger “parent chunk” that the “child chunk” belongs to.\n",
        "    - On occasion, we might also want to provide weights to our retrieve documents. For example, a time-weighted approach would help us retrieve the most recent document.\n",
        "    - One common issue in the retrieval process is the “lost in the middle” problem where the information in the middle of a long context gets lost. Our models have tried to mitigate this issue. For example, in the passkey task, our models have demonstrated the ability to find a \"needle in a haystack\" by retrieving a randomly inserted passkey within a long prompt, up to 32k context length. However, it is worth considering experimenting with reordering the document to determine if placing the most relevant chunks at the beginning and end leads to improved results.\n",
        "  \n",
        "### Combine context and question in a prompt and generate response\n",
        "\n",
        "Finally, we can offer the retrieved text chunks as the context information within the prompt. Here is a prompt template where we can include both the retrieved text and user question in the prompt.\n",
        "\n"
      ]
    },
    {
      "cell_type": "code",
      "execution_count": 86,
      "id": "da042a53-4564-4057-9a60-9b57dffff6a1",
      "metadata": {
        "id": "da042a53-4564-4057-9a60-9b57dffff6a1"
      },
      "outputs": [],
      "source": [
        "prompt = f\"\"\"\n",
        "Context information is below.\n",
        "---------------------\n",
        "{retrieved_chunk}\n",
        "---------------------\n",
        "Given the context information and not prior knowledge, answer the query.\n",
        "You must answer in Russian and your answer should be a bullet-item list.\n",
        "Query: {question}\n",
        "Answer:\n",
        "\"\"\""
      ]
    },
    {
      "cell_type": "code",
      "execution_count": 87,
      "id": "e77d975b-5f69-4e9c-8b94-97214517eac7",
      "metadata": {
        "id": "e77d975b-5f69-4e9c-8b94-97214517eac7"
      },
      "outputs": [],
      "source": [
        "def run_mistral(user_message, model=\"mistral-large-latest\"):\n",
        "    messages = [{\"role\": \"user\", \"content\": user_message}]\n",
        "    chat_response = client.chat.complete(model=model, messages=messages)\n",
        "    return (chat_response.choices[0].message.content, chat_response)"
      ]
    },
    {
      "cell_type": "code",
      "execution_count": 88,
      "id": "1c5c20aa-6673-4105-9c10-886a1e18da8a",
      "metadata": {
        "id": "1c5c20aa-6673-4105-9c10-886a1e18da8a"
      },
      "outputs": [],
      "source": [
        "output, full_response = run_mistral(prompt)"
      ]
    },
    {
      "cell_type": "code",
      "execution_count": 89,
      "id": "Z0SLuyMRiPqn",
      "metadata": {
        "colab": {
          "base_uri": "https://localhost:8080/"
        },
        "id": "Z0SLuyMRiPqn",
        "outputId": "7584f86f-ddf4-474e-f95b-f0ab49242e67"
      },
      "outputs": [
        {
          "name": "stdout",
          "output_type": "stream",
          "text": [
            "- Roast-beef окровавленный\n",
            "- Трюфли\n",
            "- Страсбурга пирог нетленный\n",
            "- Сыр лимбургский живой\n",
            "- Ананас золотой\n"
          ]
        }
      ],
      "source": [
        "print(output)"
      ]
    },
    {
      "cell_type": "markdown",
      "id": "4e3b531c-4730-4108-ae8a-8de6563e085b",
      "metadata": {
        "id": "4e3b531c-4730-4108-ae8a-8de6563e085b"
      },
      "source": [
        "#### Considerations:\n",
        "- Prompting techniques: Most of the prompting techniques can be used in developing a RAG system as well. For example, we can use few-shot learning to guide the model’s answers by providing a few examples. Additionally, we can explicitly instruct the model to format answers in a certain way.\n",
        "\n",
        "\n",
        "In the next sections, we are going to show you how to do a similar basic RAG with some of the popular RAG frameworks. We will start with LlamaIndex and add other frameworks in the future.\n"
      ]
    }
  ],
  "metadata": {
    "colab": {
      "provenance": []
    },
    "jupytext": {
      "formats": "ipynb,py:light"
    },
    "kernelspec": {
      "display_name": "Python 3 (ipykernel)",
      "language": "python",
      "name": "python3"
    },
    "language_info": {
      "codemirror_mode": {
        "name": "ipython",
        "version": 3
      },
      "file_extension": ".py",
      "mimetype": "text/x-python",
      "name": "python",
      "nbconvert_exporter": "python",
      "pygments_lexer": "ipython3",
      "version": "3.12.3"
    },
    "widgets": {
      "application/vnd.jupyter.widget-state+json": {
        "297eaa500840495dae0714f5739ef68a": {
          "model_module": "@jupyter-widgets/controls",
          "model_module_version": "1.5.0",
          "model_name": "DescriptionStyleModel",
          "state": {
            "_model_module": "@jupyter-widgets/controls",
            "_model_module_version": "1.5.0",
            "_model_name": "DescriptionStyleModel",
            "_view_count": null,
            "_view_module": "@jupyter-widgets/base",
            "_view_module_version": "1.2.0",
            "_view_name": "StyleView",
            "description_width": ""
          }
        },
        "39ec764836bb4196933da4d44671ee66": {
          "model_module": "@jupyter-widgets/base",
          "model_module_version": "1.2.0",
          "model_name": "LayoutModel",
          "state": {
            "_model_module": "@jupyter-widgets/base",
            "_model_module_version": "1.2.0",
            "_model_name": "LayoutModel",
            "_view_count": null,
            "_view_module": "@jupyter-widgets/base",
            "_view_module_version": "1.2.0",
            "_view_name": "LayoutView",
            "align_content": null,
            "align_items": null,
            "align_self": null,
            "border": null,
            "bottom": null,
            "display": null,
            "flex": null,
            "flex_flow": null,
            "grid_area": null,
            "grid_auto_columns": null,
            "grid_auto_flow": null,
            "grid_auto_rows": null,
            "grid_column": null,
            "grid_gap": null,
            "grid_row": null,
            "grid_template_areas": null,
            "grid_template_columns": null,
            "grid_template_rows": null,
            "height": null,
            "justify_content": null,
            "justify_items": null,
            "left": null,
            "margin": null,
            "max_height": null,
            "max_width": null,
            "min_height": null,
            "min_width": null,
            "object_fit": null,
            "object_position": null,
            "order": null,
            "overflow": null,
            "overflow_x": null,
            "overflow_y": null,
            "padding": null,
            "right": null,
            "top": null,
            "visibility": null,
            "width": null
          }
        },
        "41f93f3e8d7443a3b67417e1877ebf0d": {
          "model_module": "@jupyter-widgets/controls",
          "model_module_version": "1.5.0",
          "model_name": "HTMLModel",
          "state": {
            "_dom_classes": [],
            "_model_module": "@jupyter-widgets/controls",
            "_model_module_version": "1.5.0",
            "_model_name": "HTMLModel",
            "_view_count": null,
            "_view_module": "@jupyter-widgets/controls",
            "_view_module_version": "1.5.0",
            "_view_name": "HTMLView",
            "description": "",
            "description_tooltip": null,
            "layout": "IPY_MODEL_39ec764836bb4196933da4d44671ee66",
            "placeholder": "​",
            "style": "IPY_MODEL_64ec6ba2010f4553ac06878e8ae80d23",
            "value": " 25/158 [01:16&lt;05:59,  2.71s/it]"
          }
        },
        "4fcca29b093e4346ad89b5458fe3727c": {
          "model_module": "@jupyter-widgets/base",
          "model_module_version": "1.2.0",
          "model_name": "LayoutModel",
          "state": {
            "_model_module": "@jupyter-widgets/base",
            "_model_module_version": "1.2.0",
            "_model_name": "LayoutModel",
            "_view_count": null,
            "_view_module": "@jupyter-widgets/base",
            "_view_module_version": "1.2.0",
            "_view_name": "LayoutView",
            "align_content": null,
            "align_items": null,
            "align_self": null,
            "border": null,
            "bottom": null,
            "display": null,
            "flex": null,
            "flex_flow": null,
            "grid_area": null,
            "grid_auto_columns": null,
            "grid_auto_flow": null,
            "grid_auto_rows": null,
            "grid_column": null,
            "grid_gap": null,
            "grid_row": null,
            "grid_template_areas": null,
            "grid_template_columns": null,
            "grid_template_rows": null,
            "height": null,
            "justify_content": null,
            "justify_items": null,
            "left": null,
            "margin": null,
            "max_height": null,
            "max_width": null,
            "min_height": null,
            "min_width": null,
            "object_fit": null,
            "object_position": null,
            "order": null,
            "overflow": null,
            "overflow_x": null,
            "overflow_y": null,
            "padding": null,
            "right": null,
            "top": null,
            "visibility": null,
            "width": null
          }
        },
        "64ec6ba2010f4553ac06878e8ae80d23": {
          "model_module": "@jupyter-widgets/controls",
          "model_module_version": "1.5.0",
          "model_name": "DescriptionStyleModel",
          "state": {
            "_model_module": "@jupyter-widgets/controls",
            "_model_module_version": "1.5.0",
            "_model_name": "DescriptionStyleModel",
            "_view_count": null,
            "_view_module": "@jupyter-widgets/base",
            "_view_module_version": "1.2.0",
            "_view_name": "StyleView",
            "description_width": ""
          }
        },
        "703f1071fe3d4008bec996de5e51897f": {
          "model_module": "@jupyter-widgets/controls",
          "model_module_version": "1.5.0",
          "model_name": "HBoxModel",
          "state": {
            "_dom_classes": [],
            "_model_module": "@jupyter-widgets/controls",
            "_model_module_version": "1.5.0",
            "_model_name": "HBoxModel",
            "_view_count": null,
            "_view_module": "@jupyter-widgets/controls",
            "_view_module_version": "1.5.0",
            "_view_name": "HBoxView",
            "box_style": "",
            "children": [
              "IPY_MODEL_7446e3002a6d49c2ab9d5f745da46743",
              "IPY_MODEL_c100ed88f12d4b6aa085c6a1f398c195",
              "IPY_MODEL_41f93f3e8d7443a3b67417e1877ebf0d"
            ],
            "layout": "IPY_MODEL_eaa26e11e4f04a2ebb1a593188921d9a"
          }
        },
        "7446e3002a6d49c2ab9d5f745da46743": {
          "model_module": "@jupyter-widgets/controls",
          "model_module_version": "1.5.0",
          "model_name": "HTMLModel",
          "state": {
            "_dom_classes": [],
            "_model_module": "@jupyter-widgets/controls",
            "_model_module_version": "1.5.0",
            "_model_name": "HTMLModel",
            "_view_count": null,
            "_view_module": "@jupyter-widgets/controls",
            "_view_module_version": "1.5.0",
            "_view_name": "HTMLView",
            "description": "",
            "description_tooltip": null,
            "layout": "IPY_MODEL_e23e94a9628542aeab15c0efd02b67c5",
            "placeholder": "​",
            "style": "IPY_MODEL_297eaa500840495dae0714f5739ef68a",
            "value": " 16%"
          }
        },
        "c100ed88f12d4b6aa085c6a1f398c195": {
          "model_module": "@jupyter-widgets/controls",
          "model_module_version": "1.5.0",
          "model_name": "FloatProgressModel",
          "state": {
            "_dom_classes": [],
            "_model_module": "@jupyter-widgets/controls",
            "_model_module_version": "1.5.0",
            "_model_name": "FloatProgressModel",
            "_view_count": null,
            "_view_module": "@jupyter-widgets/controls",
            "_view_module_version": "1.5.0",
            "_view_name": "ProgressView",
            "bar_style": "danger",
            "description": "",
            "description_tooltip": null,
            "layout": "IPY_MODEL_4fcca29b093e4346ad89b5458fe3727c",
            "max": 158,
            "min": 0,
            "orientation": "horizontal",
            "style": "IPY_MODEL_d30b28dcdd294c7f8945504792684d4d",
            "value": 25
          }
        },
        "d30b28dcdd294c7f8945504792684d4d": {
          "model_module": "@jupyter-widgets/controls",
          "model_module_version": "1.5.0",
          "model_name": "ProgressStyleModel",
          "state": {
            "_model_module": "@jupyter-widgets/controls",
            "_model_module_version": "1.5.0",
            "_model_name": "ProgressStyleModel",
            "_view_count": null,
            "_view_module": "@jupyter-widgets/base",
            "_view_module_version": "1.2.0",
            "_view_name": "StyleView",
            "bar_color": null,
            "description_width": ""
          }
        },
        "e23e94a9628542aeab15c0efd02b67c5": {
          "model_module": "@jupyter-widgets/base",
          "model_module_version": "1.2.0",
          "model_name": "LayoutModel",
          "state": {
            "_model_module": "@jupyter-widgets/base",
            "_model_module_version": "1.2.0",
            "_model_name": "LayoutModel",
            "_view_count": null,
            "_view_module": "@jupyter-widgets/base",
            "_view_module_version": "1.2.0",
            "_view_name": "LayoutView",
            "align_content": null,
            "align_items": null,
            "align_self": null,
            "border": null,
            "bottom": null,
            "display": null,
            "flex": null,
            "flex_flow": null,
            "grid_area": null,
            "grid_auto_columns": null,
            "grid_auto_flow": null,
            "grid_auto_rows": null,
            "grid_column": null,
            "grid_gap": null,
            "grid_row": null,
            "grid_template_areas": null,
            "grid_template_columns": null,
            "grid_template_rows": null,
            "height": null,
            "justify_content": null,
            "justify_items": null,
            "left": null,
            "margin": null,
            "max_height": null,
            "max_width": null,
            "min_height": null,
            "min_width": null,
            "object_fit": null,
            "object_position": null,
            "order": null,
            "overflow": null,
            "overflow_x": null,
            "overflow_y": null,
            "padding": null,
            "right": null,
            "top": null,
            "visibility": null,
            "width": null
          }
        },
        "eaa26e11e4f04a2ebb1a593188921d9a": {
          "model_module": "@jupyter-widgets/base",
          "model_module_version": "1.2.0",
          "model_name": "LayoutModel",
          "state": {
            "_model_module": "@jupyter-widgets/base",
            "_model_module_version": "1.2.0",
            "_model_name": "LayoutModel",
            "_view_count": null,
            "_view_module": "@jupyter-widgets/base",
            "_view_module_version": "1.2.0",
            "_view_name": "LayoutView",
            "align_content": null,
            "align_items": null,
            "align_self": null,
            "border": null,
            "bottom": null,
            "display": null,
            "flex": null,
            "flex_flow": null,
            "grid_area": null,
            "grid_auto_columns": null,
            "grid_auto_flow": null,
            "grid_auto_rows": null,
            "grid_column": null,
            "grid_gap": null,
            "grid_row": null,
            "grid_template_areas": null,
            "grid_template_columns": null,
            "grid_template_rows": null,
            "height": null,
            "justify_content": null,
            "justify_items": null,
            "left": null,
            "margin": null,
            "max_height": null,
            "max_width": null,
            "min_height": null,
            "min_width": null,
            "object_fit": null,
            "object_position": null,
            "order": null,
            "overflow": null,
            "overflow_x": null,
            "overflow_y": null,
            "padding": null,
            "right": null,
            "top": null,
            "visibility": null,
            "width": null
          }
        }
      }
    }
  },
  "nbformat": 4,
  "nbformat_minor": 5
}
