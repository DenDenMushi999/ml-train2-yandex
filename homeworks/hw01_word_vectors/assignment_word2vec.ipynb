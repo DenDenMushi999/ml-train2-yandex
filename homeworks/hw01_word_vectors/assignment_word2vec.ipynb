{
 "cells": [
  {
   "cell_type": "markdown",
   "metadata": {
    "id": "nTSf4ro-qU0d"
   },
   "source": [
    "## Бонусное задание: word2vec на PyTorch\n",
    "\n",
    "Как вы уже могли заметить, идея, лежащая в основе [word2vec](https://arxiv.org/pdf/1310.4546), достаточно общая. В данном задании вы реализуете его самостоятельно.\n",
    "\n",
    "Дисклеймер: не стоит удивляться тому, что реализация от `gensim` (или аналоги) обучается быстрее и работает точнее. Она использует множество доработок и ускорений, а также достаточно эффективный код. Ваша задача добиться промежуточных результатов за разумное время.\n",
    "\n",
    "P.s. Как ни странно, GPU в этом задании нам не потребуется."
   ]
  },
  {
   "cell_type": "markdown",
   "metadata": {},
   "source": [
    "__Requirements:__ if you're running locally, in the selected environment run the following command:\n",
    "\n",
    "```pip install --upgrade nltk bokeh umap-learn```\n"
   ]
  },
  {
   "cell_type": "code",
   "execution_count": null,
   "metadata": {
    "id": "Oipe2DU8qfm7"
   },
   "outputs": [
    {
     "name": "stdout",
     "output_type": "stream",
     "text": [
      "Collecting nltk\n",
      "  Downloading nltk-3.9.1-py3-none-any.whl.metadata (2.9 kB)\n",
      "Collecting bokeh\n",
      "  Downloading bokeh-3.6.0-py3-none-any.whl.metadata (12 kB)\n",
      "Collecting umap-learn\n",
      "  Downloading umap_learn-0.5.7-py3-none-any.whl.metadata (21 kB)\n",
      "Collecting click (from nltk)\n",
      "  Using cached click-8.1.7-py3-none-any.whl.metadata (3.0 kB)\n",
      "Collecting joblib (from nltk)\n",
      "  Using cached joblib-1.4.2-py3-none-any.whl.metadata (5.4 kB)\n",
      "Collecting regex>=2021.8.3 (from nltk)\n",
      "  Downloading regex-2024.9.11-cp312-cp312-win_amd64.whl.metadata (41 kB)\n",
      "Collecting tqdm (from nltk)\n",
      "  Using cached tqdm-4.66.6-py3-none-any.whl.metadata (57 kB)\n",
      "Collecting Jinja2>=2.9 (from bokeh)\n",
      "  Using cached jinja2-3.1.4-py3-none-any.whl.metadata (2.6 kB)\n",
      "Collecting contourpy>=1.2 (from bokeh)\n",
      "  Using cached contourpy-1.3.0-cp312-cp312-win_amd64.whl.metadata (5.4 kB)\n",
      "Collecting numpy>=1.16 (from bokeh)\n",
      "  Downloading numpy-2.1.3-cp312-cp312-win_amd64.whl.metadata (60 kB)\n",
      "Requirement already satisfied: packaging>=16.8 in d:\\miniconda3\\envs\\ml_train2\\lib\\site-packages (from bokeh) (24.1)\n",
      "Collecting pandas>=1.2 (from bokeh)\n",
      "  Downloading pandas-2.2.3-cp312-cp312-win_amd64.whl.metadata (19 kB)\n",
      "Collecting pillow>=7.1.0 (from bokeh)\n",
      "  Using cached pillow-11.0.0-cp312-cp312-win_amd64.whl.metadata (9.3 kB)\n",
      "Collecting PyYAML>=3.10 (from bokeh)\n",
      "  Using cached PyYAML-6.0.2-cp312-cp312-win_amd64.whl.metadata (2.1 kB)\n",
      "Requirement already satisfied: tornado>=6.2 in c:\\users\\denda\\appdata\\roaming\\python\\python312\\site-packages (from bokeh) (6.4)\n",
      "Collecting xyzservices>=2021.09.1 (from bokeh)\n",
      "  Downloading xyzservices-2024.9.0-py3-none-any.whl.metadata (4.1 kB)\n",
      "Collecting scipy>=1.3.1 (from umap-learn)\n",
      "  Using cached scipy-1.14.1-cp312-cp312-win_amd64.whl.metadata (60 kB)\n",
      "Collecting scikit-learn>=0.22 (from umap-learn)\n",
      "  Downloading scikit_learn-1.5.2-cp312-cp312-win_amd64.whl.metadata (13 kB)\n",
      "Collecting numba>=0.51.2 (from umap-learn)\n",
      "  Downloading numba-0.60.0-cp312-cp312-win_amd64.whl.metadata (2.8 kB)\n",
      "Collecting pynndescent>=0.5 (from umap-learn)\n",
      "  Downloading pynndescent-0.5.13-py3-none-any.whl.metadata (6.8 kB)\n",
      "Collecting MarkupSafe>=2.0 (from Jinja2>=2.9->bokeh)\n",
      "  Using cached MarkupSafe-3.0.2-cp312-cp312-win_amd64.whl.metadata (4.1 kB)\n",
      "Collecting llvmlite<0.44,>=0.43.0dev0 (from numba>=0.51.2->umap-learn)\n",
      "  Downloading llvmlite-0.43.0-cp312-cp312-win_amd64.whl.metadata (4.9 kB)\n",
      "Collecting numpy>=1.16 (from bokeh)\n",
      "  Downloading numpy-2.0.2-cp312-cp312-win_amd64.whl.metadata (59 kB)\n",
      "Requirement already satisfied: python-dateutil>=2.8.2 in d:\\miniconda3\\envs\\ml_train2\\lib\\site-packages (from pandas>=1.2->bokeh) (2.9.0)\n",
      "Collecting pytz>=2020.1 (from pandas>=1.2->bokeh)\n",
      "  Downloading pytz-2024.2-py2.py3-none-any.whl.metadata (22 kB)\n",
      "Collecting tzdata>=2022.7 (from pandas>=1.2->bokeh)\n",
      "  Downloading tzdata-2024.2-py2.py3-none-any.whl.metadata (1.4 kB)\n",
      "Collecting threadpoolctl>=3.1.0 (from scikit-learn>=0.22->umap-learn)\n",
      "  Using cached threadpoolctl-3.5.0-py3-none-any.whl.metadata (13 kB)\n",
      "Requirement already satisfied: colorama in d:\\miniconda3\\envs\\ml_train2\\lib\\site-packages (from click->nltk) (0.4.6)\n",
      "Requirement already satisfied: six>=1.5 in d:\\miniconda3\\envs\\ml_train2\\lib\\site-packages (from python-dateutil>=2.8.2->pandas>=1.2->bokeh) (1.16.0)\n",
      "Downloading nltk-3.9.1-py3-none-any.whl (1.5 MB)\n",
      "   ---------------------------------------- 0.0/1.5 MB ? eta -:--:--\n",
      "   ------ --------------------------------- 0.3/1.5 MB ? eta -:--:--\n",
      "   ------------- -------------------------- 0.5/1.5 MB 1.5 MB/s eta 0:00:01\n",
      "   -------------------- ------------------- 0.8/1.5 MB 1.5 MB/s eta 0:00:01\n",
      "   --------------------------- ------------ 1.0/1.5 MB 1.5 MB/s eta 0:00:01\n",
      "   ---------------------------------------- 1.5/1.5 MB 1.5 MB/s eta 0:00:00\n",
      "Downloading bokeh-3.6.0-py3-none-any.whl (6.9 MB)\n",
      "   ---------------------------------------- 0.0/6.9 MB ? eta -:--:--\n",
      "   - -------------------------------------- 0.3/6.9 MB ? eta -:--:--\n",
      "   --- ------------------------------------ 0.5/6.9 MB 1.5 MB/s eta 0:00:05\n",
      "   ---- ----------------------------------- 0.8/6.9 MB 1.5 MB/s eta 0:00:04\n",
      "   ------ --------------------------------- 1.0/6.9 MB 1.5 MB/s eta 0:00:04\n",
      "   --------- ------------------------------ 1.6/6.9 MB 1.5 MB/s eta 0:00:04\n",
      "   ---------- ----------------------------- 1.8/6.9 MB 1.5 MB/s eta 0:00:04\n",
      "   ------------ --------------------------- 2.1/6.9 MB 1.5 MB/s eta 0:00:04\n",
      "   ------------- -------------------------- 2.4/6.9 MB 1.5 MB/s eta 0:00:04\n",
      "   --------------- ------------------------ 2.6/6.9 MB 1.5 MB/s eta 0:00:03\n",
      "   ---------------- ----------------------- 2.9/6.9 MB 1.5 MB/s eta 0:00:03\n",
      "   ------------------- -------------------- 3.4/6.9 MB 1.5 MB/s eta 0:00:03\n",
      "   --------------------- ------------------ 3.7/6.9 MB 1.5 MB/s eta 0:00:03\n",
      "   ---------------------- ----------------- 3.9/6.9 MB 1.5 MB/s eta 0:00:02\n",
      "   ------------------------ --------------- 4.2/6.9 MB 1.5 MB/s eta 0:00:02\n",
      "   --------------------------- ------------ 4.7/6.9 MB 1.5 MB/s eta 0:00:02\n",
      "   ----------------------------- ---------- 5.0/6.9 MB 1.5 MB/s eta 0:00:02\n",
      "   ------------------------------ --------- 5.2/6.9 MB 1.5 MB/s eta 0:00:02\n",
      "   -------------------------------- ------- 5.5/6.9 MB 1.5 MB/s eta 0:00:01\n",
      "   --------------------------------- ------ 5.8/6.9 MB 1.5 MB/s eta 0:00:01\n",
      "   ------------------------------------ --- 6.3/6.9 MB 1.5 MB/s eta 0:00:01\n",
      "   -------------------------------------- - 6.6/6.9 MB 1.5 MB/s eta 0:00:01\n",
      "   ---------------------------------------- 6.9/6.9 MB 1.5 MB/s eta 0:00:00\n",
      "Downloading umap_learn-0.5.7-py3-none-any.whl (88 kB)\n",
      "Using cached contourpy-1.3.0-cp312-cp312-win_amd64.whl (218 kB)\n",
      "Using cached jinja2-3.1.4-py3-none-any.whl (133 kB)\n",
      "Downloading numba-0.60.0-cp312-cp312-win_amd64.whl (2.7 MB)\n",
      "   ---------------------------------------- 0.0/2.7 MB ? eta -:--:--\n",
      "   --- ------------------------------------ 0.3/2.7 MB ? eta -:--:--\n",
      "   ------- -------------------------------- 0.5/2.7 MB 1.5 MB/s eta 0:00:02\n",
      "   ----------- ---------------------------- 0.8/2.7 MB 1.5 MB/s eta 0:00:02\n",
      "   --------------- ------------------------ 1.0/2.7 MB 1.5 MB/s eta 0:00:02\n",
      "   ----------------------- ---------------- 1.6/2.7 MB 1.5 MB/s eta 0:00:01\n",
      "   --------------------------- ------------ 1.8/2.7 MB 1.5 MB/s eta 0:00:01\n",
      "   ------------------------------ --------- 2.1/2.7 MB 1.5 MB/s eta 0:00:01\n",
      "   ---------------------------------- ----- 2.4/2.7 MB 1.5 MB/s eta 0:00:01\n",
      "   ---------------------------------------- 2.7/2.7 MB 1.5 MB/s eta 0:00:00\n",
      "Downloading numpy-2.0.2-cp312-cp312-win_amd64.whl (15.6 MB)\n",
      "   ---------------------------------------- 0.0/15.6 MB ? eta -:--:--\n",
      "    --------------------------------------- 0.3/15.6 MB ? eta -:--:--\n",
      "   - -------------------------------------- 0.5/15.6 MB 1.5 MB/s eta 0:00:10\n",
      "   -- ------------------------------------- 0.8/15.6 MB 1.5 MB/s eta 0:00:11\n",
      "   -- ------------------------------------- 1.0/15.6 MB 1.5 MB/s eta 0:00:10\n",
      "   --- ------------------------------------ 1.3/15.6 MB 1.5 MB/s eta 0:00:10\n",
      "   ---- ----------------------------------- 1.6/15.6 MB 1.4 MB/s eta 0:00:10\n",
      "   ---- ----------------------------------- 1.8/15.6 MB 1.4 MB/s eta 0:00:10\n",
      "   ------ --------------------------------- 2.4/15.6 MB 1.4 MB/s eta 0:00:10\n",
      "   ------ --------------------------------- 2.6/15.6 MB 1.4 MB/s eta 0:00:10\n",
      "   ------- -------------------------------- 2.9/15.6 MB 1.4 MB/s eta 0:00:09\n",
      "   -------- ------------------------------- 3.1/15.6 MB 1.4 MB/s eta 0:00:09\n",
      "   -------- ------------------------------- 3.4/15.6 MB 1.4 MB/s eta 0:00:09\n",
      "   ---------- ----------------------------- 3.9/15.6 MB 1.5 MB/s eta 0:00:09\n",
      "   ---------- ----------------------------- 4.2/15.6 MB 1.5 MB/s eta 0:00:08\n",
      "   ----------- ---------------------------- 4.5/15.6 MB 1.5 MB/s eta 0:00:08\n",
      "   ------------ --------------------------- 4.7/15.6 MB 1.5 MB/s eta 0:00:08\n",
      "   ------------ --------------------------- 5.0/15.6 MB 1.5 MB/s eta 0:00:08\n",
      "   ------------- -------------------------- 5.2/15.6 MB 1.5 MB/s eta 0:00:08\n",
      "   -------------- ------------------------- 5.8/15.6 MB 1.5 MB/s eta 0:00:07\n",
      "   --------------- ------------------------ 6.0/15.6 MB 1.5 MB/s eta 0:00:07\n",
      "   ---------------- ----------------------- 6.3/15.6 MB 1.5 MB/s eta 0:00:07\n",
      "   ---------------- ----------------------- 6.6/15.6 MB 1.5 MB/s eta 0:00:07\n",
      "   ----------------- ---------------------- 6.8/15.6 MB 1.5 MB/s eta 0:00:07\n",
      "   ------------------ --------------------- 7.1/15.6 MB 1.5 MB/s eta 0:00:06\n",
      "   ------------------- -------------------- 7.6/15.6 MB 1.5 MB/s eta 0:00:06\n",
      "   -------------------- ------------------- 7.9/15.6 MB 1.5 MB/s eta 0:00:06\n",
      "   -------------------- ------------------- 8.1/15.6 MB 1.5 MB/s eta 0:00:06\n",
      "   --------------------- ------------------ 8.4/15.6 MB 1.5 MB/s eta 0:00:05\n",
      "   ---------------------- ----------------- 8.7/15.6 MB 1.5 MB/s eta 0:00:05\n",
      "   ---------------------- ----------------- 8.9/15.6 MB 1.5 MB/s eta 0:00:05\n",
      "   ------------------------ --------------- 9.4/15.6 MB 1.5 MB/s eta 0:00:05\n",
      "   ------------------------ --------------- 9.7/15.6 MB 1.5 MB/s eta 0:00:05\n",
      "   ------------------------- -------------- 10.0/15.6 MB 1.5 MB/s eta 0:00:04\n",
      "   -------------------------- ------------- 10.2/15.6 MB 1.5 MB/s eta 0:00:04\n",
      "   -------------------------- ------------- 10.5/15.6 MB 1.5 MB/s eta 0:00:04\n",
      "   ---------------------------- ----------- 11.0/15.6 MB 1.5 MB/s eta 0:00:04\n",
      "   ---------------------------- ----------- 11.3/15.6 MB 1.5 MB/s eta 0:00:03\n",
      "   ----------------------------- ---------- 11.5/15.6 MB 1.5 MB/s eta 0:00:03\n",
      "   ------------------------------ --------- 11.8/15.6 MB 1.5 MB/s eta 0:00:03\n",
      "   ------------------------------- -------- 12.3/15.6 MB 1.5 MB/s eta 0:00:03\n",
      "   -------------------------------- ------- 12.6/15.6 MB 1.5 MB/s eta 0:00:03\n",
      "   -------------------------------- ------- 12.8/15.6 MB 1.5 MB/s eta 0:00:02\n",
      "   --------------------------------- ------ 13.1/15.6 MB 1.5 MB/s eta 0:00:02\n",
      "   ---------------------------------- ----- 13.6/15.6 MB 1.5 MB/s eta 0:00:02\n",
      "   ----------------------------------- ---- 13.9/15.6 MB 1.5 MB/s eta 0:00:02\n",
      "   ------------------------------------ --- 14.2/15.6 MB 1.5 MB/s eta 0:00:01\n",
      "   ------------------------------------ --- 14.4/15.6 MB 1.5 MB/s eta 0:00:01\n",
      "   ------------------------------------- -- 14.7/15.6 MB 1.5 MB/s eta 0:00:01\n",
      "   -------------------------------------- - 14.9/15.6 MB 1.5 MB/s eta 0:00:01\n",
      "   ---------------------------------------  15.5/15.6 MB 1.5 MB/s eta 0:00:01\n",
      "   ---------------------------------------- 15.6/15.6 MB 1.5 MB/s eta 0:00:00\n",
      "Downloading pandas-2.2.3-cp312-cp312-win_amd64.whl (11.5 MB)\n",
      "   ---------------------------------------- 0.0/11.5 MB ? eta -:--:--\n",
      "    --------------------------------------- 0.3/11.5 MB ? eta -:--:--\n",
      "   - -------------------------------------- 0.5/11.5 MB 1.5 MB/s eta 0:00:08\n",
      "   -- ------------------------------------- 0.8/11.5 MB 1.5 MB/s eta 0:00:08\n",
      "   --- ------------------------------------ 1.0/11.5 MB 1.5 MB/s eta 0:00:07\n",
      "   ----- ---------------------------------- 1.6/11.5 MB 1.5 MB/s eta 0:00:07\n",
      "   ------ --------------------------------- 1.8/11.5 MB 1.5 MB/s eta 0:00:07\n",
      "   ------- -------------------------------- 2.1/11.5 MB 1.5 MB/s eta 0:00:07\n",
      "   -------- ------------------------------- 2.4/11.5 MB 1.5 MB/s eta 0:00:06\n",
      "   --------- ------------------------------ 2.6/11.5 MB 1.5 MB/s eta 0:00:06\n",
      "   ---------- ----------------------------- 3.1/11.5 MB 1.5 MB/s eta 0:00:06\n",
      "   ----------- ---------------------------- 3.4/11.5 MB 1.5 MB/s eta 0:00:06\n",
      "   ------------ --------------------------- 3.7/11.5 MB 1.5 MB/s eta 0:00:06\n",
      "   ------------- -------------------------- 3.9/11.5 MB 1.5 MB/s eta 0:00:05\n",
      "   --------------- ------------------------ 4.5/11.5 MB 1.5 MB/s eta 0:00:05\n",
      "   ---------------- ----------------------- 4.7/11.5 MB 1.5 MB/s eta 0:00:05\n",
      "   ----------------- ---------------------- 5.0/11.5 MB 1.5 MB/s eta 0:00:05\n",
      "   ------------------ --------------------- 5.2/11.5 MB 1.5 MB/s eta 0:00:05\n",
      "   -------------------- ------------------- 5.8/11.5 MB 1.5 MB/s eta 0:00:04\n",
      "   -------------------- ------------------- 6.0/11.5 MB 1.5 MB/s eta 0:00:04\n",
      "   --------------------- ------------------ 6.3/11.5 MB 1.5 MB/s eta 0:00:04\n",
      "   ---------------------- ----------------- 6.6/11.5 MB 1.5 MB/s eta 0:00:04\n",
      "   ------------------------ --------------- 7.1/11.5 MB 1.5 MB/s eta 0:00:03\n",
      "   ------------------------- -------------- 7.3/11.5 MB 1.5 MB/s eta 0:00:03\n",
      "   -------------------------- ------------- 7.6/11.5 MB 1.5 MB/s eta 0:00:03\n",
      "   --------------------------- ------------ 7.9/11.5 MB 1.5 MB/s eta 0:00:03\n",
      "   ---------------------------- ----------- 8.1/11.5 MB 1.5 MB/s eta 0:00:03\n",
      "   ------------------------------ --------- 8.7/11.5 MB 1.5 MB/s eta 0:00:02\n",
      "   ------------------------------ --------- 8.9/11.5 MB 1.5 MB/s eta 0:00:02\n",
      "   ------------------------------- -------- 9.2/11.5 MB 1.5 MB/s eta 0:00:02\n",
      "   -------------------------------- ------- 9.4/11.5 MB 1.5 MB/s eta 0:00:02\n",
      "   --------------------------------- ------ 9.7/11.5 MB 1.5 MB/s eta 0:00:02\n",
      "   ---------------------------------- ----- 10.0/11.5 MB 1.5 MB/s eta 0:00:02\n",
      "   ------------------------------------ --- 10.5/11.5 MB 1.5 MB/s eta 0:00:01\n",
      "   ------------------------------------- -- 10.7/11.5 MB 1.5 MB/s eta 0:00:01\n",
      "   -------------------------------------- - 11.0/11.5 MB 1.5 MB/s eta 0:00:01\n",
      "   ---------------------------------------  11.3/11.5 MB 1.5 MB/s eta 0:00:01\n",
      "   ---------------------------------------- 11.5/11.5 MB 1.5 MB/s eta 0:00:00\n",
      "Using cached pillow-11.0.0-cp312-cp312-win_amd64.whl (2.6 MB)\n",
      "Downloading pynndescent-0.5.13-py3-none-any.whl (56 kB)\n",
      "Using cached joblib-1.4.2-py3-none-any.whl (301 kB)\n",
      "Using cached PyYAML-6.0.2-cp312-cp312-win_amd64.whl (156 kB)\n",
      "Downloading regex-2024.9.11-cp312-cp312-win_amd64.whl (273 kB)\n",
      "Downloading scikit_learn-1.5.2-cp312-cp312-win_amd64.whl (11.0 MB)\n",
      "   ---------------------------------------- 0.0/11.0 MB ? eta -:--:--\n",
      "    --------------------------------------- 0.3/11.0 MB ? eta -:--:--\n",
      "   - -------------------------------------- 0.5/11.0 MB 1.5 MB/s eta 0:00:07\n",
      "   -- ------------------------------------- 0.8/11.0 MB 1.5 MB/s eta 0:00:07\n",
      "   --- ------------------------------------ 1.0/11.0 MB 1.5 MB/s eta 0:00:07\n",
      "   ---- ----------------------------------- 1.3/11.0 MB 1.5 MB/s eta 0:00:07\n",
      "   ------ --------------------------------- 1.8/11.0 MB 1.5 MB/s eta 0:00:07\n",
      "   ------- -------------------------------- 2.1/11.0 MB 1.5 MB/s eta 0:00:06\n",
      "   -------- ------------------------------- 2.4/11.0 MB 1.5 MB/s eta 0:00:06\n",
      "   --------- ------------------------------ 2.6/11.0 MB 1.5 MB/s eta 0:00:06\n",
      "   ---------- ----------------------------- 2.9/11.0 MB 1.5 MB/s eta 0:00:06\n",
      "   ------------ --------------------------- 3.4/11.0 MB 1.5 MB/s eta 0:00:06\n",
      "   ------------- -------------------------- 3.7/11.0 MB 1.5 MB/s eta 0:00:05\n",
      "   -------------- ------------------------- 3.9/11.0 MB 1.5 MB/s eta 0:00:05\n",
      "   --------------- ------------------------ 4.2/11.0 MB 1.5 MB/s eta 0:00:05\n",
      "   ---------------- ----------------------- 4.5/11.0 MB 1.5 MB/s eta 0:00:05\n",
      "   ------------------ --------------------- 5.0/11.0 MB 1.5 MB/s eta 0:00:05\n",
      "   ------------------- -------------------- 5.2/11.0 MB 1.5 MB/s eta 0:00:04\n",
      "   -------------------- ------------------- 5.5/11.0 MB 1.5 MB/s eta 0:00:04\n",
      "   -------------------- ------------------- 5.8/11.0 MB 1.5 MB/s eta 0:00:04\n",
      "   --------------------- ------------------ 6.0/11.0 MB 1.5 MB/s eta 0:00:04\n",
      "   ----------------------- ---------------- 6.6/11.0 MB 1.5 MB/s eta 0:00:03\n",
      "   ------------------------ --------------- 6.8/11.0 MB 1.5 MB/s eta 0:00:03\n",
      "   ------------------------- -------------- 7.1/11.0 MB 1.5 MB/s eta 0:00:03\n",
      "   -------------------------- ------------- 7.3/11.0 MB 1.5 MB/s eta 0:00:03\n",
      "   ---------------------------- ----------- 7.9/11.0 MB 1.5 MB/s eta 0:00:03\n",
      "   ----------------------------- ---------- 8.1/11.0 MB 1.5 MB/s eta 0:00:02\n",
      "   ------------------------------ --------- 8.4/11.0 MB 1.5 MB/s eta 0:00:02\n",
      "   ------------------------------- -------- 8.7/11.0 MB 1.5 MB/s eta 0:00:02\n",
      "   -------------------------------- ------- 8.9/11.0 MB 1.5 MB/s eta 0:00:02\n",
      "   --------------------------------- ------ 9.2/11.0 MB 1.5 MB/s eta 0:00:02\n",
      "   ----------------------------------- ---- 9.7/11.0 MB 1.5 MB/s eta 0:00:01\n",
      "   ------------------------------------ --- 10.0/11.0 MB 1.5 MB/s eta 0:00:01\n",
      "   ------------------------------------- -- 10.2/11.0 MB 1.5 MB/s eta 0:00:01\n",
      "   -------------------------------------- - 10.5/11.0 MB 1.5 MB/s eta 0:00:01\n",
      "   ---------------------------------------  10.7/11.0 MB 1.5 MB/s eta 0:00:01\n",
      "   ---------------------------------------- 11.0/11.0 MB 1.5 MB/s eta 0:00:00\n",
      "Using cached scipy-1.14.1-cp312-cp312-win_amd64.whl (44.5 MB)\n",
      "Downloading xyzservices-2024.9.0-py3-none-any.whl (85 kB)\n",
      "Using cached click-8.1.7-py3-none-any.whl (97 kB)\n",
      "Using cached tqdm-4.66.6-py3-none-any.whl (78 kB)\n",
      "Downloading llvmlite-0.43.0-cp312-cp312-win_amd64.whl (28.1 MB)\n",
      "   ---------------------------------------- 0.0/28.1 MB ? eta -:--:--\n",
      "   ---------------------------------------- 0.3/28.1 MB ? eta -:--:--\n",
      "    --------------------------------------- 0.5/28.1 MB 1.5 MB/s eta 0:00:19\n",
      "   - -------------------------------------- 0.8/28.1 MB 1.5 MB/s eta 0:00:18\n",
      "   - -------------------------------------- 1.3/28.1 MB 1.6 MB/s eta 0:00:18\n",
      "   -- ------------------------------------- 1.6/28.1 MB 1.6 MB/s eta 0:00:18\n",
      "   -- ------------------------------------- 1.8/28.1 MB 1.5 MB/s eta 0:00:17\n",
      "   -- ------------------------------------- 2.1/28.1 MB 1.5 MB/s eta 0:00:17\n",
      "   --- ------------------------------------ 2.4/28.1 MB 1.5 MB/s eta 0:00:17\n",
      "   ---- ----------------------------------- 2.9/28.1 MB 1.5 MB/s eta 0:00:17\n",
      "   ---- ----------------------------------- 3.1/28.1 MB 1.5 MB/s eta 0:00:17\n",
      "   ---- ----------------------------------- 3.4/28.1 MB 1.5 MB/s eta 0:00:17\n",
      "   ----- ---------------------------------- 3.9/28.1 MB 1.5 MB/s eta 0:00:16\n",
      "   ----- ---------------------------------- 4.2/28.1 MB 1.5 MB/s eta 0:00:16\n",
      "   ------ --------------------------------- 4.5/28.1 MB 1.5 MB/s eta 0:00:16\n",
      "   ------ --------------------------------- 4.7/28.1 MB 1.5 MB/s eta 0:00:16\n",
      "   ------- -------------------------------- 5.2/28.1 MB 1.5 MB/s eta 0:00:15\n",
      "   ------- -------------------------------- 5.5/28.1 MB 1.5 MB/s eta 0:00:15\n",
      "   -------- ------------------------------- 5.8/28.1 MB 1.5 MB/s eta 0:00:15\n",
      "   -------- ------------------------------- 6.0/28.1 MB 1.5 MB/s eta 0:00:15\n",
      "   -------- ------------------------------- 6.3/28.1 MB 1.5 MB/s eta 0:00:15\n",
      "   --------- ------------------------------ 6.6/28.1 MB 1.5 MB/s eta 0:00:15\n",
      "   ---------- ----------------------------- 7.1/28.1 MB 1.5 MB/s eta 0:00:14\n",
      "   ---------- ----------------------------- 7.3/28.1 MB 1.5 MB/s eta 0:00:14\n",
      "   ---------- ----------------------------- 7.6/28.1 MB 1.5 MB/s eta 0:00:14\n",
      "   ----------- ---------------------------- 7.9/28.1 MB 1.5 MB/s eta 0:00:14\n",
      "   ----------- ---------------------------- 8.4/28.1 MB 1.5 MB/s eta 0:00:13\n",
      "   ------------ --------------------------- 8.7/28.1 MB 1.5 MB/s eta 0:00:13\n",
      "   ------------ --------------------------- 8.9/28.1 MB 1.5 MB/s eta 0:00:13\n",
      "   ------------- -------------------------- 9.2/28.1 MB 1.5 MB/s eta 0:00:13\n",
      "   ------------- -------------------------- 9.7/28.1 MB 1.5 MB/s eta 0:00:13\n",
      "   -------------- ------------------------- 10.0/28.1 MB 1.5 MB/s eta 0:00:12\n",
      "   -------------- ------------------------- 10.2/28.1 MB 1.5 MB/s eta 0:00:12\n",
      "   -------------- ------------------------- 10.5/28.1 MB 1.5 MB/s eta 0:00:12\n",
      "   --------------- ------------------------ 11.0/28.1 MB 1.5 MB/s eta 0:00:12\n",
      "   ---------------- ----------------------- 11.3/28.1 MB 1.5 MB/s eta 0:00:11\n",
      "   ---------------- ----------------------- 11.5/28.1 MB 1.5 MB/s eta 0:00:11\n",
      "   ---------------- ----------------------- 11.8/28.1 MB 1.5 MB/s eta 0:00:11\n",
      "   ----------------- ---------------------- 12.3/28.1 MB 1.5 MB/s eta 0:00:11\n",
      "   ----------------- ---------------------- 12.6/28.1 MB 1.5 MB/s eta 0:00:11\n",
      "   ------------------ --------------------- 12.8/28.1 MB 1.5 MB/s eta 0:00:10\n",
      "   ------------------ --------------------- 13.1/28.1 MB 1.5 MB/s eta 0:00:10\n",
      "   ------------------- -------------------- 13.4/28.1 MB 1.5 MB/s eta 0:00:10\n",
      "   ------------------- -------------------- 13.9/28.1 MB 1.5 MB/s eta 0:00:10\n",
      "   -------------------- ------------------- 14.2/28.1 MB 1.5 MB/s eta 0:00:10\n",
      "   -------------------- ------------------- 14.4/28.1 MB 1.5 MB/s eta 0:00:09\n",
      "   -------------------- ------------------- 14.7/28.1 MB 1.5 MB/s eta 0:00:09\n",
      "   --------------------- ------------------ 15.2/28.1 MB 1.5 MB/s eta 0:00:09\n",
      "   ---------------------- ----------------- 15.5/28.1 MB 1.5 MB/s eta 0:00:09\n",
      "   ---------------------- ----------------- 15.7/28.1 MB 1.5 MB/s eta 0:00:09\n",
      "   ---------------------- ----------------- 16.0/28.1 MB 1.5 MB/s eta 0:00:08\n",
      "   ----------------------- ---------------- 16.5/28.1 MB 1.5 MB/s eta 0:00:08\n",
      "   ----------------------- ---------------- 16.8/28.1 MB 1.5 MB/s eta 0:00:08\n",
      "   ------------------------ --------------- 17.0/28.1 MB 1.5 MB/s eta 0:00:08\n",
      "   ------------------------ --------------- 17.3/28.1 MB 1.5 MB/s eta 0:00:08\n",
      "   ------------------------ --------------- 17.6/28.1 MB 1.5 MB/s eta 0:00:07\n",
      "   ------------------------- -------------- 18.1/28.1 MB 1.5 MB/s eta 0:00:07\n",
      "   -------------------------- ------------- 18.4/28.1 MB 1.5 MB/s eta 0:00:07\n",
      "   -------------------------- ------------- 18.6/28.1 MB 1.5 MB/s eta 0:00:07\n",
      "   -------------------------- ------------- 18.9/28.1 MB 1.5 MB/s eta 0:00:07\n",
      "   --------------------------- ------------ 19.4/28.1 MB 1.5 MB/s eta 0:00:06\n",
      "   --------------------------- ------------ 19.7/28.1 MB 1.5 MB/s eta 0:00:06\n",
      "   ---------------------------- ----------- 19.9/28.1 MB 1.5 MB/s eta 0:00:06\n",
      "   ---------------------------- ----------- 20.2/28.1 MB 1.5 MB/s eta 0:00:06\n",
      "   ----------------------------- ---------- 20.7/28.1 MB 1.5 MB/s eta 0:00:05\n",
      "   ----------------------------- ---------- 21.0/28.1 MB 1.5 MB/s eta 0:00:05\n",
      "   ------------------------------ --------- 21.2/28.1 MB 1.5 MB/s eta 0:00:05\n",
      "   ------------------------------ --------- 21.5/28.1 MB 1.5 MB/s eta 0:00:05\n",
      "   ------------------------------- -------- 22.0/28.1 MB 1.5 MB/s eta 0:00:04\n",
      "   ------------------------------- -------- 22.3/28.1 MB 1.5 MB/s eta 0:00:04\n",
      "   -------------------------------- ------- 22.5/28.1 MB 1.5 MB/s eta 0:00:04\n",
      "   -------------------------------- ------- 22.8/28.1 MB 1.5 MB/s eta 0:00:04\n",
      "   -------------------------------- ------- 23.1/28.1 MB 1.5 MB/s eta 0:00:04\n",
      "   --------------------------------- ------ 23.6/28.1 MB 1.5 MB/s eta 0:00:03\n",
      "   --------------------------------- ------ 23.9/28.1 MB 1.5 MB/s eta 0:00:03\n",
      "   ---------------------------------- ----- 24.1/28.1 MB 1.5 MB/s eta 0:00:03\n",
      "   ---------------------------------- ----- 24.4/28.1 MB 1.5 MB/s eta 0:00:03\n",
      "   ----------------------------------- ---- 24.9/28.1 MB 1.5 MB/s eta 0:00:03\n",
      "   ----------------------------------- ---- 25.2/28.1 MB 1.5 MB/s eta 0:00:02\n",
      "   ------------------------------------ --- 25.4/28.1 MB 1.5 MB/s eta 0:00:02\n",
      "   ------------------------------------ --- 25.7/28.1 MB 1.5 MB/s eta 0:00:02\n",
      "   ------------------------------------ --- 26.0/28.1 MB 1.5 MB/s eta 0:00:02\n",
      "   ------------------------------------- -- 26.5/28.1 MB 1.5 MB/s eta 0:00:02\n",
      "   -------------------------------------- - 26.7/28.1 MB 1.5 MB/s eta 0:00:01\n",
      "   -------------------------------------- - 27.0/28.1 MB 1.5 MB/s eta 0:00:01\n",
      "   -------------------------------------- - 27.3/28.1 MB 1.5 MB/s eta 0:00:01\n",
      "   ---------------------------------------  27.5/28.1 MB 1.5 MB/s eta 0:00:01\n",
      "   ---------------------------------------  28.0/28.1 MB 1.5 MB/s eta 0:00:01\n",
      "   ---------------------------------------- 28.1/28.1 MB 1.5 MB/s eta 0:00:00\n",
      "Using cached MarkupSafe-3.0.2-cp312-cp312-win_amd64.whl (15 kB)\n",
      "Downloading pytz-2024.2-py2.py3-none-any.whl (508 kB)\n",
      "Using cached threadpoolctl-3.5.0-py3-none-any.whl (18 kB)\n",
      "Downloading tzdata-2024.2-py2.py3-none-any.whl (346 kB)\n",
      "Installing collected packages: pytz, xyzservices, tzdata, tqdm, threadpoolctl, regex, PyYAML, pillow, numpy, MarkupSafe, llvmlite, joblib, click, scipy, pandas, numba, nltk, Jinja2, contourpy, scikit-learn, bokeh, pynndescent, umap-learn\n",
      "Successfully installed Jinja2-3.1.4 MarkupSafe-3.0.2 PyYAML-6.0.2 bokeh-3.6.0 click-8.1.7 contourpy-1.3.0 joblib-1.4.2 llvmlite-0.43.0 nltk-3.9.1 numba-0.60.0 numpy-2.0.2 pandas-2.2.3 pillow-11.0.0 pynndescent-0.5.13 pytz-2024.2 regex-2024.9.11 scikit-learn-1.5.2 scipy-1.14.1 threadpoolctl-3.5.0 tqdm-4.66.6 tzdata-2024.2 umap-learn-0.5.7 xyzservices-2024.9.0\n"
     ]
    }
   ],
   "source": [
    "#!pip install --upgrade nltk bokeh umap-learn"
   ]
  },
  {
   "cell_type": "code",
   "execution_count": 1,
   "metadata": {
    "id": "pqPU4Lu2qU0h"
   },
   "outputs": [
    {
     "name": "stderr",
     "output_type": "stream",
     "text": [
      "d:\\miniconda3\\envs\\ml_train2\\Lib\\site-packages\\tqdm\\auto.py:21: TqdmWarning: IProgress not found. Please update jupyter and ipywidgets. See https://ipywidgets.readthedocs.io/en/stable/user_install.html\n",
      "  from .autonotebook import tqdm as notebook_tqdm\n"
     ]
    }
   ],
   "source": [
    "import os\n",
    "import itertools\n",
    "import random\n",
    "import string\n",
    "from collections import Counter\n",
    "from itertools import chain\n",
    "\n",
    "import matplotlib.pyplot as plt\n",
    "import numpy as np\n",
    "import torch\n",
    "import torch.autograd as autograd\n",
    "import torch.nn as nn\n",
    "import torch.nn.functional as F\n",
    "import torch.optim as optim\n",
    "import umap\n",
    "from IPython.display import clear_output\n",
    "from matplotlib import pyplot as plt\n",
    "from nltk.tokenize import WordPunctTokenizer\n",
    "from torch.optim.lr_scheduler import ReduceLROnPlateau, StepLR\n",
    "from tqdm.auto import tqdm as tqdma"
   ]
  },
  {
   "cell_type": "code",
   "execution_count": 2,
   "metadata": {
    "colab": {
     "base_uri": "https://localhost:8080/"
    },
    "id": "8Fbx57z3qU0i",
    "outputId": "699ab6a7-41b9-402f-b842-039142bea06a"
   },
   "outputs": [
    {
     "name": "stderr",
     "output_type": "stream",
     "text": [
      "'wget' is not recognized as an internal or external command,\n",
      "operable program or batch file.\n"
     ]
    }
   ],
   "source": [
    "# download the data:\n",
    "!wget https://www.dropbox.com/s/obaitrix9jyu84r/quora.txt?dl=1 -O ./quora.txt -nc\n",
    "# alternative download link: https://yadi.sk/i/BPQrUu1NaTduEw\n",
    "\n",
    "import urllib.request\n",
    "if not os.path.exists('./quora.txt'):\n",
    "    urllib.request.urlretrieve('https://www.dropbox.com/s/obaitrix9jyu84r/quora.txt?dl=1', './quora.txt')"
   ]
  },
  {
   "cell_type": "code",
   "execution_count": 3,
   "metadata": {
    "colab": {
     "base_uri": "https://localhost:8080/",
     "height": 37
    },
    "id": "8EYy5dQpqU0i",
    "outputId": "57a393d2-d5f5-4fa9-f46d-1b268d7798ae",
    "scrolled": false
   },
   "outputs": [
    {
     "data": {
      "text/plain": [
       "\"What TV shows or books help you read people's body language?\\n\""
      ]
     },
     "execution_count": 3,
     "metadata": {},
     "output_type": "execute_result"
    }
   ],
   "source": [
    "data = list(open(\"./quora.txt\", encoding=\"utf-8\"))\n",
    "data[50]"
   ]
  },
  {
   "cell_type": "markdown",
   "metadata": {
    "id": "feBEGI2eqU0j"
   },
   "source": [
    "Токенизация – первый шаг.\n",
    "Тексты, с которыми мы работаем, включают в себя пунктуацию, смайлики и прочие нестандартные токены, так что простой `str.split` не подойдет.\n",
    "\n",
    "Обратимся к `nltk` - библиотеку, нашла широкое применеие в области NLP."
   ]
  },
  {
   "cell_type": "code",
   "execution_count": 4,
   "metadata": {
    "colab": {
     "base_uri": "https://localhost:8080/"
    },
    "id": "7mWTvm50qU0j",
    "outputId": "18272985-9762-4288-8457-76fa78a44d52"
   },
   "outputs": [
    {
     "name": "stdout",
     "output_type": "stream",
     "text": [
      "['What', 'TV', 'shows', 'or', 'books', 'help', 'you', 'read', 'people', \"'\", 's', 'body', 'language', '?']\n"
     ]
    }
   ],
   "source": [
    "tokenizer = WordPunctTokenizer()\n",
    "\n",
    "print(tokenizer.tokenize(data[50]))"
   ]
  },
  {
   "cell_type": "code",
   "execution_count": 5,
   "metadata": {},
   "outputs": [
    {
     "data": {
      "text/plain": [
       "{33: None,\n",
       " 34: None,\n",
       " 35: None,\n",
       " 36: None,\n",
       " 37: None,\n",
       " 38: None,\n",
       " 39: None,\n",
       " 40: None,\n",
       " 41: None,\n",
       " 42: None,\n",
       " 43: None,\n",
       " 44: None,\n",
       " 45: None,\n",
       " 46: None,\n",
       " 47: None,\n",
       " 58: None,\n",
       " 59: None,\n",
       " 60: None,\n",
       " 61: None,\n",
       " 62: None,\n",
       " 63: None,\n",
       " 64: None,\n",
       " 91: None,\n",
       " 92: None,\n",
       " 93: None,\n",
       " 94: None,\n",
       " 95: None,\n",
       " 96: None,\n",
       " 123: None,\n",
       " 124: None,\n",
       " 125: None,\n",
       " 126: None}"
      ]
     },
     "execution_count": 5,
     "metadata": {},
     "output_type": "execute_result"
    }
   ],
   "source": [
    "string.punctuation\n",
    "str.maketrans(\"\", \"\", string.punctuation)"
   ]
  },
  {
   "cell_type": "code",
   "execution_count": 6,
   "metadata": {
    "id": "HzC05EHWqU0j"
   },
   "outputs": [],
   "source": [
    "# list of lines in tokens\n",
    "data_tok = [\n",
    "    tokenizer.tokenize(\n",
    "        line.translate(str.maketrans(\"\", \"\", string.punctuation)).lower()\n",
    "    )\n",
    "    for line in data\n",
    "]\n",
    "data_tok = [x for x in data_tok if len(x) >= 3]\n"
   ]
  },
  {
   "cell_type": "code",
   "execution_count": 7,
   "metadata": {},
   "outputs": [
    {
     "name": "stdout",
     "output_type": "stream",
     "text": [
      "[['can', 'i', 'get', 'back', 'with', 'my', 'ex', 'even', 'though', 'she', 'is', 'pregnant', 'with', 'another', 'guys', 'baby'], ['what', 'are', 'some', 'ways', 'to', 'overcome', 'a', 'fast', 'food', 'addiction'], ['who', 'were', 'the', 'great', 'chinese', 'soldiers', 'and', 'leaders', 'who', 'fought', 'in', 'ww2'], ['what', 'are', 'zip', 'codes', 'in', 'the', 'bay', 'area'], ['why', 'was', 'george', 'rr', 'martin', 'critical', 'of', 'jk', 'rowling', 'after', 'losing', 'the', 'hugo', 'award']]=\n"
     ]
    }
   ],
   "source": [
    "\n",
    "print(f'{data_tok[:5]}=')"
   ]
  },
  {
   "cell_type": "markdown",
   "metadata": {
    "id": "6azRAgHIqU0k"
   },
   "source": [
    "Несколько проверок:"
   ]
  },
  {
   "cell_type": "code",
   "execution_count": 8,
   "metadata": {
    "id": "Cp8UpxdWqU0k"
   },
   "outputs": [],
   "source": [
    "assert all(\n",
    "    isinstance(row, (list, tuple)) for row in data_tok\n",
    "), \"please convert each line into a list of tokens (strings)\"\n",
    "assert all(\n",
    "    all(isinstance(tok, str) for tok in row) for row in data_tok\n",
    "), \"please convert each line into a list of tokens (strings)\"\n",
    "is_latin = lambda tok: all(\"a\" <= x.lower() <= \"z\" for x in tok)\n",
    "assert all(\n",
    "    map(lambda l: not is_latin(l) or l.islower(), map(\" \".join, data_tok))\n",
    "), \"please make sure to lowercase the data\""
   ]
  },
  {
   "cell_type": "markdown",
   "metadata": {
    "id": "37e7-MIhqU0x"
   },
   "source": [
    "Ниже заданы константы ширины окна контекста и проведена предобработка для построения skip-gram модели."
   ]
  },
  {
   "cell_type": "code",
   "execution_count": 9,
   "metadata": {
    "id": "fugc1IomqU0x"
   },
   "outputs": [],
   "source": [
    "min_count = 5\n",
    "window_radius = 5"
   ]
  },
  {
   "cell_type": "code",
   "execution_count": 10,
   "metadata": {},
   "outputs": [],
   "source": [
    "vocabulary_with_counter = Counter(chain.from_iterable(data_tok))\n",
    "word_count_dict = dict()\n",
    "for word, counter in vocabulary_with_counter.items():\n",
    "    if counter >= min_count:\n",
    "        word_count_dict[word] = counter\n",
    "\n",
    "vocabulary = set(word_count_dict.keys())\n",
    "del vocabulary_with_counter"
   ]
  },
  {
   "cell_type": "code",
   "execution_count": 11,
   "metadata": {},
   "outputs": [],
   "source": [
    "word_to_index = {word: index for index, word in enumerate(vocabulary)}\n",
    "index_to_word = {index: word for word, index in word_to_index.items()}"
   ]
  },
  {
   "cell_type": "markdown",
   "metadata": {
    "id": "4Y8rlBfqqU0x"
   },
   "source": [
    "Пары `(слово, контекст)` на основе доступного датасета сгенерированы ниже."
   ]
  },
  {
   "cell_type": "code",
   "execution_count": 12,
   "metadata": {
    "id": "h2-aqyyaqU0x"
   },
   "outputs": [
    {
     "name": "stdout",
     "output_type": "stream",
     "text": [
      "Generated 40220313 pairs of target and context words.\n",
      "context_pairs[:10]=[(22347, 16517), (22347, 1995), (22347, 9791), (22347, 24510), (16517, 22347), (16517, 1995), (16517, 9791), (16517, 24510), (16517, 9001), (1995, 22347)]\n"
     ]
    }
   ],
   "source": [
    "# List of indeces of context word pairs\n",
    "context_pairs = []\n",
    "\n",
    "for text in data_tok:\n",
    "    for i, central_word in enumerate(text):\n",
    "        context_indices = range(\n",
    "            max(0, i - window_radius), min(i + window_radius, len(text))\n",
    "        )\n",
    "        for j in context_indices:\n",
    "            if j == i:\n",
    "                continue\n",
    "            context_word = text[j]\n",
    "            if central_word in vocabulary and context_word in vocabulary:\n",
    "                context_pairs.append(\n",
    "                    (word_to_index[central_word], word_to_index[context_word])\n",
    "                )\n",
    "\n",
    "print(f\"Generated {len(context_pairs)} pairs of target and context words.\")\n",
    "print(f\"{context_pairs[:10]=}\")"
   ]
  },
  {
   "cell_type": "code",
   "execution_count": 13,
   "metadata": {},
   "outputs": [
    {
     "name": "stdout",
     "output_type": "stream",
     "text": [
      "[(22347, 16517), (22347, 1995), (22347, 9791), (22347, 24510), (16517, 22347), (16517, 1995), (16517, 9791), (16517, 24510), (16517, 9001), (1995, 22347)]\n"
     ]
    }
   ],
   "source": [
    "print(context_pairs[:10])"
   ]
  },
  {
   "cell_type": "markdown",
   "metadata": {},
   "source": [
    "#### Подзадача №1: subsampling\n",
    "Для того, чтобы сгладить разницу в частоте встречаемсости слов, необходимо реализовать механизм subsampling'а.\n",
    "Для этого вам необходимо реализовать функцию ниже.\n",
    "\n",
    "Вероятность **исключить** слово из обучения (на фиксированном шаге) вычисляется как\n",
    "$$\n",
    "P_\\text{drop}(w_i)=1 - \\sqrt{\\frac{t}{f(w_i)}},\n",
    "$$\n",
    "где $f(w_i)$ – нормированная частота встречаемости слова, а $t$ – заданный порог (threshold)."
   ]
  },
  {
   "cell_type": "code",
   "execution_count": 14,
   "metadata": {},
   "outputs": [
    {
     "name": "stdout",
     "output_type": "stream",
     "text": [
      "{'the': 0.0034785054261852176, 'is': 0.007778174593052023, 'apple': 0.034785054261852175}\n"
     ]
    }
   ],
   "source": [
    "from typing import Dict\n",
    "\n",
    "def subsample_frequent_words(word_counts: Dict[str, int], t: float = 1e-5) -> Dict[str, float]:\n",
    "    \"\"\"\n",
    "    Вычисляет вероятность оставить каждое слово на основе сабсэмплинга частых слов.\n",
    "\n",
    "    Args:\n",
    "        word_counts (Dict[str, int]): Словарь с количеством повторений слов {слово: количество}.\n",
    "        t (float): Порог частоты для нормировки.\n",
    "\n",
    "    Returns:\n",
    "        Dict[str, float]: Словарь с вероятностями оставить слово {слово: вероятность}.\n",
    "    \"\"\"\n",
    "    # Общее количество слов\n",
    "    total_count = sum(word_counts.values())\n",
    "\n",
    "    # Нормированные вероятности оставить слово\n",
    "    keep_probabilities = {}\n",
    "    for word, count in word_counts.items():\n",
    "        # Нормированная частота слова\n",
    "        freq = count / total_count\n",
    "        # Вероятность оставить слово\n",
    "        keep_prob = min(1.0, (t / freq) ** 0.5)\n",
    "        # keep_prob = min(1, (freq/t + 1)**0.5 * t/freq)\n",
    "        # keep_probabilities[word] = round(keep_prob, 3)\n",
    "        keep_probabilities[word] = keep_prob\n",
    "\n",
    "    return keep_probabilities\n",
    "\n",
    "# Пример использования\n",
    "word_counts = {'the': 5000, 'is': 1000, 'apple': 50}\n",
    "print(subsample_frequent_words(word_counts))"
   ]
  },
  {
   "cell_type": "markdown",
   "metadata": {},
   "source": [
    "#### Подзадача №2: negative sampling\n",
    "Для более эффективного обучения необходимо не только предсказывать высокие вероятности для слов из контекста, но и предсказывать низкие для слов, не встреченных в контексте. Для этого вам необходимо вычислить вероятност использовать слово в качестве negative sample, реализовав функцию ниже.\n",
    "\n",
    "В оригинальной статье предлагается оценивать вероятность слов выступать в качестве negative sample согласно распределению $P_n(w)$\n",
    "$$\n",
    "P_n(w) = \\frac{U(w)^{3/4}}{Z},\n",
    "$$\n",
    "\n",
    "где $U(w)$ распределение слов по частоте (или, как его еще называют, по униграммам), а $Z$ – нормировочная константа, чтобы общая мера была равна $1$."
   ]
  },
  {
   "cell_type": "code",
   "execution_count": 15,
   "metadata": {},
   "outputs": [
    {
     "name": "stdout",
     "output_type": "stream",
     "text": [
      "{'the': 0.751488398196177, 'is': 0.2247474520689081, 'apple': 0.023764149734914898}\n",
      "1.0\n"
     ]
    }
   ],
   "source": [
    "def get_negative_sampling_prob(word_count_dict: Dict[str, int]):\n",
    "    \"\"\"\n",
    "    Calculates the negative sampling probabilities for words based on their frequencies.\n",
    "\n",
    "    This function adjusts the frequency of each word raised to the power of 0.75, which is\n",
    "    commonly used in algorithms like Word2Vec to moderate the influence of very frequent words.\n",
    "    It then normalizes these adjusted frequencies to ensure they sum to 1, forming a probability\n",
    "    distribution used for negative sampling.\n",
    "\n",
    "    Parameters:\n",
    "    - word_count_dict (dict): A dictionary where keys are words and values are the counts of those words.\n",
    "\n",
    "    Returns:\n",
    "    - dict: A dictionary where keys are words and values are the probabilities of selecting each word\n",
    "            for negative sampling.\n",
    "\n",
    "    Example:\n",
    "    >>> word_counts = {'the': 5000, 'is': 1000, 'apple': 50}\n",
    "    >>> get_negative_sampling_prob(word_counts)\n",
    "    {'the': 0.298, 'is': 0.160, 'apple': 0.042}\n",
    "    \"\"\"\n",
    "\n",
    "    neg_sample_probs = {word: count**(3/4) for word, count in word_count_dict.items() }\n",
    "    # print(f'{neg_sample_probs=}')\n",
    "    Z = sum(neg_sample_probs.values())\n",
    "    neg_sample_probs = {word: freq/Z for word, freq in neg_sample_probs.items()}\n",
    "\n",
    "    return neg_sample_probs\n",
    "\n",
    "word_counts = {'the': 5000, 'is': 1000, 'apple': 50}\n",
    "\n",
    "print(get_negative_sampling_prob(word_counts))\n",
    "print(sum(get_negative_sampling_prob(word_counts).values()))"
   ]
  },
  {
   "cell_type": "code",
   "execution_count": 16,
   "metadata": {},
   "outputs": [],
   "source": [
    "keep_prob_dict = subsample_frequent_words(word_count_dict)\n",
    "assert keep_prob_dict.keys() == word_count_dict.keys()"
   ]
  },
  {
   "cell_type": "code",
   "execution_count": 17,
   "metadata": {},
   "outputs": [],
   "source": [
    "negative_sampling_prob_dict = get_negative_sampling_prob(word_count_dict)\n",
    "assert negative_sampling_prob_dict.keys() == negative_sampling_prob_dict.keys()\n",
    "assert np.allclose(sum(negative_sampling_prob_dict.values()), 1)"
   ]
  },
  {
   "cell_type": "markdown",
   "metadata": {},
   "source": [
    "Для удобства, преобразуем полученные словари в массивы (т.к. все слова все равно уже пронумерованы)."
   ]
  },
  {
   "cell_type": "code",
   "execution_count": 18,
   "metadata": {},
   "outputs": [],
   "source": [
    "keep_prob_array = np.array(\n",
    "    [keep_prob_dict[index_to_word[idx]] for idx in range(len(word_to_index))]\n",
    ")\n",
    "negative_sampling_prob_array = np.array(\n",
    "    [\n",
    "        negative_sampling_prob_dict[index_to_word[idx]]\n",
    "        for idx in range(len(word_to_index))\n",
    "    ]\n",
    ")"
   ]
  },
  {
   "cell_type": "markdown",
   "metadata": {},
   "source": [
    "Если все прошло успешно, функция ниже поможет вам с генерацией подвыборок (батчей)."
   ]
  },
  {
   "cell_type": "code",
   "execution_count": 19,
   "metadata": {},
   "outputs": [],
   "source": [
    "from typing import List\n",
    "\n",
    "\n",
    "def generate_batch_with_neg_samples(\n",
    "    context_pairs: List[tuple[int, int]],\n",
    "    batch_size: int,\n",
    "    keep_prob_array: np.ndarray,\n",
    "    word_to_index: Dict[str, int],\n",
    "    num_negatives: int,\n",
    "    negative_sampling_prob_array: np.ndarray,\n",
    "):\n",
    "    \"\"\"Generates batch of context pairs randomlly choosing from context_pairs.\n",
    "    For each pair in batch generates n=num_nugatives negative words (indecies of words)\n",
    "\n",
    "    Args:\n",
    "        context_pairs (List[tuple[int, int]]): _description_\n",
    "        batch_size (int): _description_\n",
    "        keep_prob_array (np.ndarray): _description_\n",
    "        word_to_index (Dict[str, int]): _description_\n",
    "        num_negatives (int): number of negative samples\n",
    "        negative_sampling_prob_array (np.ndarray): batch_size stacked arrays of size (num_negatives, ). Final size (batch_size, num_negative)\n",
    "\n",
    "    Returns:\n",
    "        _type_: _description_\n",
    "    \"\"\"\n",
    "    batch = []\n",
    "    neg_samples = []\n",
    "\n",
    "    while len(batch) < batch_size:\n",
    "        center, context = random.choice(context_pairs)\n",
    "        if random.random() < keep_prob_array[center]:\n",
    "            batch.append((center, context))\n",
    "            neg_sample = np.random.choice(\n",
    "                range(len(negative_sampling_prob_array)),\n",
    "                size=num_negatives,\n",
    "                p=negative_sampling_prob_array,\n",
    "            )\n",
    "            neg_samples.append(neg_sample)\n",
    "    batch = np.array(batch)\n",
    "    neg_samples = np.vstack(neg_samples)\n",
    "    return batch, neg_samples"
   ]
  },
  {
   "cell_type": "code",
   "execution_count": 20,
   "metadata": {},
   "outputs": [],
   "source": [
    "batch_size = 4\n",
    "num_negatives = 15\n",
    "batch, neg_samples = generate_batch_with_neg_samples(\n",
    "    context_pairs,\n",
    "    batch_size,\n",
    "    keep_prob_array,\n",
    "    word_to_index,\n",
    "    num_negatives,\n",
    "    negative_sampling_prob_array,\n",
    ")"
   ]
  },
  {
   "cell_type": "code",
   "execution_count": 21,
   "metadata": {},
   "outputs": [
    {
     "name": "stdout",
     "output_type": "stream",
     "text": [
      "batch=array([[ 7757, 18989],\n",
      "       [ 4856, 22846],\n",
      "       [25345, 22497],\n",
      "       [12509, 22849]])\n",
      "neg_samples=array([[25727, 11273, 14447, 27423,  6615, 26594, 10131, 28022, 12265,\n",
      "         1172, 18079, 16191, 19917, 25727, 27503],\n",
      "       [15978,  9463, 24715, 16405, 11322,  4526, 21118,  8911, 15929,\n",
      "         6323,  8430,  5031,  2977,  6495, 26703],\n",
      "       [ 8191, 12537, 16776, 26722, 13346,  8788,  1207, 22849, 15466,\n",
      "        15891,  6270, 15504,  6404, 16517, 18066],\n",
      "       [26810, 19259,  2987,  5278, 22690,  3690, 25613,  1720, 25759,\n",
      "        23129, 12924, 17290, 13633, 11257,  6509]])\n"
     ]
    }
   ],
   "source": [
    "print(f'{batch=}')\n",
    "print(f'{neg_samples=}')"
   ]
  },
  {
   "cell_type": "markdown",
   "metadata": {},
   "source": [
    "Наконец, время реализовать модель. Обращаем ваше внимание, использование линейных слоев (`nn.Linear`) далеко не всегда оправданно!\n",
    "\n",
    "Напомним, что в случае negative sampling решается задача максимизации следующего функционала:\n",
    "\n",
    "$$\n",
    "\\mathcal{L} = \\log \\sigma({\\mathbf{v}'_{w_O}}^\\top \\mathbf{v}_{w_I}) + \\sum_{i=1}^{k} \\mathbb{E}_{w_i \\sim P_n(w)} \\left[ \\log \\sigma({-\\mathbf{v}'_{w_i}}^\\top \\mathbf{v}_{w_I}) \\right],\n",
    "$$\n",
    "\n",
    "где:\n",
    "- $\\mathbf{v}_{w_I}$ – вектор центрального слова $w_I$,\n",
    "- $\\mathbf{v}'_{w_O}$ – вектор слова из контекста $w_O$,\n",
    "- $k$ – число negative samplesЮ,\n",
    "- $P_n(w)$ – распределение negative samples, заданное выше,\n",
    "- $\\sigma$ – сигмоида."
   ]
  },
  {
   "cell_type": "code",
   "execution_count": 35,
   "metadata": {},
   "outputs": [],
   "source": [
    "from torch import Tensor\n",
    "\n",
    "class SkipGramModelWithNegSampling(nn.Module):\n",
    "    def __init__(self, vocab_size: int, embedding_dim: int):\n",
    "        super().__init__()\n",
    "        self.vocab_size = vocab_size\n",
    "        self.embedding_dim = embedding_dim\n",
    "        # Not sure about that\n",
    "        self.center_embeddings = nn.Embedding(num_embeddings=vocab_size, embedding_dim=embedding_dim)  # YOUR CODE HERE\n",
    "        self.context_embeddings = nn.Embedding(num_embeddings=vocab_size, embedding_dim=embedding_dim)  # YOUR CODE HERE\n",
    "\n",
    "    def forward(self, center_words: Tensor, pos_context_words: Tensor, neg_context_words: Tensor):\n",
    "        # YOUR CODE HERE\n",
    "        # (batch_size, emb_dim)\n",
    "        center_embs = self.center_embeddings(center_words)\n",
    "        # (batch_size, emb_dim)\n",
    "        pos_embs = self.context_embeddings(pos_context_words)\n",
    "        # (batch_size, num_neg, emb_dim)\n",
    "        neg_embs = self.context_embeddings(neg_context_words)\n",
    "\n",
    "        # (batch_size, 1, 1)\n",
    "        pos_scores = torch.bmm(center_embs.unsqueeze(1), pos_embs.unsqueeze(2))\n",
    "        pos_scores = pos_scores.squeeze((1,2))\n",
    "\n",
    "        # (batch_size, 1, num_neg)\n",
    "        neg_scores = -torch.bmm(center_embs.unsqueeze(1), neg_embs.transpose(1,2))\n",
    "        neg_scores = neg_scores.squeeze(1)\n",
    "\n",
    "        return pos_scores, neg_scores"
   ]
  },
  {
   "cell_type": "code",
   "execution_count": 36,
   "metadata": {},
   "outputs": [],
   "source": [
    "device = torch.device(\"cpu\")"
   ]
  },
  {
   "cell_type": "code",
   "execution_count": 37,
   "metadata": {},
   "outputs": [],
   "source": [
    "vocab_size = len(word_to_index)\n",
    "embedding_dim = 32\n",
    "num_negatives = 15\n",
    "\n",
    "model = SkipGramModelWithNegSampling(vocab_size, embedding_dim).to(device)\n",
    "optimizer = optim.Adam(model.parameters(), lr=0.05)\n",
    "lr_scheduler = ReduceLROnPlateau(optimizer, factor=0.5, patience=150)\n",
    "criterion = nn.BCEWithLogitsLoss()"
   ]
  },
  {
   "cell_type": "code",
   "execution_count": 38,
   "metadata": {},
   "outputs": [],
   "source": [
    "params_counter = 0\n",
    "for weights in model.parameters():\n",
    "    params_counter += weights.shape.numel()\n",
    "assert params_counter == len(word_to_index) * embedding_dim * 2"
   ]
  },
  {
   "cell_type": "code",
   "execution_count": null,
   "metadata": {},
   "outputs": [],
   "source": [
    "def train_skipgram_with_neg_sampling(\n",
    "    model,\n",
    "    context_pairs,\n",
    "    keep_prob_array,\n",
    "    word_to_index,\n",
    "    batch_size,\n",
    "    num_negatives,\n",
    "    negative_sampling_prob_array,\n",
    "    steps,\n",
    "    optimizer=optimizer,\n",
    "    lr_scheduler=lr_scheduler,\n",
    "    device=device,\n",
    "):\n",
    "    pos_labels = torch.ones(batch_size).to(device)\n",
    "    neg_labels = torch.zeros(batch_size, num_negatives).to(device)\n",
    "    loss_history = []\n",
    "    for step in tqdma(range(steps)):\n",
    "        batch, neg_samples = generate_batch_with_neg_samples(\n",
    "            context_pairs,\n",
    "            batch_size,\n",
    "            keep_prob_array,\n",
    "            word_to_index,\n",
    "            num_negatives,\n",
    "            negative_sampling_prob_array,\n",
    "        )\n",
    "        center_words = torch.tensor([pair[0] for pair in batch], dtype=torch.long).to(\n",
    "            device\n",
    "        )\n",
    "        pos_context_words = torch.tensor(\n",
    "            [pair[1] for pair in batch], dtype=torch.long\n",
    "        ).to(device)\n",
    "        neg_context_words = torch.tensor(neg_samples, dtype=torch.long).to(device)\n",
    "\n",
    "        optimizer.zero_grad()\n",
    "        pos_scores, neg_scores = model(\n",
    "            center_words, pos_context_words, neg_context_words\n",
    "        )\n",
    "\n",
    "        loss_pos = criterion(pos_scores, pos_labels)\n",
    "        loss_neg = criterion(neg_scores, neg_labels)\n",
    "\n",
    "        loss = loss_pos + loss_neg\n",
    "        loss.backward()\n",
    "        optimizer.step()\n",
    "\n",
    "        loss_history.append(loss.item())\n",
    "        lr_scheduler.step(loss_history[-1])\n",
    "\n",
    "        if step % 100 == 0:\n",
    "            print(\n",
    "                f\"Step {step}, Loss: {np.mean(loss_history[-100:])}, learning rate: {lr_scheduler._last_lr}\\n\",\n",
    "                # f\"{pos_scores=}\"\n",
    "            )\n",
    "\n",
    "        return loss_history"
   ]
  },
  {
   "cell_type": "code",
   "execution_count": null,
   "metadata": {},
   "outputs": [
    {
     "ename": "NameError",
     "evalue": "name 'loss_history' is not defined",
     "output_type": "error",
     "traceback": [
      "\u001b[1;31m---------------------------------------------------------------------------\u001b[0m",
      "\u001b[1;31mNameError\u001b[0m                                 Traceback (most recent call last)",
      "Cell \u001b[1;32mIn[62], line 1\u001b[0m\n\u001b[1;32m----> 1\u001b[0m \u001b[43mloss_history\u001b[49m\n",
      "\u001b[1;31mNameError\u001b[0m: name 'loss_history' is not defined"
     ]
    }
   ],
   "source": []
  },
  {
   "cell_type": "code",
   "execution_count": null,
   "metadata": {},
   "outputs": [
    {
     "name": "stderr",
     "output_type": "stream",
     "text": [
      "  0%|          | 1/2500 [00:01<56:33,  1.36s/it]"
     ]
    },
    {
     "name": "stdout",
     "output_type": "stream",
     "text": [
      "Step 0, Loss: 1.5857232809066772, learning rate: [0.05]\n",
      "\n"
     ]
    },
    {
     "name": "stderr",
     "output_type": "stream",
     "text": [
      "  4%|▍         | 101/2500 [02:23<56:25,  1.41s/it] "
     ]
    },
    {
     "name": "stdout",
     "output_type": "stream",
     "text": [
      "Step 100, Loss: 1.0355812364816666, learning rate: [0.05]\n",
      "\n"
     ]
    },
    {
     "name": "stderr",
     "output_type": "stream",
     "text": [
      "  8%|▊         | 201/2500 [04:45<54:05,  1.41s/it]  "
     ]
    },
    {
     "name": "stdout",
     "output_type": "stream",
     "text": [
      "Step 200, Loss: 0.41092193230986596, learning rate: [0.05]\n",
      "\n"
     ]
    },
    {
     "name": "stderr",
     "output_type": "stream",
     "text": [
      " 12%|█▏        | 301/2500 [07:07<54:57,  1.50s/it]"
     ]
    },
    {
     "name": "stdout",
     "output_type": "stream",
     "text": [
      "Step 300, Loss: 0.21098363049328328, learning rate: [0.05]\n",
      "\n"
     ]
    },
    {
     "name": "stderr",
     "output_type": "stream",
     "text": [
      " 16%|█▌        | 401/2500 [09:27<48:53,  1.40s/it]"
     ]
    },
    {
     "name": "stdout",
     "output_type": "stream",
     "text": [
      "Step 400, Loss: 0.13311262771487237, learning rate: [0.05]\n",
      "\n"
     ]
    },
    {
     "name": "stderr",
     "output_type": "stream",
     "text": [
      " 20%|██        | 501/2500 [11:43<45:01,  1.35s/it]"
     ]
    },
    {
     "name": "stdout",
     "output_type": "stream",
     "text": [
      "Step 500, Loss: 0.08764302264899015, learning rate: [0.05]\n",
      "\n"
     ]
    },
    {
     "name": "stderr",
     "output_type": "stream",
     "text": [
      " 24%|██▍       | 601/2500 [14:00<45:23,  1.43s/it]"
     ]
    },
    {
     "name": "stdout",
     "output_type": "stream",
     "text": [
      "Step 600, Loss: 0.06620079077780247, learning rate: [0.05]\n",
      "\n"
     ]
    },
    {
     "name": "stderr",
     "output_type": "stream",
     "text": [
      " 28%|██▊       | 701/2500 [16:17<40:21,  1.35s/it]"
     ]
    },
    {
     "name": "stdout",
     "output_type": "stream",
     "text": [
      "Step 700, Loss: 0.046445772387087345, learning rate: [0.05]\n",
      "\n"
     ]
    },
    {
     "name": "stderr",
     "output_type": "stream",
     "text": [
      " 32%|███▏      | 801/2500 [18:32<37:59,  1.34s/it]"
     ]
    },
    {
     "name": "stdout",
     "output_type": "stream",
     "text": [
      "Step 800, Loss: 0.03721361530944705, learning rate: [0.05]\n",
      "\n"
     ]
    },
    {
     "name": "stderr",
     "output_type": "stream",
     "text": [
      " 36%|███▌      | 901/2500 [20:48<36:04,  1.35s/it]"
     ]
    },
    {
     "name": "stdout",
     "output_type": "stream",
     "text": [
      "Step 900, Loss: 0.026280565350316466, learning rate: [0.05]\n",
      "\n"
     ]
    },
    {
     "name": "stderr",
     "output_type": "stream",
     "text": [
      " 40%|████      | 1001/2500 [23:06<38:05,  1.52s/it]"
     ]
    },
    {
     "name": "stdout",
     "output_type": "stream",
     "text": [
      "Step 1000, Loss: 0.020522646834142507, learning rate: [0.05]\n",
      "\n"
     ]
    },
    {
     "name": "stderr",
     "output_type": "stream",
     "text": [
      " 44%|████▍     | 1101/2500 [25:22<30:57,  1.33s/it]"
     ]
    },
    {
     "name": "stdout",
     "output_type": "stream",
     "text": [
      "Step 1100, Loss: 0.015316692893393338, learning rate: [0.05]\n",
      "\n"
     ]
    },
    {
     "name": "stderr",
     "output_type": "stream",
     "text": [
      " 48%|████▊     | 1201/2500 [27:38<28:49,  1.33s/it]"
     ]
    },
    {
     "name": "stdout",
     "output_type": "stream",
     "text": [
      "Step 1200, Loss: 0.013685970166698098, learning rate: [0.05]\n",
      "\n"
     ]
    },
    {
     "name": "stderr",
     "output_type": "stream",
     "text": [
      " 52%|█████▏    | 1301/2500 [29:54<26:39,  1.33s/it]"
     ]
    },
    {
     "name": "stdout",
     "output_type": "stream",
     "text": [
      "Step 1300, Loss: 0.011162807957734912, learning rate: [0.05]\n",
      "\n"
     ]
    },
    {
     "name": "stderr",
     "output_type": "stream",
     "text": [
      " 56%|█████▌    | 1401/2500 [32:14<25:24,  1.39s/it]"
     ]
    },
    {
     "name": "stdout",
     "output_type": "stream",
     "text": [
      "Step 1400, Loss: 0.007387274271459319, learning rate: [0.05]\n",
      "\n"
     ]
    },
    {
     "name": "stderr",
     "output_type": "stream",
     "text": [
      " 60%|██████    | 1501/2500 [34:31<22:21,  1.34s/it]"
     ]
    },
    {
     "name": "stdout",
     "output_type": "stream",
     "text": [
      "Step 1500, Loss: 0.008582251453190111, learning rate: [0.05]\n",
      "\n"
     ]
    },
    {
     "name": "stderr",
     "output_type": "stream",
     "text": [
      " 64%|██████▍   | 1601/2500 [36:48<20:15,  1.35s/it]"
     ]
    },
    {
     "name": "stdout",
     "output_type": "stream",
     "text": [
      "Step 1600, Loss: 0.004864924727589823, learning rate: [0.05]\n",
      "\n"
     ]
    },
    {
     "name": "stderr",
     "output_type": "stream",
     "text": [
      " 68%|██████▊   | 1701/2500 [39:05<18:50,  1.41s/it]"
     ]
    },
    {
     "name": "stdout",
     "output_type": "stream",
     "text": [
      "Step 1700, Loss: 0.005282905707717873, learning rate: [0.05]\n",
      "\n"
     ]
    },
    {
     "name": "stderr",
     "output_type": "stream",
     "text": [
      " 72%|███████▏  | 1801/2500 [41:24<16:37,  1.43s/it]"
     ]
    },
    {
     "name": "stdout",
     "output_type": "stream",
     "text": [
      "Step 1800, Loss: 0.0040356121875811364, learning rate: [0.05]\n",
      "\n"
     ]
    },
    {
     "name": "stderr",
     "output_type": "stream",
     "text": [
      " 76%|███████▌  | 1901/2500 [43:41<14:09,  1.42s/it]"
     ]
    },
    {
     "name": "stdout",
     "output_type": "stream",
     "text": [
      "Step 1900, Loss: 0.0034622349268465767, learning rate: [0.05]\n",
      "\n"
     ]
    },
    {
     "name": "stderr",
     "output_type": "stream",
     "text": [
      " 80%|████████  | 2001/2500 [45:58<11:27,  1.38s/it]"
     ]
    },
    {
     "name": "stdout",
     "output_type": "stream",
     "text": [
      "Step 2000, Loss: 0.003191858880163636, learning rate: [0.05]\n",
      "\n"
     ]
    },
    {
     "name": "stderr",
     "output_type": "stream",
     "text": [
      " 84%|████████▍ | 2101/2500 [48:12<08:55,  1.34s/it]"
     ]
    },
    {
     "name": "stdout",
     "output_type": "stream",
     "text": [
      "Step 2100, Loss: 0.0013325188515591435, learning rate: [0.025]\n",
      "\n"
     ]
    },
    {
     "name": "stderr",
     "output_type": "stream",
     "text": [
      " 88%|████████▊ | 2201/2500 [50:26<06:42,  1.35s/it]"
     ]
    },
    {
     "name": "stdout",
     "output_type": "stream",
     "text": [
      "Step 2200, Loss: 0.001706591301044682, learning rate: [0.025]\n",
      "\n"
     ]
    },
    {
     "name": "stderr",
     "output_type": "stream",
     "text": [
      " 92%|█████████▏| 2301/2500 [52:41<04:26,  1.34s/it]"
     ]
    },
    {
     "name": "stdout",
     "output_type": "stream",
     "text": [
      "Step 2300, Loss: 0.0019780720891139935, learning rate: [0.025]\n",
      "\n"
     ]
    },
    {
     "name": "stderr",
     "output_type": "stream",
     "text": [
      " 96%|█████████▌| 2401/2500 [54:56<02:11,  1.33s/it]"
     ]
    },
    {
     "name": "stdout",
     "output_type": "stream",
     "text": [
      "Step 2400, Loss: 0.0014341690034780185, learning rate: [0.025]\n",
      "\n"
     ]
    },
    {
     "name": "stderr",
     "output_type": "stream",
     "text": [
      "100%|██████████| 2500/2500 [57:14<00:00,  1.37s/it]\n"
     ]
    }
   ],
   "source": [
    "steps = 2500\n",
    "batch_size = 512\n",
    "loss_hisrory = train_skipgram_with_neg_sampling(\n",
    "    model,\n",
    "    context_pairs,\n",
    "    keep_prob_array,\n",
    "    word_to_index,\n",
    "    batch_size,\n",
    "    num_negatives,\n",
    "    negative_sampling_prob_array,\n",
    "    steps,\n",
    ")"
   ]
  },
  {
   "cell_type": "markdown",
   "metadata": {},
   "source": [
    "Наконец, используйте полученную матрицу весов в качестве матрицы в векторными представлениями слов. Рекомендуем использовать для сдачи матрицу, которая отвечала за слова из контекста (т.е. декодера)."
   ]
  },
  {
   "cell_type": "code",
   "execution_count": 45,
   "metadata": {},
   "outputs": [],
   "source": [
    "_model_parameters = model.parameters()\n",
    "embedding_matrix_center = next(\n",
    "    _model_parameters\n",
    ").detach()  # Assuming that first matrix was for central word\n",
    "embedding_matrix_context = next(\n",
    "    _model_parameters\n",
    ").detach()  # Assuming that second matrix was for context word"
   ]
  },
  {
   "cell_type": "code",
   "execution_count": 46,
   "metadata": {},
   "outputs": [
    {
     "name": "stdout",
     "output_type": "stream",
     "text": [
      "embedding_matrix_center[:10]=tensor([[-3.1086e-01, -1.7479e+00, -4.2378e-01, -1.1796e+00,  3.5395e-01,\n",
      "         -1.1635e+00, -6.5453e-01, -1.7161e+00,  2.5304e+00, -6.7543e-02,\n",
      "         -9.6816e-02, -2.7887e+00,  9.2194e-03, -1.8614e+00,  3.6164e-01,\n",
      "         -9.2888e-03,  1.2507e+00, -1.4830e+00,  1.2328e-01, -2.4812e+00,\n",
      "          7.2921e-02,  2.3331e+00, -1.2697e+00,  2.7235e-01,  1.4324e+00,\n",
      "          4.3181e-01, -3.0064e+00, -1.6165e+00,  9.2025e-01, -2.7863e-01,\n",
      "          1.9407e+00,  5.0848e-01],\n",
      "        [ 1.4224e+00,  3.3928e-01, -1.2822e+00, -1.5142e+00,  8.6194e-02,\n",
      "         -1.2486e+00,  1.3501e-01,  8.9190e-01,  8.2051e-01, -4.9097e-01,\n",
      "          1.3755e-01, -2.4599e-03, -1.3573e-01, -4.6175e-01,  3.3414e-01,\n",
      "          5.7097e-01,  7.1084e-01,  3.1288e-02,  2.3180e-02,  8.2961e-02,\n",
      "         -6.5555e-01,  1.7680e+00,  2.3823e-01, -1.8984e-01, -1.2187e-01,\n",
      "          1.2758e-01, -7.7532e-01, -8.8085e-01,  7.5672e-01, -5.8812e-01,\n",
      "          2.1456e+00, -2.0109e-01],\n",
      "        [ 1.5994e+00, -1.8573e+00, -1.3196e+00, -2.8737e-01,  4.2277e-01,\n",
      "         -4.0202e-01, -3.1559e-01,  1.7110e+00, -1.9372e-01,  2.6009e-01,\n",
      "         -4.3434e-01, -6.7243e-01, -5.2003e-01, -1.9965e+00,  7.7339e-01,\n",
      "         -1.0913e+00,  4.6482e-01,  1.1959e+00, -3.1340e+00, -2.7364e+00,\n",
      "         -1.1922e+00,  1.1948e+00, -1.3830e+00, -2.4117e-01,  1.3517e+00,\n",
      "         -8.4810e-01, -7.8586e-01, -3.0795e-01,  3.7255e-01,  3.1521e-01,\n",
      "          7.6391e-01,  5.1541e-01],\n",
      "        [ 1.5447e+00, -1.1158e+00, -1.5009e-01, -1.3012e+00,  1.9073e-01,\n",
      "         -2.4208e+00, -2.6947e-01,  1.9811e-02,  1.7037e+00, -2.4491e-01,\n",
      "         -9.1111e-01, -1.5020e+00, -5.4675e-01, -4.8289e-01, -7.1324e-02,\n",
      "         -1.3030e+00,  7.8085e-01,  1.0744e+00, -5.2667e-01,  6.9933e-01,\n",
      "         -3.1183e-01,  6.3993e-01, -1.2193e+00, -1.5788e-01, -5.1563e-02,\n",
      "          2.5034e-01, -1.5970e+00, -1.1007e+00,  9.4761e-01, -2.0124e-01,\n",
      "         -5.5431e-02, -5.3415e-01],\n",
      "        [ 9.4169e-01, -8.2767e-01, -1.5553e+00, -1.7951e+00, -9.3340e-01,\n",
      "         -6.7480e-01, -5.3125e-01,  4.6215e-01,  9.1533e-01, -1.5817e-01,\n",
      "         -2.1611e-01, -6.2726e-01, -3.5768e-02, -2.0961e-01,  6.9792e-02,\n",
      "         -2.3424e-01,  8.3658e-01,  2.4314e-01,  6.3645e-02, -5.4334e-01,\n",
      "         -2.8067e-01,  1.3466e+00, -3.8396e-01, -4.5455e-01,  3.4637e-01,\n",
      "         -1.2352e-01, -9.1318e-01, -1.5700e+00, -4.7378e-01, -7.0307e-01,\n",
      "          3.1442e-01,  2.0749e-01],\n",
      "        [ 1.3573e+00, -1.7796e+00, -6.2134e-01, -3.4439e-01,  3.0393e-01,\n",
      "         -1.4192e+00, -4.6109e-01, -3.3885e-01,  2.9171e-01, -6.3122e-01,\n",
      "          1.1380e+00, -4.8163e-01, -1.6026e-01, -5.2177e-01, -5.3169e-01,\n",
      "         -4.9586e-01,  1.0261e+00,  1.4831e+00,  3.4702e-01,  4.5298e-01,\n",
      "         -1.2917e+00,  1.9889e+00,  2.8176e-01, -7.2377e-01,  9.0628e-02,\n",
      "          3.5492e-01, -2.8840e-01, -5.8739e-01, -1.3602e+00, -1.3076e-01,\n",
      "          1.9543e-01,  1.2642e+00],\n",
      "        [ 1.4130e+00, -8.6549e-01, -1.4130e+00, -7.9446e-01,  6.3547e-01,\n",
      "         -1.0619e+00, -3.8330e-01, -7.1184e-01,  4.1966e-02, -6.2044e-01,\n",
      "         -8.4093e-03, -4.6068e-01,  1.4234e+00, -1.1866e+00,  6.6832e-01,\n",
      "         -6.2436e-01,  8.1136e-01,  4.9644e-01, -1.6886e-01,  1.5475e-02,\n",
      "         -6.2514e-01,  1.0350e+00,  1.2806e+00, -1.8610e+00, -7.5935e-01,\n",
      "         -8.0589e-01, -1.9932e-01, -7.7088e-01,  5.6531e-01, -1.1120e+00,\n",
      "         -1.8677e-01,  1.8984e+00],\n",
      "        [ 3.0827e-01, -8.4587e-01, -1.3932e+00, -2.2911e+00,  8.9502e-01,\n",
      "         -8.8117e-01,  1.1351e+00,  1.5578e+00,  1.2976e+00,  3.9432e-01,\n",
      "          7.4039e-01, -5.9014e-01, -3.0931e-01, -5.8143e-01,  2.8781e-01,\n",
      "         -1.1286e+00, -1.3312e+00,  1.4488e+00, -9.1721e-01, -2.2170e+00,\n",
      "         -2.3059e+00,  1.8673e+00,  1.1565e+00, -5.2212e-01, -1.0538e+00,\n",
      "         -6.1638e-01, -1.3393e+00, -8.8511e-01, -2.0840e-01, -1.2623e+00,\n",
      "         -1.6131e-01, -7.5968e-01],\n",
      "        [ 1.1291e+00, -1.1387e+00, -9.0522e-02, -1.9570e+00,  4.2577e-01,\n",
      "         -6.1641e-01, -3.6481e-01, -1.3575e-01,  6.2099e-01, -1.0590e+00,\n",
      "         -1.8542e-01, -6.6429e-01, -9.9562e-02, -4.4121e-01, -1.1003e+00,\n",
      "          8.8642e-03, -2.6980e-01,  9.9661e-01, -4.7722e-01, -1.8828e-01,\n",
      "         -7.8264e-01,  2.3131e+00,  8.2108e-02, -3.7158e-01,  9.7574e-01,\n",
      "          1.0515e+00, -7.0657e-01, -1.0733e+00,  5.6480e-01, -1.0228e+00,\n",
      "          1.0399e+00,  4.9036e-01],\n",
      "        [ 3.2411e+00, -6.4969e-02, -1.9781e+00, -9.0235e-01,  1.4120e+00,\n",
      "         -2.6355e+00,  6.4959e-01,  4.2289e-01,  9.4139e-01,  1.0155e+00,\n",
      "         -4.6135e-01,  1.4117e-01, -1.1484e-01,  6.5857e-01,  1.0993e-01,\n",
      "         -4.6858e-01,  1.0054e+00,  1.4062e+00, -3.3401e-01, -2.6480e+00,\n",
      "          4.0697e-01,  1.0795e+00, -1.8743e-01, -1.3685e+00, -1.2510e+00,\n",
      "          7.5246e-01,  1.9357e-01, -1.3228e+00,  1.9731e-01,  5.8743e-01,\n",
      "          1.6399e+00, -3.2681e-01]])\n",
      "embedding_matrix_context[:10]=tensor([[ 1.2150e+00, -1.9931e+00, -1.9336e+00, -1.4186e+00, -1.1943e+00,\n",
      "         -3.0391e-01, -5.8984e-03,  3.6490e-01,  3.9480e-02, -7.9531e-02,\n",
      "         -1.3213e+00, -3.6469e-01,  3.6146e-01,  5.6123e-01,  1.7563e+00,\n",
      "          6.3129e-01, -1.5134e-01, -2.5408e-01,  1.1424e-01, -1.1096e+00,\n",
      "         -6.3396e-01,  2.4885e+00,  3.0051e-01,  2.9971e-01,  1.1483e+00,\n",
      "          1.0717e+00, -1.1707e+00, -1.2574e+00, -5.5586e-02, -3.1844e-01,\n",
      "          1.0517e+00,  3.2694e-01],\n",
      "        [ 5.3374e-01, -8.6366e-01, -1.3456e+00, -7.1217e-01,  1.7639e-01,\n",
      "         -5.6097e-01, -1.2817e-01, -1.0433e-01,  9.2459e-01, -2.7112e-02,\n",
      "          5.2901e-01,  4.8303e-01, -3.4959e-01, -1.3960e+00, -7.5997e-01,\n",
      "         -9.3678e-01,  1.7969e+00,  9.0835e-01,  1.1784e+00,  2.4422e-01,\n",
      "          3.0395e-04,  6.8152e-01,  7.7953e-01, -1.8481e+00,  4.3571e-01,\n",
      "          8.8669e-02, -3.8014e-01, -6.3549e-01,  6.7475e-01, -6.2671e-01,\n",
      "          5.4537e-01,  4.1723e-02],\n",
      "        [ 8.0378e-01,  2.9952e-03,  1.4772e-01, -3.3953e+00,  1.7210e+00,\n",
      "         -1.7768e+00,  1.3351e+00,  4.6155e-01,  2.5285e+00, -7.8921e-01,\n",
      "         -1.1062e+00, -1.5935e+00,  7.7447e-01, -2.0625e-01,  8.8098e-01,\n",
      "          2.8807e-01,  2.8113e+00, -1.6533e-01, -4.7861e-02, -1.2354e+00,\n",
      "         -9.2828e-02,  1.9973e+00,  9.7493e-01, -6.4706e-01, -7.6612e-01,\n",
      "         -1.0096e+00,  3.1052e-01, -3.4059e+00, -7.8149e-01,  1.6868e-01,\n",
      "         -4.0553e-01, -2.9498e-02],\n",
      "        [ 1.4671e+00, -8.2675e-01, -3.8676e-01, -1.5845e+00,  7.8076e-01,\n",
      "         -6.1922e-01,  1.1676e+00,  1.1342e-01,  8.1841e-01, -3.4997e-01,\n",
      "          5.7559e-01, -7.8206e-01, -8.9082e-01, -1.2945e-01, -4.8631e-01,\n",
      "         -4.8078e-02,  6.9547e-01,  1.1585e+00,  7.0254e-01, -8.0647e-01,\n",
      "         -3.7606e-02,  2.1131e+00,  8.7372e-01, -5.4094e-01, -1.5165e-01,\n",
      "          5.0987e-01, -5.8660e-01, -8.2119e-02, -1.3622e+00, -2.4454e-01,\n",
      "          7.6766e-01, -5.1885e-01],\n",
      "        [ 8.4134e-01, -7.4643e-01, -9.3247e-01, -1.1507e+00,  8.0334e-02,\n",
      "         -5.1222e-01, -4.9983e-01, -4.7902e-02,  5.9481e-01, -4.4306e-01,\n",
      "          4.1619e-01, -1.4735e-01,  3.5335e-01, -9.8628e-01,  5.9386e-01,\n",
      "         -6.2315e-01,  7.4989e-01,  4.1920e-01,  5.9488e-01, -9.1531e-01,\n",
      "         -3.2844e-01,  1.2456e+00, -1.2629e-01, -5.6732e-01, -6.2020e-01,\n",
      "         -3.7634e-01, -4.8834e-01, -7.5907e-01, -6.4577e-02, -6.3152e-01,\n",
      "          1.1565e-01, -1.7374e-01],\n",
      "        [ 3.3096e-02, -1.1725e+00, -4.3173e-02, -1.5089e-01,  5.8684e-01,\n",
      "         -1.5086e+00,  7.2446e-01, -1.3898e+00,  9.1033e-01, -1.7476e+00,\n",
      "          2.5220e-01,  8.8058e-02,  7.8791e-01, -1.2313e+00,  5.9803e-01,\n",
      "          2.7847e-01,  1.5406e+00,  6.5862e-01, -7.9867e-01,  4.0665e-01,\n",
      "          3.4028e-01,  2.7748e+00,  1.0884e+00, -4.6109e-01, -1.2144e+00,\n",
      "          3.0737e-02, -3.6079e-01, -1.2071e+00,  2.8647e-01,  1.9562e+00,\n",
      "          3.7699e-01,  1.0864e+00],\n",
      "        [ 1.0142e+00, -4.4852e-01, -1.7634e+00, -8.2692e-01, -7.2632e-01,\n",
      "         -1.4323e-01, -7.0639e-01, -9.1211e-01,  1.3002e-01, -4.2039e-01,\n",
      "          2.4296e-01,  2.3553e-01,  4.1627e-01,  3.4574e-01, -7.5197e-01,\n",
      "          1.3126e-02, -9.4484e-01,  2.7507e-01, -9.0788e-01,  1.2644e-01,\n",
      "         -7.0273e-01,  1.6618e+00,  1.7358e+00, -9.1435e-01,  2.0961e-01,\n",
      "         -2.1250e-01, -1.5165e+00, -3.9071e-01,  1.5215e-01, -1.8638e+00,\n",
      "          1.8468e+00,  9.5546e-01],\n",
      "        [ 5.8577e-01,  3.2994e-01, -8.1845e-02, -1.4170e+00,  9.2565e-01,\n",
      "         -2.4736e+00, -7.9972e-01, -2.0754e-01,  2.5029e+00, -5.2064e-01,\n",
      "         -5.0645e-01,  1.9912e+00,  3.7400e-01, -1.1217e+00,  9.9417e-01,\n",
      "         -1.2937e-01,  1.0057e+00,  2.4457e+00, -2.0042e+00, -1.1597e-01,\n",
      "         -1.4006e+00, -1.5152e-01,  5.3584e-01,  3.6112e-01, -7.7663e-01,\n",
      "         -1.2124e+00, -2.2166e+00, -1.8867e+00,  8.7963e-03, -7.8086e-01,\n",
      "          1.3934e+00,  1.9081e+00],\n",
      "        [ 1.1060e+00, -6.9156e-01, -3.2618e-01, -1.8457e+00,  5.2527e-01,\n",
      "         -1.1584e+00,  9.1734e-01,  3.2247e-01,  1.2524e+00, -1.5403e+00,\n",
      "          4.7051e-01, -3.2781e-01, -1.4630e-02, -1.7858e+00, -5.7882e-01,\n",
      "          7.1441e-01,  1.7186e+00, -8.8705e-01, -8.4141e-01, -2.2326e-01,\n",
      "         -3.2620e-01,  1.0009e+00,  7.0458e-01,  1.2815e-02, -1.8873e-01,\n",
      "          4.0290e-02, -7.4041e-01, -1.4565e+00, -2.1458e-01,  1.1081e+00,\n",
      "          9.2348e-01, -7.6593e-01],\n",
      "        [ 1.2599e+00, -1.5910e+00,  5.8169e-01, -2.0991e+00,  2.9022e-01,\n",
      "         -1.6723e+00,  5.0669e-01, -4.9275e-01,  1.6207e+00, -5.3008e-01,\n",
      "         -3.5075e-01, -5.3321e-01,  4.5115e-01, -8.2827e-01,  5.0602e-01,\n",
      "         -1.0061e+00,  2.5447e+00,  4.1695e-01, -1.0338e+00, -4.9014e-01,\n",
      "         -1.1773e+00,  2.5189e+00, -2.7495e-01, -5.0701e-01, -9.6309e-01,\n",
      "          4.7938e-02,  6.9892e-01, -7.2247e-01, -8.8292e-01, -4.4549e-01,\n",
      "          8.7922e-01, -4.8663e-01]])\n"
     ]
    }
   ],
   "source": [
    "print(f'{embedding_matrix_center[:10]=}')\n",
    "print(f'{embedding_matrix_context[:10]=}')"
   ]
  },
  {
   "cell_type": "code",
   "execution_count": 47,
   "metadata": {},
   "outputs": [],
   "source": [
    "def get_word_vector(word, embedding_matrix, word_to_index=word_to_index):\n",
    "    return embedding_matrix[word_to_index[word]]"
   ]
  },
  {
   "cell_type": "markdown",
   "metadata": {},
   "source": [
    "Простые проверки:"
   ]
  },
  {
   "cell_type": "code",
   "execution_count": 48,
   "metadata": {},
   "outputs": [
    {
     "name": "stdout",
     "output_type": "stream",
     "text": [
      "similarity_1=tensor([0.6156]), similarity_2=tensor([0.5301])\n"
     ]
    }
   ],
   "source": [
    "similarity_1 = F.cosine_similarity(\n",
    "    get_word_vector(\"iphone\", embedding_matrix_context)[None, :],\n",
    "    get_word_vector(\"apple\", embedding_matrix_context)[None, :],\n",
    ")\n",
    "similarity_2 = F.cosine_similarity(\n",
    "    get_word_vector(\"iphone\", embedding_matrix_context)[None, :],\n",
    "    get_word_vector(\"dell\", embedding_matrix_context)[None, :],\n",
    ")\n",
    "\n",
    "print(f'{similarity_1=}, {similarity_2=}')\n",
    "assert similarity_1 > similarity_2"
   ]
  },
  {
   "cell_type": "code",
   "execution_count": 50,
   "metadata": {},
   "outputs": [
    {
     "name": "stdout",
     "output_type": "stream",
     "text": [
      "similarity_1=tensor([0.6512]), similarity_2=tensor([0.5122])\n"
     ]
    }
   ],
   "source": [
    "similarity_1 = F.cosine_similarity(\n",
    "    get_word_vector(\"windows\", embedding_matrix_context)[None, :],\n",
    "    get_word_vector(\"laptop\", embedding_matrix_context)[None, :],\n",
    ")\n",
    "similarity_2 = F.cosine_similarity(\n",
    "    get_word_vector(\"windows\", embedding_matrix_context)[None, :],\n",
    "    get_word_vector(\"macbook\", embedding_matrix_context)[None, :],\n",
    ")\n",
    "print(f'{similarity_1=}, {similarity_2=}')\n",
    "assert similarity_1 > similarity_2"
   ]
  },
  {
   "cell_type": "markdown",
   "metadata": {},
   "source": [
    "Наконец, взглянем на ближайшие по косинусной мере слова. Функция реализована ниже."
   ]
  },
  {
   "cell_type": "code",
   "execution_count": 51,
   "metadata": {
    "id": "dA0V6rOYtsLk"
   },
   "outputs": [],
   "source": [
    "def find_nearest(word, embedding_matrix, word_to_index=word_to_index, k=10):\n",
    "    word_vector = get_word_vector(word, embedding_matrix)[None, :]\n",
    "    dists = F.cosine_similarity(embedding_matrix, word_vector)\n",
    "    index_sorted = torch.argsort(dists)\n",
    "    top_k = index_sorted[-k:]\n",
    "    return [(index_to_word[x], dists[x].item()) for x in top_k.numpy()]"
   ]
  },
  {
   "cell_type": "code",
   "execution_count": 52,
   "metadata": {},
   "outputs": [
    {
     "data": {
      "text/plain": [
       "[('tails', 0.7906049489974976),\n",
       " ('protect', 0.790946364402771),\n",
       " ('dan', 0.7925320863723755),\n",
       " ('constructing', 0.7944867610931396),\n",
       " ('world', 0.7951883673667908),\n",
       " ('scans', 0.79781174659729),\n",
       " ('job', 0.8161370754241943),\n",
       " ('apps', 0.8236046433448792),\n",
       " ('ncis', 0.8312482833862305),\n",
       " ('python', 0.9999999403953552)]"
      ]
     },
     "execution_count": 52,
     "metadata": {},
     "output_type": "execute_result"
    }
   ],
   "source": [
    "find_nearest(\"python\", embedding_matrix_context, k=10)"
   ]
  },
  {
   "cell_type": "markdown",
   "metadata": {},
   "source": [
    "Также вы можете визуально проверить, как представлены в латентном пространстве часто встречающиеся слова."
   ]
  },
  {
   "cell_type": "code",
   "execution_count": 58,
   "metadata": {},
   "outputs": [
    {
     "name": "stdout",
     "output_type": "stream",
     "text": [
      "top_words[:10]=['verified', '2gb', 'illinois', 'jazz', 'checking', 'telescope', 'seasons', 'astrologer', 'contribution', 'homemade']\n"
     ]
    }
   ],
   "source": [
    "top_k = 5000\n",
    "_top_words = sorted([x for x in word_count_dict.items()], key=lambda x: x[1])[\n",
    "    -top_k - 100 : -100\n",
    "]  # ignoring 100 most frequent words\n",
    "top_words = [x[0] for x in _top_words]\n",
    "del _top_words\n",
    "\n",
    "print(f'{top_words[:10]=}')"
   ]
  },
  {
   "cell_type": "code",
   "execution_count": 59,
   "metadata": {},
   "outputs": [
    {
     "name": "stdout",
     "output_type": "stream",
     "text": [
      "word_embeddings=array([[ 1.4705968 , -1.1918211 ,  0.59138453, ..., -0.20900188,\n",
      "         1.7666626 ,  0.32144344],\n",
      "       [ 2.749911  , -2.481285  , -2.0097427 , ..., -0.08414183,\n",
      "         0.27209884,  0.6698555 ],\n",
      "       [ 1.5476143 , -0.10415564,  0.48510742, ..., -0.9274145 ,\n",
      "        -0.12114553,  0.54225826],\n",
      "       ...,\n",
      "       [ 0.67550755, -0.13705188, -0.5143061 , ..., -0.72724795,\n",
      "         0.8612631 ,  0.27102184],\n",
      "       [ 1.5657055 , -1.1128488 , -1.1836333 , ..., -0.04446257,\n",
      "         1.0684863 , -0.287945  ],\n",
      "       [ 0.95971817, -0.29702878, -0.90587837, ..., -1.1176012 ,\n",
      "         0.6878501 ,  1.0904022 ]], dtype=float32)\n"
     ]
    }
   ],
   "source": [
    "word_embeddings = torch.cat(\n",
    "    [embedding_matrix_context[word_to_index[x]][None, :] for x in top_words], dim=0\n",
    ").numpy()\n",
    "\n",
    "print(f'{word_embeddings=}')"
   ]
  },
  {
   "cell_type": "code",
   "execution_count": 55,
   "metadata": {},
   "outputs": [
    {
     "data": {
      "text/html": [
       "    <style>\n",
       "        .bk-notebook-logo {\n",
       "            display: block;\n",
       "            width: 20px;\n",
       "            height: 20px;\n",
       "            background-image: url(data:image/png;base64,iVBORw0KGgoAAAANSUhEUgAAABQAAAAUCAYAAACNiR0NAAAABHNCSVQICAgIfAhkiAAAAAlwSFlzAAALEgAACxIB0t1+/AAAABx0RVh0U29mdHdhcmUAQWRvYmUgRmlyZXdvcmtzIENTNui8sowAAAOkSURBVDiNjZRtaJVlGMd/1/08zzln5zjP1LWcU9N0NkN8m2CYjpgQYQXqSs0I84OLIC0hkEKoPtiH3gmKoiJDU7QpLgoLjLIQCpEsNJ1vqUOdO7ppbuec5+V+rj4ctwzd8IIbbi6u+8f1539dt3A78eXC7QizUF7gyV1fD1Yqg4JWz84yffhm0qkFqBogB9rM8tZdtwVsPUhWhGcFJngGeWrPzHm5oaMmkfEg1usvLFyc8jLRqDOMru7AyC8saQr7GG7f5fvDeH7Ej8CM66nIF+8yngt6HWaKh7k49Soy9nXurCi1o3qUbS3zWfrYeQDTB/Qj6kX6Ybhw4B+bOYoLKCC9H3Nu/leUTZ1JdRWkkn2ldcCamzrcf47KKXdAJllSlxAOkRgyHsGC/zRday5Qld9DyoM4/q/rUoy/CXh3jzOu3bHUVZeU+DEn8FInkPBFlu3+nW3Nw0mk6vCDiWg8CeJaxEwuHS3+z5RgY+YBR6V1Z1nxSOfoaPa4LASWxxdNp+VWTk7+4vzaou8v8PN+xo+KY2xsw6une2frhw05CTYOmQvsEhjhWjn0bmXPjpE1+kplmmkP3suftwTubK9Vq22qKmrBhpY4jvd5afdRA3wGjFAgcnTK2s4hY0/GPNIb0nErGMCRxWOOX64Z8RAC4oCXdklmEvcL8o0BfkNK4lUg9HTl+oPlQxdNo3Mg4Nv175e/1LDGzZen30MEjRUtmXSfiTVu1kK8W4txyV6BMKlbgk3lMwYCiusNy9fVfvvwMxv8Ynl6vxoByANLTWplvuj/nF9m2+PDtt1eiHPBr1oIfhCChQMBw6Aw0UulqTKZdfVvfG7VcfIqLG9bcldL/+pdWTLxLUy8Qq38heUIjh4XlzZxzQm19lLFlr8vdQ97rjZVOLf8nclzckbcD4wxXMidpX30sFd37Fv/GtwwhzhxGVAprjbg0gCAEeIgwCZyTV2Z1REEW8O4py0wsjeloKoMr6iCY6dP92H6Vw/oTyICIthibxjm/DfN9lVz8IqtqKYLUXfoKVMVQVVJOElGjrnnUt9T9wbgp8AyYKaGlqingHZU/uG2NTZSVqwHQTWkx9hxjkpWDaCg6Ckj5qebgBVbT3V3NNXMSiWSDdGV3hrtzla7J+duwPOToIg42ChPQOQjspnSlp1V+Gjdged7+8UN5CRAV7a5EdFNwCjEaBR27b3W890TE7g24NAP/mMDXRWrGoFPQI9ls/MWO2dWFAar/xcOIImbbpA3zgAAAABJRU5ErkJggg==);\n",
       "        }\n",
       "    </style>\n",
       "    <div>\n",
       "        <a href=\"https://bokeh.org\" target=\"_blank\" class=\"bk-notebook-logo\"></a>\n",
       "        <span id=\"ed171374-3404-43e2-9367-03d33588c9d8\">Loading BokehJS ...</span>\n",
       "    </div>\n"
      ]
     },
     "metadata": {},
     "output_type": "display_data"
    },
    {
     "data": {
      "application/javascript": "'use strict';\n(function(root) {\n  function now() {\n    return new Date();\n  }\n\n  const force = true;\n\n  if (typeof root._bokeh_onload_callbacks === \"undefined\" || force === true) {\n    root._bokeh_onload_callbacks = [];\n    root._bokeh_is_loading = undefined;\n  }\n\nconst JS_MIME_TYPE = 'application/javascript';\n  const HTML_MIME_TYPE = 'text/html';\n  const EXEC_MIME_TYPE = 'application/vnd.bokehjs_exec.v0+json';\n  const CLASS_NAME = 'output_bokeh rendered_html';\n\n  /**\n   * Render data to the DOM node\n   */\n  function render(props, node) {\n    const script = document.createElement(\"script\");\n    node.appendChild(script);\n  }\n\n  /**\n   * Handle when an output is cleared or removed\n   */\n  function handleClearOutput(event, handle) {\n    function drop(id) {\n      const view = Bokeh.index.get_by_id(id)\n      if (view != null) {\n        view.model.document.clear()\n        Bokeh.index.delete(view)\n      }\n    }\n\n    const cell = handle.cell;\n\n    const id = cell.output_area._bokeh_element_id;\n    const server_id = cell.output_area._bokeh_server_id;\n\n    // Clean up Bokeh references\n    if (id != null) {\n      drop(id)\n    }\n\n    if (server_id !== undefined) {\n      // Clean up Bokeh references\n      const cmd_clean = \"from bokeh.io.state import curstate; print(curstate().uuid_to_server['\" + server_id + \"'].get_sessions()[0].document.roots[0]._id)\";\n      cell.notebook.kernel.execute(cmd_clean, {\n        iopub: {\n          output: function(msg) {\n            const id = msg.content.text.trim()\n            drop(id)\n          }\n        }\n      });\n      // Destroy server and session\n      const cmd_destroy = \"import bokeh.io.notebook as ion; ion.destroy_server('\" + server_id + \"')\";\n      cell.notebook.kernel.execute(cmd_destroy);\n    }\n  }\n\n  /**\n   * Handle when a new output is added\n   */\n  function handleAddOutput(event, handle) {\n    const output_area = handle.output_area;\n    const output = handle.output;\n\n    // limit handleAddOutput to display_data with EXEC_MIME_TYPE content only\n    if ((output.output_type != \"display_data\") || (!Object.prototype.hasOwnProperty.call(output.data, EXEC_MIME_TYPE))) {\n      return\n    }\n\n    const toinsert = output_area.element.find(\".\" + CLASS_NAME.split(' ')[0]);\n\n    if (output.metadata[EXEC_MIME_TYPE][\"id\"] !== undefined) {\n      toinsert[toinsert.length - 1].firstChild.textContent = output.data[JS_MIME_TYPE];\n      // store reference to embed id on output_area\n      output_area._bokeh_element_id = output.metadata[EXEC_MIME_TYPE][\"id\"];\n    }\n    if (output.metadata[EXEC_MIME_TYPE][\"server_id\"] !== undefined) {\n      const bk_div = document.createElement(\"div\");\n      bk_div.innerHTML = output.data[HTML_MIME_TYPE];\n      const script_attrs = bk_div.children[0].attributes;\n      for (let i = 0; i < script_attrs.length; i++) {\n        toinsert[toinsert.length - 1].firstChild.setAttribute(script_attrs[i].name, script_attrs[i].value);\n        toinsert[toinsert.length - 1].firstChild.textContent = bk_div.children[0].textContent\n      }\n      // store reference to server id on output_area\n      output_area._bokeh_server_id = output.metadata[EXEC_MIME_TYPE][\"server_id\"];\n    }\n  }\n\n  function register_renderer(events, OutputArea) {\n\n    function append_mime(data, metadata, element) {\n      // create a DOM node to render to\n      const toinsert = this.create_output_subarea(\n        metadata,\n        CLASS_NAME,\n        EXEC_MIME_TYPE\n      );\n      this.keyboard_manager.register_events(toinsert);\n      // Render to node\n      const props = {data: data, metadata: metadata[EXEC_MIME_TYPE]};\n      render(props, toinsert[toinsert.length - 1]);\n      element.append(toinsert);\n      return toinsert\n    }\n\n    /* Handle when an output is cleared or removed */\n    events.on('clear_output.CodeCell', handleClearOutput);\n    events.on('delete.Cell', handleClearOutput);\n\n    /* Handle when a new output is added */\n    events.on('output_added.OutputArea', handleAddOutput);\n\n    /**\n     * Register the mime type and append_mime function with output_area\n     */\n    OutputArea.prototype.register_mime_type(EXEC_MIME_TYPE, append_mime, {\n      /* Is output safe? */\n      safe: true,\n      /* Index of renderer in `output_area.display_order` */\n      index: 0\n    });\n  }\n\n  // register the mime type if in Jupyter Notebook environment and previously unregistered\n  if (root.Jupyter !== undefined) {\n    const events = require('base/js/events');\n    const OutputArea = require('notebook/js/outputarea').OutputArea;\n\n    if (OutputArea.prototype.mime_types().indexOf(EXEC_MIME_TYPE) == -1) {\n      register_renderer(events, OutputArea);\n    }\n  }\n  if (typeof (root._bokeh_timeout) === \"undefined\" || force === true) {\n    root._bokeh_timeout = Date.now() + 5000;\n    root._bokeh_failed_load = false;\n  }\n\n  const NB_LOAD_WARNING = {'data': {'text/html':\n     \"<div style='background-color: #fdd'>\\n\"+\n     \"<p>\\n\"+\n     \"BokehJS does not appear to have successfully loaded. If loading BokehJS from CDN, this \\n\"+\n     \"may be due to a slow or bad network connection. Possible fixes:\\n\"+\n     \"</p>\\n\"+\n     \"<ul>\\n\"+\n     \"<li>re-rerun `output_notebook()` to attempt to load from CDN again, or</li>\\n\"+\n     \"<li>use INLINE resources instead, as so:</li>\\n\"+\n     \"</ul>\\n\"+\n     \"<code>\\n\"+\n     \"from bokeh.resources import INLINE\\n\"+\n     \"output_notebook(resources=INLINE)\\n\"+\n     \"</code>\\n\"+\n     \"</div>\"}};\n\n  function display_loaded(error = null) {\n    const el = document.getElementById(\"ed171374-3404-43e2-9367-03d33588c9d8\");\n    if (el != null) {\n      const html = (() => {\n        if (typeof root.Bokeh === \"undefined\") {\n          if (error == null) {\n            return \"BokehJS is loading ...\";\n          } else {\n            return \"BokehJS failed to load.\";\n          }\n        } else {\n          const prefix = `BokehJS ${root.Bokeh.version}`;\n          if (error == null) {\n            return `${prefix} successfully loaded.`;\n          } else {\n            return `${prefix} <b>encountered errors</b> while loading and may not function as expected.`;\n          }\n        }\n      })();\n      el.innerHTML = html;\n\n      if (error != null) {\n        const wrapper = document.createElement(\"div\");\n        wrapper.style.overflow = \"auto\";\n        wrapper.style.height = \"5em\";\n        wrapper.style.resize = \"vertical\";\n        const content = document.createElement(\"div\");\n        content.style.fontFamily = \"monospace\";\n        content.style.whiteSpace = \"pre-wrap\";\n        content.style.backgroundColor = \"rgb(255, 221, 221)\";\n        content.textContent = error.stack ?? error.toString();\n        wrapper.append(content);\n        el.append(wrapper);\n      }\n    } else if (Date.now() < root._bokeh_timeout) {\n      setTimeout(() => display_loaded(error), 100);\n    }\n  }\n\n  function run_callbacks() {\n    try {\n      root._bokeh_onload_callbacks.forEach(function(callback) {\n        if (callback != null)\n          callback();\n      });\n    } finally {\n      delete root._bokeh_onload_callbacks\n    }\n    console.debug(\"Bokeh: all callbacks have finished\");\n  }\n\n  function load_libs(css_urls, js_urls, callback) {\n    if (css_urls == null) css_urls = [];\n    if (js_urls == null) js_urls = [];\n\n    root._bokeh_onload_callbacks.push(callback);\n    if (root._bokeh_is_loading > 0) {\n      console.debug(\"Bokeh: BokehJS is being loaded, scheduling callback at\", now());\n      return null;\n    }\n    if (js_urls == null || js_urls.length === 0) {\n      run_callbacks();\n      return null;\n    }\n    console.debug(\"Bokeh: BokehJS not loaded, scheduling load and callback at\", now());\n    root._bokeh_is_loading = css_urls.length + js_urls.length;\n\n    function on_load() {\n      root._bokeh_is_loading--;\n      if (root._bokeh_is_loading === 0) {\n        console.debug(\"Bokeh: all BokehJS libraries/stylesheets loaded\");\n        run_callbacks()\n      }\n    }\n\n    function on_error(url) {\n      console.error(\"failed to load \" + url);\n    }\n\n    for (let i = 0; i < css_urls.length; i++) {\n      const url = css_urls[i];\n      const element = document.createElement(\"link\");\n      element.onload = on_load;\n      element.onerror = on_error.bind(null, url);\n      element.rel = \"stylesheet\";\n      element.type = \"text/css\";\n      element.href = url;\n      console.debug(\"Bokeh: injecting link tag for BokehJS stylesheet: \", url);\n      document.body.appendChild(element);\n    }\n\n    for (let i = 0; i < js_urls.length; i++) {\n      const url = js_urls[i];\n      const element = document.createElement('script');\n      element.onload = on_load;\n      element.onerror = on_error.bind(null, url);\n      element.async = false;\n      element.src = url;\n      console.debug(\"Bokeh: injecting script tag for BokehJS library: \", url);\n      document.head.appendChild(element);\n    }\n  };\n\n  function inject_raw_css(css) {\n    const element = document.createElement(\"style\");\n    element.appendChild(document.createTextNode(css));\n    document.body.appendChild(element);\n  }\n\n  const js_urls = [\"https://cdn.bokeh.org/bokeh/release/bokeh-3.6.0.min.js\", \"https://cdn.bokeh.org/bokeh/release/bokeh-gl-3.6.0.min.js\", \"https://cdn.bokeh.org/bokeh/release/bokeh-widgets-3.6.0.min.js\", \"https://cdn.bokeh.org/bokeh/release/bokeh-tables-3.6.0.min.js\", \"https://cdn.bokeh.org/bokeh/release/bokeh-mathjax-3.6.0.min.js\"];\n  const css_urls = [];\n\n  const inline_js = [    function(Bokeh) {\n      Bokeh.set_log_level(\"info\");\n    },\nfunction(Bokeh) {\n    }\n  ];\n\n  function run_inline_js() {\n    if (root.Bokeh !== undefined || force === true) {\n      try {\n            for (let i = 0; i < inline_js.length; i++) {\n      inline_js[i].call(root, root.Bokeh);\n    }\n\n      } catch (error) {display_loaded(error);throw error;\n      }if (force === true) {\n        display_loaded();\n      }} else if (Date.now() < root._bokeh_timeout) {\n      setTimeout(run_inline_js, 100);\n    } else if (!root._bokeh_failed_load) {\n      console.log(\"Bokeh: BokehJS failed to load within specified timeout.\");\n      root._bokeh_failed_load = true;\n    } else if (force !== true) {\n      const cell = $(document.getElementById(\"ed171374-3404-43e2-9367-03d33588c9d8\")).parents('.cell').data().cell;\n      cell.output_area.append_execute_result(NB_LOAD_WARNING)\n    }\n  }\n\n  if (root._bokeh_is_loading === 0) {\n    console.debug(\"Bokeh: BokehJS loaded, going straight to plotting\");\n    run_inline_js();\n  } else {\n    load_libs(css_urls, js_urls, function() {\n      console.debug(\"Bokeh: BokehJS plotting callback run at\", now());\n      run_inline_js();\n    });\n  }\n}(window));",
      "application/vnd.bokehjs_load.v0+json": ""
     },
     "metadata": {},
     "output_type": "display_data"
    }
   ],
   "source": [
    "import bokeh.models as bm\n",
    "import bokeh.plotting as pl\n",
    "from bokeh.io import output_notebook\n",
    "\n",
    "output_notebook()\n",
    "\n",
    "\n",
    "def draw_vectors(\n",
    "    x,\n",
    "    y,\n",
    "    radius=10,\n",
    "    alpha=0.25,\n",
    "    color=\"blue\",\n",
    "    width=600,\n",
    "    height=400,\n",
    "    show=True,\n",
    "    **kwargs,\n",
    "):\n",
    "    \"\"\"draws an interactive plot for data points with auxilirary info on hover\"\"\"\n",
    "    if isinstance(color, str):\n",
    "        color = [color] * len(x)\n",
    "    data_source = bm.ColumnDataSource({\"x\": x, \"y\": y, \"color\": color, **kwargs})\n",
    "\n",
    "    fig = pl.figure(active_scroll=\"wheel_zoom\", width=width, height=height)\n",
    "    fig.scatter(\"x\", \"y\", size=radius, color=\"color\", alpha=alpha, source=data_source)\n",
    "\n",
    "    fig.add_tools(bm.HoverTool(tooltips=[(key, \"@\" + key) for key in kwargs.keys()]))\n",
    "    if show:\n",
    "        pl.show(fig)\n",
    "    return fig"
   ]
  },
  {
   "cell_type": "code",
   "execution_count": 56,
   "metadata": {},
   "outputs": [],
   "source": [
    "embedding = umap.UMAP(n_neighbors=5).fit_transform(word_embeddings)"
   ]
  },
  {
   "cell_type": "code",
   "execution_count": 57,
   "metadata": {},
   "outputs": [
    {
     "data": {
      "text/html": [
       "\n",
       "  <div id=\"bee04369-05a5-43dd-9b41-45e4733dfd08\" data-root-id=\"p1004\" style=\"display: contents;\"></div>\n"
      ]
     },
     "metadata": {},
     "output_type": "display_data"
    },
    {
     "data": {
      "application/javascript": "(function(root) {\n  function embed_document(root) {\n  const docs_json = {\"6bbb153c-debb-4d21-a7be-44ac37692a9b\":{\"version\":\"3.6.0\",\"title\":\"Bokeh Application\",\"roots\":[{\"type\":\"object\",\"name\":\"Figure\",\"id\":\"p1004\",\"attributes\":{\"height\":400,\"x_range\":{\"type\":\"object\",\"name\":\"DataRange1d\",\"id\":\"p1005\"},\"y_range\":{\"type\":\"object\",\"name\":\"DataRange1d\",\"id\":\"p1006\"},\"x_scale\":{\"type\":\"object\",\"name\":\"LinearScale\",\"id\":\"p1013\"},\"y_scale\":{\"type\":\"object\",\"name\":\"LinearScale\",\"id\":\"p1014\"},\"title\":{\"type\":\"object\",\"name\":\"Title\",\"id\":\"p1011\"},\"renderers\":[{\"type\":\"object\",\"name\":\"GlyphRenderer\",\"id\":\"p1044\",\"attributes\":{\"data_source\":{\"type\":\"object\",\"name\":\"ColumnDataSource\",\"id\":\"p1001\",\"attributes\":{\"selected\":{\"type\":\"object\",\"name\":\"Selection\",\"id\":\"p1002\",\"attributes\":{\"indices\":[],\"line_indices\":[]}},\"selection_policy\":{\"type\":\"object\",\"name\":\"UnionRenderers\",\"id\":\"p1003\"},\"data\":{\"type\":\"map\",\"entries\":[[\"x\",{\"type\":\"ndarray\",\"array\":{\"type\":\"bytes\",\"data\":\"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\"},\"shape\":[5000],\"dtype\":\"float32\",\"order\":\"little\"}],[\"y\",{\"type\":\"ndarray\",\"array\":{\"type\":\"bytes\",\"data\":\"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\"},\"shape\":[5000],\"dtype\":\"float32\",\"order\":\"little\"}],[\"color\",[\"blue\",\"blue\",\"blue\",\"blue\",\"blue\",\"blue\",\"blue\",\"blue\",\"blue\",\"blue\",\"blue\",\"blue\",\"blue\",\"blue\",\"blue\",\"blue\",\"blue\",\"blue\",\"blue\",\"blue\",\"blue\",\"blue\",\"blue\",\"blue\",\"blue\",\"blue\",\"blue\",\"blue\",\"blue\",\"blue\",\"blue\",\"blue\",\"blue\",\"blue\",\"blue\",\"blue\",\"blue\",\"blue\",\"blue\",\"blue\",\"blue\",\"blue\",\"blue\",\"blue\",\"blue\",\"blue\",\"blue\",\"blue\",\"blue\",\"blue\",\"blue\",\"blue\",\"blue\",\"blue\",\"blue\",\"blue\",\"blue\",\"blue\",\"blue\",\"blue\",\"blue\",\"blue\",\"blue\",\"blue\",\"blue\",\"blue\",\"blue\",\"blue\",\"blue\",\"blue\",\"blue\",\"blue\",\"blue\",\"blue\",\"blue\",\"blue\",\"blue\",\"blue\",\"blue\",\"blue\",\"blue\",\"blue\",\"blue\",\"blue\",\"blue\",\"blue\",\"blue\",\"blue\",\"blue\",\"blue\",\"blue\",\"blue\",\"blue\",\"blue\",\"blue\",\"blue\",\"blue\",\"blue\",\"blue\",\"blue\",\"blue\",\"blue\",\"blue\",\"blue\",\"blue\",\"blue\",\"blue\",\"blue\",\"blue\",\"blue\",\"blue\",\"blue\",\"blue\",\"blue\",\"blue\",\"blue\",\"blue\",\"blue\",\"blue\",\"blue\",\"blue\",\"blue\",\"blue\",\"blue\",\"blue\",\"blue\",\"blue\",\"blue\",\"blue\",\"blue\",\"blue\",\"blue\",\"blue\",\"blue\",\"blue\",\"blue\",\"blue\",\"blue\",\"blue\",\"blue\",\"blue\",\"blue\",\"blue\",\"blue\",\"blue\",\"blue\",\"blue\",\"blue\",\"blue\",\"blue\",\"blue\",\"blue\",\"blue\",\"blue\",\"blue\",\"blue\",\"blue\",\"blue\",\"blue\",\"blue\",\"blue\",\"blue\",\"blue\",\"blue\",\"blue\",\"blue\",\"blue\",\"blue\",\"blue\",\"blue\",\"blue\",\"blue\",\"blue\",\"blue\",\"blue\",\"blue\",\"blue\",\"blue\",\"blue\",\"blue\",\"blue\",\"blue\",\"blue\",\"blue\",\"blue\",\"blue\",\"blue\",\"blue\",\"blue\",\"blue\",\"blue\",\"blue\",\"blue\",\"blue\",\"blue\",\"blue\",\"blue\",\"blue\",\"blue\",\"blue\",\"blue\",\"blue\",\"blue\",\"blue\",\"blue\",\"blue\",\"blue\",\"blue\",\"blue\",\"blue\",\"blue\",\"blue\",\"blue\",\"blue\",\"blue\",\"blue\",\"blue\",\"blue\",\"blue\",\"blue\",\"blue\",\"blue\",\"blue\",\"blue\",\"blue\",\"blue\",\"blue\",\"blue\",\"blue\",\"blue\",\"blue\",\"blue\",\"blue\",\"blue\",\"blue\",\"blue\",\"blue\",\"blue\",\"blue\",\"blue\",\"blue\",\"blue\",\"blue\",\"blue\",\"blue\",\"blue\",\"blue\",\"blue\",\"blue\",\"blue\",\"blue\",\"blue\",\"blue\",\"blue\",\"blue\",\"blue\",\"blue\",\"blue\",\"blue\",\"blue\",\"blue\",\"blue\",\"blue\",\"blue\",\"blue\",\"blue\",\"blue\",\"blue\",\"blue\",\"blue\",\"blue\",\"blue\",\"blue\",\"blue\",\"blue\",\"blue\",\"blue\",\"blue\",\"blue\",\"blue\",\"blue\",\"blue\",\"blue\",\"blue\",\"blue\",\"blue\",\"blue\",\"blue\",\"blue\",\"blue\",\"blue\",\"blue\",\"blue\",\"blue\",\"blue\",\"blue\",\"blue\",\"blue\",\"blue\",\"blue\",\"blue\",\"blue\",\"blue\",\"blue\",\"blue\",\"blue\",\"blue\",\"blue\",\"blue\",\"blue\",\"blue\",\"blue\",\"blue\",\"blue\",\"blue\",\"blue\",\"blue\",\"blue\",\"blue\",\"blue\",\"blue\",\"blue\",\"blue\",\"blue\",\"blue\",\"blue\",\"blue\",\"blue\",\"blue\",\"blue\",\"blue\",\"blue\",\"blue\",\"blue\",\"blue\",\"blue\",\"blue\",\"blue\",\"blue\",\"blue\",\"blue\",\"blue\",\"blue\",\"blue\",\"blue\",\"blue\",\"blue\",\"blue\",\"blue\",\"blue\",\"blue\",\"blue\",\"blue\",\"blue\",\"blue\",\"blue\",\"blue\",\"blue\",\"blue\",\"blue\",\"blue\",\"blue\",\"blue\",\"blue\",\"blue\",\"blue\",\"blue\",\"blue\",\"blue\",\"blue\",\"blue\",\"blue\",\"blue\",\"blue\",\"blue\",\"blue\",\"blue\",\"blue\",\"blue\",\"blue\",\"blue\",\"blue\",\"blue\",\"blue\",\"blue\",\"blue\",\"blue\",\"blue\",\"blue\",\"blue\",\"blue\",\"blue\",\"blue\",\"blue\",\"blue\",\"blue\",\"blue\",\"blue\",\"blue\",\"blue\",\"blue\",\"blue\",\"blue\",\"blue\",\"blue\",\"blue\",\"blue\",\"blue\",\"blue\",\"blue\",\"blue\",\"blue\",\"blue\",\"blue\",\"blue\",\"blue\",\"blue\",\"blue\",\"blue\",\"blue\",\"blue\",\"blue\",\"blue\",\"blue\",\"blue\",\"blue\",\"blue\",\"blue\",\"blue\",\"blue\",\"blue\",\"blue\",\"blue\",\"blue\",\"blue\",\"blue\",\"blue\",\"blue\",\"blue\",\"blue\",\"blue\",\"blue\",\"blue\",\"blue\",\"blue\",\"blue\",\"blue\",\"blue\",\"blue\",\"blue\",\"blue\",\"blue\",\"blue\",\"blue\",\"blue\",\"blue\",\"blue\",\"blue\",\"blue\",\"blue\",\"blue\",\"blue\",\"blue\",\"blue\",\"blue\",\"blue\",\"blue\",\"blue\",\"blue\",\"blue\",\"blue\",\"blue\",\"blue\",\"blue\",\"blue\",\"blue\",\"blue\",\"blue\",\"blue\",\"blue\",\"blue\",\"blue\",\"blue\",\"blue\",\"blue\",\"blue\",\"blue\",\"blue\",\"blue\",\"blue\",\"blue\",\"blue\",\"blue\",\"blue\",\"blue\",\"blue\",\"blue\",\"blue\",\"blue\",\"blue\",\"blue\",\"blue\",\"blue\",\"blue\",\"blue\",\"blue\",\"blue\",\"blue\",\"blue\",\"blue\",\"blue\",\"blue\",\"blue\",\"blue\",\"blue\",\"blue\",\"blue\",\"blue\",\"blue\",\"blue\",\"blue\",\"blue\",\"blue\",\"blue\",\"blue\",\"blue\",\"blue\",\"blue\",\"blue\",\"blue\",\"blue\",\"blue\",\"blue\",\"blue\",\"blue\",\"blue\",\"blue\",\"blue\",\"blue\",\"blue\",\"blue\",\"blue\",\"blue\",\"blue\",\"blue\",\"blue\",\"blue\",\"blue\",\"blue\",\"blue\",\"blue\",\"blue\",\"blue\",\"blue\",\"blue\",\"blue\",\"blue\",\"blue\",\"blue\",\"blue\",\"blue\",\"blue\",\"blue\",\"blue\",\"blue\",\"blue\",\"blue\",\"blue\",\"blue\",\"blue\",\"blue\",\"blue\",\"blue\",\"blue\",\"blue\",\"blue\",\"blue\",\"blue\",\"blue\",\"blue\",\"blue\",\"blue\",\"blue\",\"blue\",\"blue\",\"blue\",\"blue\",\"blue\",\"blue\",\"blue\",\"blue\",\"blue\",\"blue\",\"blue\",\"blue\",\"blue\",\"blue\",\"blue\",\"blue\",\"blue\",\"blue\",\"blue\",\"blue\",\"blue\",\"blue\",\"blue\",\"blue\",\"blue\",\"blue\",\"blue\",\"blue\",\"blue\",\"blue\",\"blue\",\"blue\",\"blue\",\"blue\",\"blue\",\"blue\",\"blue\",\"blue\",\"blue\",\"blue\",\"blue\",\"blue\",\"blue\",\"blue\",\"blue\",\"blue\",\"blue\",\"blue\",\"blue\",\"blue\",\"blue\",\"blue\",\"blue\",\"blue\",\"blue\",\"blue\",\"blue\",\"blue\",\"blue\",\"blue\",\"blue\",\"blue\",\"blue\",\"blue\",\"blue\",\"blue\",\"blue\",\"blue\",\"blue\",\"blue\",\"blue\",\"blue\",\"blue\",\"blue\",\"blue\",\"blue\",\"blue\",\"blue\",\"blue\",\"blue\",\"blue\",\"blue\",\"blue\",\"blue\",\"blue\",\"blue\",\"blue\",\"blue\",\"blue\",\"blue\",\"blue\",\"blue\",\"blue\",\"blue\",\"blue\",\"blue\",\"blue\",\"blue\",\"blue\",\"blue\",\"blue\",\"blue\",\"blue\",\"blue\",\"blue\",\"blue\",\"blue\",\"blue\",\"blue\",\"blue\",\"blue\",\"blue\",\"blue\",\"blue\",\"blue\",\"blue\",\"blue\",\"blue\",\"blue\",\"blue\",\"blue\",\"blue\",\"blue\",\"blue\",\"blue\",\"blue\",\"blue\",\"blue\",\"blue\",\"blue\",\"blue\",\"blue\",\"blue\",\"blue\",\"blue\",\"blue\",\"blue\",\"blue\",\"blue\",\"blue\",\"blue\",\"blue\",\"blue\",\"blue\",\"blue\",\"blue\",\"blue\",\"blue\",\"blue\",\"blue\",\"blue\",\"blue\",\"blue\",\"blue\",\"blue\",\"blue\",\"blue\",\"blue\",\"blue\",\"blue\",\"blue\",\"blue\",\"blue\",\"blue\",\"blue\",\"blue\",\"blue\",\"blue\",\"blue\",\"blue\",\"blue\",\"blue\",\"blue\",\"blue\",\"blue\",\"blue\",\"blue\",\"blue\",\"blue\",\"blue\",\"blue\",\"blue\",\"blue\",\"blue\",\"blue\",\"blue\",\"blue\",\"blue\",\"blue\",\"blue\",\"blue\",\"blue\",\"blue\",\"blue\",\"blue\",\"blue\",\"blue\",\"blue\",\"blue\",\"blue\",\"blue\",\"blue\",\"blue\",\"blue\",\"blue\",\"blue\",\"blue\",\"blue\",\"blue\",\"blue\",\"blue\",\"blue\",\"blue\",\"blue\",\"blue\",\"blue\",\"blue\",\"blue\",\"blue\",\"blue\",\"blue\",\"blue\",\"blue\",\"blue\",\"blue\",\"blue\",\"blue\",\"blue\",\"blue\",\"blue\",\"blue\",\"blue\",\"blue\",\"blue\",\"blue\",\"blue\",\"blue\",\"blue\",\"blue\",\"blue\",\"blue\",\"blue\",\"blue\",\"blue\",\"blue\",\"blue\",\"blue\",\"blue\",\"blue\",\"blue\",\"blue\",\"blue\",\"blue\",\"blue\",\"blue\",\"blue\",\"blue\",\"blue\",\"blue\",\"blue\",\"blue\",\"blue\",\"blue\",\"blue\",\"blue\",\"blue\",\"blue\",\"blue\",\"blue\",\"blue\",\"blue\",\"blue\",\"blue\",\"blue\",\"blue\",\"blue\",\"blue\",\"blue\",\"blue\",\"blue\",\"blue\",\"blue\",\"blue\",\"blue\",\"blue\",\"blue\",\"blue\",\"blue\",\"blue\",\"blue\",\"blue\",\"blue\",\"blue\",\"blue\",\"blue\",\"blue\",\"blue\",\"blue\",\"blue\",\"blue\",\"blue\",\"blue\",\"blue\",\"blue\",\"blue\",\"blue\",\"blue\",\"blue\",\"blue\",\"blue\",\"blue\",\"blue\",\"blue\",\"blue\",\"blue\",\"blue\",\"blue\",\"blue\",\"blue\",\"blue\",\"blue\",\"blue\",\"blue\",\"blue\",\"blue\",\"blue\",\"blue\",\"blue\",\"blue\",\"blue\",\"blue\",\"blue\",\"blue\",\"blue\",\"blue\",\"blue\",\"blue\",\"blue\",\"blue\",\"blue\",\"blue\",\"blue\",\"blue\",\"blue\",\"blue\",\"blue\",\"blue\",\"blue\",\"blue\",\"blue\",\"blue\",\"blue\",\"blue\",\"blue\",\"blue\",\"blue\",\"blue\",\"blue\",\"blue\",\"blue\",\"blue\",\"blue\",\"blue\",\"blue\",\"blue\",\"blue\",\"blue\",\"blue\",\"blue\",\"blue\",\"blue\",\"blue\",\"blue\",\"blue\",\"blue\",\"blue\",\"blue\",\"blue\",\"blue\",\"blue\",\"blue\",\"blue\",\"blue\",\"blue\",\"blue\",\"blue\",\"blue\",\"blue\",\"blue\",\"blue\",\"blue\",\"blue\",\"blue\",\"blue\",\"blue\",\"blue\",\"blue\",\"blue\",\"blue\",\"blue\",\"blue\",\"blue\",\"blue\",\"blue\",\"blue\",\"blue\",\"blue\",\"blue\",\"blue\",\"blue\",\"blue\",\"blue\",\"blue\",\"blue\",\"blue\",\"blue\",\"blue\",\"blue\",\"blue\",\"blue\",\"blue\",\"blue\",\"blue\",\"blue\",\"blue\",\"blue\",\"blue\",\"blue\",\"blue\",\"blue\",\"blue\",\"blue\",\"blue\",\"blue\",\"blue\",\"blue\",\"blue\",\"blue\",\"blue\",\"blue\",\"blue\",\"blue\",\"blue\",\"blue\",\"blue\",\"blue\",\"blue\",\"blue\",\"blue\",\"blue\",\"blue\",\"blue\",\"blue\",\"blue\",\"blue\",\"blue\",\"blue\",\"blue\",\"blue\",\"blue\",\"blue\",\"blue\",\"blue\",\"blue\",\"blue\",\"blue\",\"blue\",\"blue\",\"blue\",\"blue\",\"blue\",\"blue\",\"blue\",\"blue\",\"blue\",\"blue\",\"blue\",\"blue\",\"blue\",\"blue\",\"blue\",\"blue\",\"blue\",\"blue\",\"blue\",\"blue\",\"blue\",\"blue\",\"blue\",\"blue\",\"blue\",\"blue\",\"blue\",\"blue\",\"blue\",\"blue\",\"blue\",\"blue\",\"blue\",\"blue\",\"blue\",\"blue\",\"blue\",\"blue\",\"blue\",\"blue\",\"blue\",\"blue\",\"blue\",\"blue\",\"blue\",\"blue\",\"blue\",\"blue\",\"blue\",\"blue\",\"blue\",\"blue\",\"blue\",\"blue\",\"blue\",\"blue\",\"blue\",\"blue\",\"blue\",\"blue\",\"blue\",\"blue\",\"blue\",\"blue\",\"blue\",\"blue\",\"blue\",\"blue\",\"blue\",\"blue\",\"blue\",\"blue\",\"blue\",\"blue\",\"blue\",\"blue\",\"blue\",\"blue\",\"blue\",\"blue\",\"blue\",\"blue\",\"blue\",\"blue\",\"blue\",\"blue\",\"blue\",\"blue\",\"blue\",\"blue\",\"blue\",\"blue\",\"blue\",\"blue\",\"blue\",\"blue\",\"blue\",\"blue\",\"blue\",\"blue\",\"blue\",\"blue\",\"blue\",\"blue\",\"blue\",\"blue\",\"blue\",\"blue\",\"blue\",\"blue\",\"blue\",\"blue\",\"blue\",\"blue\",\"blue\",\"blue\",\"blue\",\"blue\",\"blue\",\"blue\",\"blue\",\"blue\",\"blue\",\"blue\",\"blue\",\"blue\",\"blue\",\"blue\",\"blue\",\"blue\",\"blue\",\"blue\",\"blue\",\"blue\",\"blue\",\"blue\",\"blue\",\"blue\",\"blue\",\"blue\",\"blue\",\"blue\",\"blue\",\"blue\",\"blue\",\"blue\",\"blue\",\"blue\",\"blue\",\"blue\",\"blue\",\"blue\",\"blue\",\"blue\",\"blue\",\"blue\",\"blue\",\"blue\",\"blue\",\"blue\",\"blue\",\"blue\",\"blue\",\"blue\",\"blue\",\"blue\",\"blue\",\"blue\",\"blue\",\"blue\",\"blue\",\"blue\",\"blue\",\"blue\",\"blue\",\"blue\",\"blue\",\"blue\",\"blue\",\"blue\",\"blue\",\"blue\",\"blue\",\"blue\",\"blue\",\"blue\",\"blue\",\"blue\",\"blue\",\"blue\",\"blue\",\"blue\",\"blue\",\"blue\",\"blue\",\"blue\",\"blue\",\"blue\",\"blue\",\"blue\",\"blue\",\"blue\",\"blue\",\"blue\",\"blue\",\"blue\",\"blue\",\"blue\",\"blue\",\"blue\",\"blue\",\"blue\",\"blue\",\"blue\",\"blue\",\"blue\",\"blue\",\"blue\",\"blue\",\"blue\",\"blue\",\"blue\",\"blue\",\"blue\",\"blue\",\"blue\",\"blue\",\"blue\",\"blue\",\"blue\",\"blue\",\"blue\",\"blue\",\"blue\",\"blue\",\"blue\",\"blue\",\"blue\",\"blue\",\"blue\",\"blue\",\"blue\",\"blue\",\"blue\",\"blue\",\"blue\",\"blue\",\"blue\",\"blue\",\"blue\",\"blue\",\"blue\",\"blue\",\"blue\",\"blue\",\"blue\",\"blue\",\"blue\",\"blue\",\"blue\",\"blue\",\"blue\",\"blue\",\"blue\",\"blue\",\"blue\",\"blue\",\"blue\",\"blue\",\"blue\",\"blue\",\"blue\",\"blue\",\"blue\",\"blue\",\"blue\",\"blue\",\"blue\",\"blue\",\"blue\",\"blue\",\"blue\",\"blue\",\"blue\",\"blue\",\"blue\",\"blue\",\"blue\",\"blue\",\"blue\",\"blue\",\"blue\",\"blue\",\"blue\",\"blue\",\"blue\",\"blue\",\"blue\",\"blue\",\"blue\",\"blue\",\"blue\",\"blue\",\"blue\",\"blue\",\"blue\",\"blue\",\"blue\",\"blue\",\"blue\",\"blue\",\"blue\",\"blue\",\"blue\",\"blue\",\"blue\",\"blue\",\"blue\",\"blue\",\"blue\",\"blue\",\"blue\",\"blue\",\"blue\",\"blue\",\"blue\",\"blue\",\"blue\",\"blue\",\"blue\",\"blue\",\"blue\",\"blue\",\"blue\",\"blue\",\"blue\",\"blue\",\"blue\",\"blue\",\"blue\",\"blue\",\"blue\",\"blue\",\"blue\",\"blue\",\"blue\",\"blue\",\"blue\",\"blue\",\"blue\",\"blue\",\"blue\",\"blue\",\"blue\",\"blue\",\"blue\",\"blue\",\"blue\",\"blue\",\"blue\",\"blue\",\"blue\",\"blue\",\"blue\",\"blue\",\"blue\",\"blue\",\"blue\",\"blue\",\"blue\",\"blue\",\"blue\",\"blue\",\"blue\",\"blue\",\"blue\",\"blue\",\"blue\",\"blue\",\"blue\",\"blue\",\"blue\",\"blue\",\"blue\",\"blue\",\"blue\",\"blue\",\"blue\",\"blue\",\"blue\",\"blue\",\"blue\",\"blue\",\"blue\",\"blue\",\"blue\",\"blue\",\"blue\",\"blue\",\"blue\",\"blue\",\"blue\",\"blue\",\"blue\",\"blue\",\"blue\",\"blue\",\"blue\",\"blue\",\"blue\",\"blue\",\"blue\",\"blue\",\"blue\",\"blue\",\"blue\",\"blue\",\"blue\",\"blue\",\"blue\",\"blue\",\"blue\",\"blue\",\"blue\",\"blue\",\"blue\",\"blue\",\"blue\",\"blue\",\"blue\",\"blue\",\"blue\",\"blue\",\"blue\",\"blue\",\"blue\",\"blue\",\"blue\",\"blue\",\"blue\",\"blue\",\"blue\",\"blue\",\"blue\",\"blue\",\"blue\",\"blue\",\"blue\",\"blue\",\"blue\",\"blue\",\"blue\",\"blue\",\"blue\",\"blue\",\"blue\",\"blue\",\"blue\",\"blue\",\"blue\",\"blue\",\"blue\",\"blue\",\"blue\",\"blue\",\"blue\",\"blue\",\"blue\",\"blue\",\"blue\",\"blue\",\"blue\",\"blue\",\"blue\",\"blue\",\"blue\",\"blue\",\"blue\",\"blue\",\"blue\",\"blue\",\"blue\",\"blue\",\"blue\",\"blue\",\"blue\",\"blue\",\"blue\",\"blue\",\"blue\",\"blue\",\"blue\",\"blue\",\"blue\",\"blue\",\"blue\",\"blue\",\"blue\",\"blue\",\"blue\",\"blue\",\"blue\",\"blue\",\"blue\",\"blue\",\"blue\",\"blue\",\"blue\",\"blue\",\"blue\",\"blue\",\"blue\",\"blue\",\"blue\",\"blue\",\"blue\",\"blue\",\"blue\",\"blue\",\"blue\",\"blue\",\"blue\",\"blue\",\"blue\",\"blue\",\"blue\",\"blue\",\"blue\",\"blue\",\"blue\",\"blue\",\"blue\",\"blue\",\"blue\",\"blue\",\"blue\",\"blue\",\"blue\",\"blue\",\"blue\",\"blue\",\"blue\",\"blue\",\"blue\",\"blue\",\"blue\",\"blue\",\"blue\",\"blue\",\"blue\",\"blue\",\"blue\",\"blue\",\"blue\",\"blue\",\"blue\",\"blue\",\"blue\",\"blue\",\"blue\",\"blue\",\"blue\",\"blue\",\"blue\",\"blue\",\"blue\",\"blue\",\"blue\",\"blue\",\"blue\",\"blue\",\"blue\",\"blue\",\"blue\",\"blue\",\"blue\",\"blue\",\"blue\",\"blue\",\"blue\",\"blue\",\"blue\",\"blue\",\"blue\",\"blue\",\"blue\",\"blue\",\"blue\",\"blue\",\"blue\",\"blue\",\"blue\",\"blue\",\"blue\",\"blue\",\"blue\",\"blue\",\"blue\",\"blue\",\"blue\",\"blue\",\"blue\",\"blue\",\"blue\",\"blue\",\"blue\",\"blue\",\"blue\",\"blue\",\"blue\",\"blue\",\"blue\",\"blue\",\"blue\",\"blue\",\"blue\",\"blue\",\"blue\",\"blue\",\"blue\",\"blue\",\"blue\",\"blue\",\"blue\",\"blue\",\"blue\",\"blue\",\"blue\",\"blue\",\"blue\",\"blue\",\"blue\",\"blue\",\"blue\",\"blue\",\"blue\",\"blue\",\"blue\",\"blue\",\"blue\",\"blue\",\"blue\",\"blue\",\"blue\",\"blue\",\"blue\",\"blue\",\"blue\",\"blue\",\"blue\",\"blue\",\"blue\",\"blue\",\"blue\",\"blue\",\"blue\",\"blue\",\"blue\",\"blue\",\"blue\",\"blue\",\"blue\",\"blue\",\"blue\",\"blue\",\"blue\",\"blue\",\"blue\",\"blue\",\"blue\",\"blue\",\"blue\",\"blue\",\"blue\",\"blue\",\"blue\",\"blue\",\"blue\",\"blue\",\"blue\",\"blue\",\"blue\",\"blue\",\"blue\",\"blue\",\"blue\",\"blue\",\"blue\",\"blue\",\"blue\",\"blue\",\"blue\",\"blue\",\"blue\",\"blue\",\"blue\",\"blue\",\"blue\",\"blue\",\"blue\",\"blue\",\"blue\",\"blue\",\"blue\",\"blue\",\"blue\",\"blue\",\"blue\",\"blue\",\"blue\",\"blue\",\"blue\",\"blue\",\"blue\",\"blue\",\"blue\",\"blue\",\"blue\",\"blue\",\"blue\",\"blue\",\"blue\",\"blue\",\"blue\",\"blue\",\"blue\",\"blue\",\"blue\",\"blue\",\"blue\",\"blue\",\"blue\",\"blue\",\"blue\",\"blue\",\"blue\",\"blue\",\"blue\",\"blue\",\"blue\",\"blue\",\"blue\",\"blue\",\"blue\",\"blue\",\"blue\",\"blue\",\"blue\",\"blue\",\"blue\",\"blue\",\"blue\",\"blue\",\"blue\",\"blue\",\"blue\",\"blue\",\"blue\",\"blue\",\"blue\",\"blue\",\"blue\",\"blue\",\"blue\",\"blue\",\"blue\",\"blue\",\"blue\",\"blue\",\"blue\",\"blue\",\"blue\",\"blue\",\"blue\",\"blue\",\"blue\",\"blue\",\"blue\",\"blue\",\"blue\",\"blue\",\"blue\",\"blue\",\"blue\",\"blue\",\"blue\",\"blue\",\"blue\",\"blue\",\"blue\",\"blue\",\"blue\",\"blue\",\"blue\",\"blue\",\"blue\",\"blue\",\"blue\",\"blue\",\"blue\",\"blue\",\"blue\",\"blue\",\"blue\",\"blue\",\"blue\",\"blue\",\"blue\",\"blue\",\"blue\",\"blue\",\"blue\",\"blue\",\"blue\",\"blue\",\"blue\",\"blue\",\"blue\",\"blue\",\"blue\",\"blue\",\"blue\",\"blue\",\"blue\",\"blue\",\"blue\",\"blue\",\"blue\",\"blue\",\"blue\",\"blue\",\"blue\",\"blue\",\"blue\",\"blue\",\"blue\",\"blue\",\"blue\",\"blue\",\"blue\",\"blue\",\"blue\",\"blue\",\"blue\",\"blue\",\"blue\",\"blue\",\"blue\",\"blue\",\"blue\",\"blue\",\"blue\",\"blue\",\"blue\",\"blue\",\"blue\",\"blue\",\"blue\",\"blue\",\"blue\",\"blue\",\"blue\",\"blue\",\"blue\",\"blue\",\"blue\",\"blue\",\"blue\",\"blue\",\"blue\",\"blue\",\"blue\",\"blue\",\"blue\",\"blue\",\"blue\",\"blue\",\"blue\",\"blue\",\"blue\",\"blue\",\"blue\",\"blue\",\"blue\",\"blue\",\"blue\",\"blue\",\"blue\",\"blue\",\"blue\",\"blue\",\"blue\",\"blue\",\"blue\",\"blue\",\"blue\",\"blue\",\"blue\",\"blue\",\"blue\",\"blue\",\"blue\",\"blue\",\"blue\",\"blue\",\"blue\",\"blue\",\"blue\",\"blue\",\"blue\",\"blue\",\"blue\",\"blue\",\"blue\",\"blue\",\"blue\",\"blue\",\"blue\",\"blue\",\"blue\",\"blue\",\"blue\",\"blue\",\"blue\",\"blue\",\"blue\",\"blue\",\"blue\",\"blue\",\"blue\",\"blue\",\"blue\",\"blue\",\"blue\",\"blue\",\"blue\",\"blue\",\"blue\",\"blue\",\"blue\",\"blue\",\"blue\",\"blue\",\"blue\",\"blue\",\"blue\",\"blue\",\"blue\",\"blue\",\"blue\",\"blue\",\"blue\",\"blue\",\"blue\",\"blue\",\"blue\",\"blue\",\"blue\",\"blue\",\"blue\",\"blue\",\"blue\",\"blue\",\"blue\",\"blue\",\"blue\",\"blue\",\"blue\",\"blue\",\"blue\",\"blue\",\"blue\",\"blue\",\"blue\",\"blue\",\"blue\",\"blue\",\"blue\",\"blue\",\"blue\",\"blue\",\"blue\",\"blue\",\"blue\",\"blue\",\"blue\",\"blue\",\"blue\",\"blue\",\"blue\",\"blue\",\"blue\",\"blue\",\"blue\",\"blue\",\"blue\",\"blue\",\"blue\",\"blue\",\"blue\",\"blue\",\"blue\",\"blue\",\"blue\",\"blue\",\"blue\",\"blue\",\"blue\",\"blue\",\"blue\",\"blue\",\"blue\",\"blue\",\"blue\",\"blue\",\"blue\",\"blue\",\"blue\",\"blue\",\"blue\",\"blue\",\"blue\",\"blue\",\"blue\",\"blue\",\"blue\",\"blue\",\"blue\",\"blue\",\"blue\",\"blue\",\"blue\",\"blue\",\"blue\",\"blue\",\"blue\",\"blue\",\"blue\",\"blue\",\"blue\",\"blue\",\"blue\",\"blue\",\"blue\",\"blue\",\"blue\",\"blue\",\"blue\",\"blue\",\"blue\",\"blue\",\"blue\",\"blue\",\"blue\",\"blue\",\"blue\",\"blue\",\"blue\",\"blue\",\"blue\",\"blue\",\"blue\",\"blue\",\"blue\",\"blue\",\"blue\",\"blue\",\"blue\",\"blue\",\"blue\",\"blue\",\"blue\",\"blue\",\"blue\",\"blue\",\"blue\",\"blue\",\"blue\",\"blue\",\"blue\",\"blue\",\"blue\",\"blue\",\"blue\",\"blue\",\"blue\",\"blue\",\"blue\",\"blue\",\"blue\",\"blue\",\"blue\",\"blue\",\"blue\",\"blue\",\"blue\",\"blue\",\"blue\",\"blue\",\"blue\",\"blue\",\"blue\",\"blue\",\"blue\",\"blue\",\"blue\",\"blue\",\"blue\",\"blue\",\"blue\",\"blue\",\"blue\",\"blue\",\"blue\",\"blue\",\"blue\",\"blue\",\"blue\",\"blue\",\"blue\",\"blue\",\"blue\",\"blue\",\"blue\",\"blue\",\"blue\",\"blue\",\"blue\",\"blue\",\"blue\",\"blue\",\"blue\",\"blue\",\"blue\",\"blue\",\"blue\",\"blue\",\"blue\",\"blue\",\"blue\",\"blue\",\"blue\",\"blue\",\"blue\",\"blue\",\"blue\",\"blue\",\"blue\",\"blue\",\"blue\",\"blue\",\"blue\",\"blue\",\"blue\",\"blue\",\"blue\",\"blue\",\"blue\",\"blue\",\"blue\",\"blue\",\"blue\",\"blue\",\"blue\",\"blue\",\"blue\",\"blue\",\"blue\",\"blue\",\"blue\",\"blue\",\"blue\",\"blue\",\"blue\",\"blue\",\"blue\",\"blue\",\"blue\",\"blue\",\"blue\",\"blue\",\"blue\",\"blue\",\"blue\",\"blue\",\"blue\",\"blue\",\"blue\",\"blue\",\"blue\",\"blue\",\"blue\",\"blue\",\"blue\",\"blue\",\"blue\",\"blue\",\"blue\",\"blue\",\"blue\",\"blue\",\"blue\",\"blue\",\"blue\",\"blue\",\"blue\",\"blue\",\"blue\",\"blue\",\"blue\",\"blue\",\"blue\",\"blue\",\"blue\",\"blue\",\"blue\",\"blue\",\"blue\",\"blue\",\"blue\",\"blue\",\"blue\",\"blue\",\"blue\",\"blue\",\"blue\",\"blue\",\"blue\",\"blue\",\"blue\",\"blue\",\"blue\",\"blue\",\"blue\",\"blue\",\"blue\",\"blue\",\"blue\",\"blue\",\"blue\",\"blue\",\"blue\",\"blue\",\"blue\",\"blue\",\"blue\",\"blue\",\"blue\",\"blue\",\"blue\",\"blue\",\"blue\",\"blue\",\"blue\",\"blue\",\"blue\",\"blue\",\"blue\",\"blue\",\"blue\",\"blue\",\"blue\",\"blue\",\"blue\",\"blue\",\"blue\",\"blue\",\"blue\",\"blue\",\"blue\",\"blue\",\"blue\",\"blue\",\"blue\",\"blue\",\"blue\",\"blue\",\"blue\",\"blue\",\"blue\",\"blue\",\"blue\",\"blue\",\"blue\",\"blue\",\"blue\",\"blue\",\"blue\",\"blue\",\"blue\",\"blue\",\"blue\",\"blue\",\"blue\",\"blue\",\"blue\",\"blue\",\"blue\",\"blue\",\"blue\",\"blue\",\"blue\",\"blue\",\"blue\",\"blue\",\"blue\",\"blue\",\"blue\",\"blue\",\"blue\",\"blue\",\"blue\",\"blue\",\"blue\",\"blue\",\"blue\",\"blue\",\"blue\",\"blue\",\"blue\",\"blue\",\"blue\",\"blue\",\"blue\",\"blue\",\"blue\",\"blue\",\"blue\",\"blue\",\"blue\",\"blue\",\"blue\",\"blue\",\"blue\",\"blue\",\"blue\",\"blue\",\"blue\",\"blue\",\"blue\",\"blue\",\"blue\",\"blue\",\"blue\",\"blue\",\"blue\",\"blue\",\"blue\",\"blue\",\"blue\",\"blue\",\"blue\",\"blue\",\"blue\",\"blue\",\"blue\",\"blue\",\"blue\",\"blue\",\"blue\",\"blue\",\"blue\",\"blue\",\"blue\",\"blue\",\"blue\",\"blue\",\"blue\",\"blue\",\"blue\",\"blue\",\"blue\",\"blue\",\"blue\",\"blue\",\"blue\",\"blue\",\"blue\",\"blue\",\"blue\",\"blue\",\"blue\",\"blue\",\"blue\",\"blue\",\"blue\",\"blue\",\"blue\",\"blue\",\"blue\",\"blue\",\"blue\",\"blue\",\"blue\",\"blue\",\"blue\",\"blue\",\"blue\",\"blue\",\"blue\",\"blue\",\"blue\",\"blue\",\"blue\",\"blue\",\"blue\",\"blue\",\"blue\",\"blue\",\"blue\",\"blue\",\"blue\",\"blue\",\"blue\",\"blue\",\"blue\",\"blue\",\"blue\",\"blue\",\"blue\",\"blue\",\"blue\",\"blue\",\"blue\",\"blue\",\"blue\",\"blue\",\"blue\",\"blue\",\"blue\",\"blue\",\"blue\",\"blue\",\"blue\",\"blue\",\"blue\",\"blue\",\"blue\",\"blue\",\"blue\",\"blue\",\"blue\",\"blue\",\"blue\",\"blue\",\"blue\",\"blue\",\"blue\",\"blue\",\"blue\",\"blue\",\"blue\",\"blue\",\"blue\",\"blue\",\"blue\",\"blue\",\"blue\",\"blue\",\"blue\",\"blue\",\"blue\",\"blue\",\"blue\",\"blue\",\"blue\",\"blue\",\"blue\",\"blue\",\"blue\",\"blue\",\"blue\",\"blue\",\"blue\",\"blue\",\"blue\",\"blue\",\"blue\",\"blue\",\"blue\",\"blue\",\"blue\",\"blue\",\"blue\",\"blue\",\"blue\",\"blue\",\"blue\",\"blue\",\"blue\",\"blue\",\"blue\",\"blue\",\"blue\",\"blue\",\"blue\",\"blue\",\"blue\",\"blue\",\"blue\",\"blue\",\"blue\",\"blue\",\"blue\",\"blue\",\"blue\",\"blue\",\"blue\",\"blue\",\"blue\",\"blue\",\"blue\",\"blue\",\"blue\",\"blue\",\"blue\",\"blue\",\"blue\",\"blue\",\"blue\",\"blue\",\"blue\",\"blue\",\"blue\",\"blue\",\"blue\",\"blue\",\"blue\",\"blue\",\"blue\",\"blue\",\"blue\",\"blue\",\"blue\",\"blue\",\"blue\",\"blue\",\"blue\",\"blue\",\"blue\",\"blue\",\"blue\",\"blue\",\"blue\",\"blue\",\"blue\",\"blue\",\"blue\",\"blue\",\"blue\",\"blue\",\"blue\",\"blue\",\"blue\",\"blue\",\"blue\",\"blue\",\"blue\",\"blue\",\"blue\",\"blue\",\"blue\",\"blue\",\"blue\",\"blue\",\"blue\",\"blue\",\"blue\",\"blue\",\"blue\",\"blue\",\"blue\",\"blue\",\"blue\",\"blue\",\"blue\",\"blue\",\"blue\",\"blue\",\"blue\",\"blue\",\"blue\",\"blue\",\"blue\",\"blue\",\"blue\",\"blue\",\"blue\",\"blue\",\"blue\",\"blue\",\"blue\",\"blue\",\"blue\",\"blue\",\"blue\",\"blue\",\"blue\",\"blue\",\"blue\",\"blue\",\"blue\",\"blue\",\"blue\",\"blue\",\"blue\",\"blue\",\"blue\",\"blue\",\"blue\",\"blue\",\"blue\",\"blue\",\"blue\",\"blue\",\"blue\",\"blue\",\"blue\",\"blue\",\"blue\",\"blue\",\"blue\",\"blue\",\"blue\",\"blue\",\"blue\",\"blue\",\"blue\",\"blue\",\"blue\",\"blue\",\"blue\",\"blue\",\"blue\",\"blue\",\"blue\",\"blue\",\"blue\",\"blue\",\"blue\",\"blue\",\"blue\",\"blue\",\"blue\",\"blue\",\"blue\",\"blue\",\"blue\",\"blue\",\"blue\",\"blue\",\"blue\",\"blue\",\"blue\",\"blue\",\"blue\",\"blue\",\"blue\",\"blue\",\"blue\",\"blue\",\"blue\",\"blue\",\"blue\",\"blue\",\"blue\",\"blue\",\"blue\",\"blue\",\"blue\",\"blue\",\"blue\",\"blue\",\"blue\",\"blue\",\"blue\",\"blue\",\"blue\",\"blue\",\"blue\",\"blue\",\"blue\",\"blue\",\"blue\",\"blue\",\"blue\",\"blue\",\"blue\",\"blue\",\"blue\",\"blue\",\"blue\",\"blue\",\"blue\",\"blue\",\"blue\",\"blue\",\"blue\",\"blue\",\"blue\",\"blue\",\"blue\",\"blue\",\"blue\",\"blue\",\"blue\",\"blue\",\"blue\",\"blue\",\"blue\",\"blue\",\"blue\",\"blue\",\"blue\",\"blue\",\"blue\",\"blue\",\"blue\",\"blue\",\"blue\",\"blue\",\"blue\",\"blue\",\"blue\",\"blue\",\"blue\",\"blue\",\"blue\",\"blue\",\"blue\",\"blue\",\"blue\",\"blue\",\"blue\",\"blue\",\"blue\",\"blue\",\"blue\",\"blue\",\"blue\",\"blue\",\"blue\",\"blue\",\"blue\",\"blue\",\"blue\",\"blue\",\"blue\",\"blue\",\"blue\",\"blue\",\"blue\",\"blue\",\"blue\",\"blue\",\"blue\",\"blue\",\"blue\",\"blue\",\"blue\",\"blue\",\"blue\",\"blue\",\"blue\",\"blue\",\"blue\",\"blue\",\"blue\",\"blue\",\"blue\",\"blue\",\"blue\",\"blue\",\"blue\",\"blue\",\"blue\",\"blue\",\"blue\",\"blue\",\"blue\",\"blue\",\"blue\",\"blue\",\"blue\",\"blue\",\"blue\",\"blue\",\"blue\",\"blue\",\"blue\",\"blue\",\"blue\",\"blue\",\"blue\",\"blue\",\"blue\",\"blue\",\"blue\",\"blue\",\"blue\",\"blue\",\"blue\",\"blue\",\"blue\",\"blue\",\"blue\",\"blue\",\"blue\",\"blue\",\"blue\",\"blue\",\"blue\",\"blue\",\"blue\",\"blue\",\"blue\",\"blue\",\"blue\",\"blue\",\"blue\",\"blue\",\"blue\",\"blue\",\"blue\",\"blue\",\"blue\",\"blue\",\"blue\",\"blue\",\"blue\",\"blue\",\"blue\",\"blue\",\"blue\",\"blue\",\"blue\",\"blue\",\"blue\",\"blue\",\"blue\",\"blue\",\"blue\",\"blue\",\"blue\",\"blue\",\"blue\",\"blue\",\"blue\",\"blue\",\"blue\",\"blue\",\"blue\",\"blue\",\"blue\",\"blue\",\"blue\",\"blue\",\"blue\",\"blue\",\"blue\",\"blue\",\"blue\",\"blue\",\"blue\",\"blue\",\"blue\",\"blue\",\"blue\",\"blue\",\"blue\",\"blue\",\"blue\",\"blue\",\"blue\",\"blue\",\"blue\",\"blue\",\"blue\",\"blue\",\"blue\",\"blue\",\"blue\",\"blue\",\"blue\",\"blue\",\"blue\",\"blue\",\"blue\",\"blue\",\"blue\",\"blue\",\"blue\",\"blue\",\"blue\",\"blue\",\"blue\",\"blue\",\"blue\",\"blue\",\"blue\",\"blue\",\"blue\",\"blue\",\"blue\",\"blue\",\"blue\",\"blue\",\"blue\",\"blue\",\"blue\",\"blue\",\"blue\",\"blue\",\"blue\",\"blue\",\"blue\",\"blue\",\"blue\",\"blue\",\"blue\",\"blue\",\"blue\",\"blue\",\"blue\",\"blue\",\"blue\",\"blue\",\"blue\",\"blue\",\"blue\",\"blue\",\"blue\",\"blue\",\"blue\",\"blue\",\"blue\",\"blue\",\"blue\",\"blue\",\"blue\",\"blue\",\"blue\",\"blue\",\"blue\",\"blue\",\"blue\",\"blue\",\"blue\",\"blue\",\"blue\",\"blue\",\"blue\",\"blue\",\"blue\",\"blue\",\"blue\",\"blue\",\"blue\",\"blue\",\"blue\",\"blue\",\"blue\",\"blue\",\"blue\",\"blue\",\"blue\",\"blue\",\"blue\",\"blue\",\"blue\",\"blue\",\"blue\",\"blue\",\"blue\",\"blue\",\"blue\",\"blue\",\"blue\",\"blue\",\"blue\",\"blue\",\"blue\",\"blue\",\"blue\",\"blue\",\"blue\",\"blue\",\"blue\",\"blue\",\"blue\",\"blue\",\"blue\",\"blue\",\"blue\",\"blue\",\"blue\",\"blue\",\"blue\",\"blue\",\"blue\",\"blue\",\"blue\",\"blue\",\"blue\",\"blue\",\"blue\",\"blue\",\"blue\",\"blue\",\"blue\",\"blue\",\"blue\",\"blue\",\"blue\",\"blue\",\"blue\",\"blue\",\"blue\",\"blue\",\"blue\",\"blue\",\"blue\",\"blue\",\"blue\",\"blue\",\"blue\",\"blue\",\"blue\",\"blue\",\"blue\",\"blue\",\"blue\",\"blue\",\"blue\",\"blue\",\"blue\",\"blue\",\"blue\",\"blue\",\"blue\",\"blue\",\"blue\",\"blue\",\"blue\",\"blue\",\"blue\",\"blue\",\"blue\",\"blue\",\"blue\",\"blue\",\"blue\",\"blue\",\"blue\",\"blue\",\"blue\",\"blue\",\"blue\",\"blue\",\"blue\",\"blue\",\"blue\",\"blue\",\"blue\",\"blue\",\"blue\",\"blue\",\"blue\",\"blue\",\"blue\",\"blue\",\"blue\",\"blue\",\"blue\",\"blue\",\"blue\",\"blue\",\"blue\",\"blue\",\"blue\",\"blue\",\"blue\",\"blue\",\"blue\",\"blue\",\"blue\",\"blue\",\"blue\",\"blue\",\"blue\",\"blue\",\"blue\",\"blue\",\"blue\",\"blue\",\"blue\",\"blue\",\"blue\",\"blue\",\"blue\",\"blue\",\"blue\",\"blue\",\"blue\",\"blue\",\"blue\",\"blue\",\"blue\",\"blue\",\"blue\",\"blue\",\"blue\",\"blue\",\"blue\",\"blue\",\"blue\",\"blue\",\"blue\",\"blue\",\"blue\",\"blue\",\"blue\",\"blue\",\"blue\",\"blue\",\"blue\",\"blue\",\"blue\",\"blue\",\"blue\",\"blue\",\"blue\",\"blue\",\"blue\",\"blue\",\"blue\",\"blue\",\"blue\",\"blue\",\"blue\",\"blue\",\"blue\",\"blue\",\"blue\",\"blue\",\"blue\",\"blue\",\"blue\",\"blue\",\"blue\",\"blue\",\"blue\",\"blue\",\"blue\",\"blue\",\"blue\",\"blue\",\"blue\",\"blue\",\"blue\",\"blue\",\"blue\",\"blue\",\"blue\",\"blue\",\"blue\",\"blue\",\"blue\",\"blue\",\"blue\",\"blue\",\"blue\",\"blue\",\"blue\",\"blue\",\"blue\",\"blue\",\"blue\",\"blue\",\"blue\",\"blue\",\"blue\",\"blue\",\"blue\",\"blue\",\"blue\",\"blue\",\"blue\",\"blue\",\"blue\",\"blue\",\"blue\",\"blue\",\"blue\",\"blue\",\"blue\",\"blue\",\"blue\",\"blue\",\"blue\",\"blue\",\"blue\",\"blue\",\"blue\",\"blue\",\"blue\",\"blue\",\"blue\",\"blue\",\"blue\",\"blue\",\"blue\",\"blue\",\"blue\",\"blue\",\"blue\",\"blue\",\"blue\",\"blue\",\"blue\",\"blue\",\"blue\",\"blue\",\"blue\",\"blue\",\"blue\",\"blue\",\"blue\",\"blue\",\"blue\",\"blue\",\"blue\",\"blue\",\"blue\",\"blue\",\"blue\",\"blue\",\"blue\",\"blue\",\"blue\",\"blue\",\"blue\",\"blue\",\"blue\",\"blue\",\"blue\",\"blue\",\"blue\",\"blue\",\"blue\",\"blue\",\"blue\",\"blue\",\"blue\",\"blue\",\"blue\",\"blue\",\"blue\",\"blue\",\"blue\",\"blue\",\"blue\",\"blue\",\"blue\",\"blue\",\"blue\",\"blue\",\"blue\",\"blue\",\"blue\",\"blue\",\"blue\",\"blue\",\"blue\",\"blue\",\"blue\",\"blue\",\"blue\",\"blue\",\"blue\",\"blue\",\"blue\",\"blue\",\"blue\",\"blue\",\"blue\",\"blue\",\"blue\",\"blue\",\"blue\",\"blue\",\"blue\",\"blue\",\"blue\",\"blue\",\"blue\",\"blue\",\"blue\",\"blue\",\"blue\",\"blue\",\"blue\",\"blue\",\"blue\",\"blue\",\"blue\",\"blue\",\"blue\",\"blue\",\"blue\",\"blue\",\"blue\",\"blue\",\"blue\",\"blue\",\"blue\",\"blue\",\"blue\",\"blue\",\"blue\",\"blue\",\"blue\",\"blue\",\"blue\",\"blue\",\"blue\",\"blue\",\"blue\",\"blue\",\"blue\",\"blue\",\"blue\",\"blue\",\"blue\",\"blue\",\"blue\",\"blue\",\"blue\",\"blue\",\"blue\",\"blue\",\"blue\",\"blue\",\"blue\",\"blue\",\"blue\",\"blue\",\"blue\",\"blue\",\"blue\",\"blue\",\"blue\",\"blue\",\"blue\",\"blue\",\"blue\",\"blue\",\"blue\",\"blue\",\"blue\",\"blue\",\"blue\",\"blue\",\"blue\",\"blue\",\"blue\",\"blue\",\"blue\",\"blue\",\"blue\",\"blue\",\"blue\",\"blue\",\"blue\",\"blue\",\"blue\",\"blue\",\"blue\",\"blue\",\"blue\",\"blue\",\"blue\",\"blue\",\"blue\",\"blue\",\"blue\",\"blue\",\"blue\",\"blue\",\"blue\",\"blue\",\"blue\",\"blue\",\"blue\",\"blue\",\"blue\",\"blue\",\"blue\",\"blue\",\"blue\",\"blue\",\"blue\",\"blue\",\"blue\",\"blue\",\"blue\",\"blue\",\"blue\",\"blue\",\"blue\",\"blue\",\"blue\",\"blue\",\"blue\",\"blue\",\"blue\",\"blue\",\"blue\",\"blue\",\"blue\",\"blue\",\"blue\",\"blue\",\"blue\",\"blue\",\"blue\",\"blue\",\"blue\",\"blue\",\"blue\",\"blue\",\"blue\",\"blue\",\"blue\",\"blue\",\"blue\",\"blue\",\"blue\",\"blue\",\"blue\",\"blue\",\"blue\",\"blue\",\"blue\",\"blue\",\"blue\",\"blue\",\"blue\",\"blue\",\"blue\",\"blue\",\"blue\",\"blue\",\"blue\",\"blue\",\"blue\",\"blue\",\"blue\",\"blue\",\"blue\",\"blue\",\"blue\",\"blue\",\"blue\",\"blue\",\"blue\",\"blue\",\"blue\",\"blue\",\"blue\",\"blue\",\"blue\",\"blue\",\"blue\",\"blue\",\"blue\",\"blue\",\"blue\",\"blue\",\"blue\",\"blue\",\"blue\",\"blue\",\"blue\",\"blue\",\"blue\",\"blue\",\"blue\",\"blue\",\"blue\",\"blue\",\"blue\",\"blue\",\"blue\",\"blue\",\"blue\",\"blue\",\"blue\",\"blue\",\"blue\",\"blue\",\"blue\",\"blue\",\"blue\",\"blue\",\"blue\",\"blue\",\"blue\",\"blue\",\"blue\",\"blue\",\"blue\",\"blue\",\"blue\",\"blue\",\"blue\",\"blue\",\"blue\",\"blue\",\"blue\",\"blue\",\"blue\",\"blue\",\"blue\",\"blue\",\"blue\",\"blue\",\"blue\",\"blue\",\"blue\",\"blue\",\"blue\",\"blue\",\"blue\",\"blue\",\"blue\",\"blue\",\"blue\",\"blue\",\"blue\",\"blue\",\"blue\",\"blue\",\"blue\",\"blue\",\"blue\",\"blue\",\"blue\",\"blue\",\"blue\",\"blue\",\"blue\",\"blue\",\"blue\",\"blue\",\"blue\",\"blue\",\"blue\",\"blue\",\"blue\",\"blue\",\"blue\",\"blue\",\"blue\",\"blue\",\"blue\",\"blue\",\"blue\",\"blue\",\"blue\",\"blue\",\"blue\",\"blue\",\"blue\",\"blue\",\"blue\",\"blue\",\"blue\",\"blue\",\"blue\",\"blue\",\"blue\",\"blue\",\"blue\",\"blue\",\"blue\",\"blue\",\"blue\",\"blue\",\"blue\",\"blue\",\"blue\",\"blue\",\"blue\",\"blue\",\"blue\",\"blue\",\"blue\",\"blue\",\"blue\",\"blue\",\"blue\",\"blue\",\"blue\",\"blue\",\"blue\",\"blue\",\"blue\",\"blue\",\"blue\",\"blue\",\"blue\",\"blue\",\"blue\",\"blue\",\"blue\",\"blue\",\"blue\",\"blue\",\"blue\",\"blue\",\"blue\",\"blue\",\"blue\",\"blue\",\"blue\",\"blue\",\"blue\",\"blue\",\"blue\",\"blue\",\"blue\",\"blue\",\"blue\",\"blue\",\"blue\",\"blue\",\"blue\",\"blue\",\"blue\",\"blue\",\"blue\",\"blue\",\"blue\",\"blue\",\"blue\",\"blue\",\"blue\",\"blue\",\"blue\",\"blue\",\"blue\",\"blue\",\"blue\",\"blue\",\"blue\",\"blue\",\"blue\",\"blue\",\"blue\",\"blue\",\"blue\",\"blue\",\"blue\",\"blue\",\"blue\",\"blue\",\"blue\",\"blue\",\"blue\",\"blue\",\"blue\",\"blue\",\"blue\",\"blue\",\"blue\",\"blue\",\"blue\",\"blue\",\"blue\",\"blue\",\"blue\",\"blue\",\"blue\",\"blue\",\"blue\",\"blue\",\"blue\",\"blue\",\"blue\",\"blue\",\"blue\",\"blue\",\"blue\",\"blue\",\"blue\",\"blue\",\"blue\",\"blue\",\"blue\",\"blue\",\"blue\",\"blue\",\"blue\",\"blue\",\"blue\",\"blue\",\"blue\",\"blue\",\"blue\",\"blue\",\"blue\",\"blue\",\"blue\",\"blue\",\"blue\",\"blue\",\"blue\",\"blue\",\"blue\",\"blue\",\"blue\",\"blue\",\"blue\",\"blue\",\"blue\",\"blue\",\"blue\",\"blue\",\"blue\",\"blue\",\"blue\",\"blue\",\"blue\",\"blue\",\"blue\",\"blue\",\"blue\",\"blue\",\"blue\",\"blue\",\"blue\",\"blue\",\"blue\",\"blue\",\"blue\",\"blue\",\"blue\",\"blue\",\"blue\",\"blue\",\"blue\",\"blue\",\"blue\",\"blue\",\"blue\",\"blue\",\"blue\",\"blue\",\"blue\",\"blue\",\"blue\",\"blue\",\"blue\",\"blue\",\"blue\",\"blue\",\"blue\",\"blue\",\"blue\",\"blue\",\"blue\",\"blue\",\"blue\",\"blue\",\"blue\",\"blue\",\"blue\",\"blue\",\"blue\",\"blue\",\"blue\",\"blue\",\"blue\",\"blue\",\"blue\",\"blue\",\"blue\",\"blue\",\"blue\",\"blue\",\"blue\",\"blue\",\"blue\",\"blue\",\"blue\",\"blue\",\"blue\",\"blue\",\"blue\",\"blue\",\"blue\",\"blue\",\"blue\",\"blue\",\"blue\",\"blue\",\"blue\",\"blue\",\"blue\",\"blue\",\"blue\",\"blue\",\"blue\",\"blue\",\"blue\",\"blue\",\"blue\",\"blue\",\"blue\",\"blue\",\"blue\",\"blue\",\"blue\",\"blue\",\"blue\",\"blue\",\"blue\",\"blue\",\"blue\",\"blue\",\"blue\",\"blue\",\"blue\",\"blue\",\"blue\",\"blue\",\"blue\",\"blue\",\"blue\",\"blue\",\"blue\",\"blue\",\"blue\",\"blue\",\"blue\",\"blue\",\"blue\",\"blue\",\"blue\",\"blue\",\"blue\",\"blue\",\"blue\",\"blue\",\"blue\",\"blue\",\"blue\",\"blue\",\"blue\",\"blue\",\"blue\",\"blue\",\"blue\",\"blue\",\"blue\",\"blue\",\"blue\",\"blue\",\"blue\",\"blue\",\"blue\",\"blue\",\"blue\",\"blue\",\"blue\",\"blue\",\"blue\",\"blue\",\"blue\",\"blue\",\"blue\",\"blue\",\"blue\",\"blue\",\"blue\",\"blue\",\"blue\",\"blue\",\"blue\",\"blue\",\"blue\",\"blue\",\"blue\",\"blue\",\"blue\",\"blue\",\"blue\",\"blue\",\"blue\",\"blue\",\"blue\",\"blue\",\"blue\",\"blue\",\"blue\",\"blue\",\"blue\",\"blue\",\"blue\",\"blue\",\"blue\",\"blue\",\"blue\",\"blue\",\"blue\",\"blue\",\"blue\",\"blue\",\"blue\",\"blue\",\"blue\",\"blue\",\"blue\",\"blue\",\"blue\",\"blue\",\"blue\",\"blue\",\"blue\",\"blue\",\"blue\",\"blue\",\"blue\",\"blue\",\"blue\",\"blue\",\"blue\",\"blue\",\"blue\",\"blue\",\"blue\",\"blue\",\"blue\",\"blue\",\"blue\",\"blue\",\"blue\",\"blue\",\"blue\",\"blue\",\"blue\",\"blue\",\"blue\",\"blue\",\"blue\",\"blue\",\"blue\",\"blue\",\"blue\",\"blue\",\"blue\",\"blue\",\"blue\",\"blue\",\"blue\",\"blue\",\"blue\",\"blue\",\"blue\",\"blue\",\"blue\",\"blue\",\"blue\",\"blue\",\"blue\",\"blue\",\"blue\",\"blue\",\"blue\",\"blue\",\"blue\",\"blue\",\"blue\",\"blue\",\"blue\",\"blue\",\"blue\",\"blue\",\"blue\",\"blue\",\"blue\",\"blue\",\"blue\",\"blue\",\"blue\",\"blue\",\"blue\",\"blue\",\"blue\",\"blue\",\"blue\",\"blue\",\"blue\",\"blue\",\"blue\",\"blue\",\"blue\",\"blue\",\"blue\",\"blue\",\"blue\",\"blue\",\"blue\",\"blue\",\"blue\",\"blue\",\"blue\",\"blue\",\"blue\",\"blue\",\"blue\",\"blue\",\"blue\",\"blue\",\"blue\",\"blue\",\"blue\",\"blue\",\"blue\",\"blue\",\"blue\",\"blue\",\"blue\",\"blue\",\"blue\",\"blue\",\"blue\",\"blue\",\"blue\",\"blue\",\"blue\",\"blue\",\"blue\",\"blue\",\"blue\",\"blue\",\"blue\",\"blue\",\"blue\",\"blue\",\"blue\",\"blue\",\"blue\",\"blue\",\"blue\",\"blue\",\"blue\",\"blue\",\"blue\",\"blue\",\"blue\",\"blue\",\"blue\",\"blue\",\"blue\",\"blue\",\"blue\",\"blue\",\"blue\",\"blue\",\"blue\",\"blue\",\"blue\",\"blue\",\"blue\",\"blue\",\"blue\",\"blue\",\"blue\",\"blue\",\"blue\",\"blue\",\"blue\",\"blue\",\"blue\",\"blue\",\"blue\",\"blue\",\"blue\",\"blue\",\"blue\",\"blue\",\"blue\",\"blue\",\"blue\",\"blue\",\"blue\",\"blue\",\"blue\",\"blue\",\"blue\",\"blue\",\"blue\",\"blue\",\"blue\",\"blue\",\"blue\",\"blue\",\"blue\",\"blue\",\"blue\",\"blue\",\"blue\",\"blue\",\"blue\",\"blue\",\"blue\",\"blue\",\"blue\",\"blue\",\"blue\",\"blue\",\"blue\",\"blue\",\"blue\",\"blue\",\"blue\",\"blue\",\"blue\",\"blue\",\"blue\",\"blue\",\"blue\",\"blue\",\"blue\",\"blue\",\"blue\",\"blue\",\"blue\",\"blue\",\"blue\",\"blue\",\"blue\",\"blue\",\"blue\",\"blue\",\"blue\",\"blue\",\"blue\",\"blue\",\"blue\",\"blue\",\"blue\",\"blue\",\"blue\",\"blue\",\"blue\",\"blue\",\"blue\",\"blue\",\"blue\",\"blue\",\"blue\",\"blue\",\"blue\",\"blue\",\"blue\",\"blue\",\"blue\",\"blue\",\"blue\",\"blue\",\"blue\",\"blue\",\"blue\",\"blue\",\"blue\",\"blue\",\"blue\",\"blue\",\"blue\",\"blue\",\"blue\",\"blue\",\"blue\",\"blue\",\"blue\",\"blue\",\"blue\",\"blue\",\"blue\",\"blue\",\"blue\",\"blue\",\"blue\",\"blue\",\"blue\",\"blue\",\"blue\",\"blue\",\"blue\",\"blue\",\"blue\",\"blue\",\"blue\",\"blue\",\"blue\",\"blue\",\"blue\",\"blue\",\"blue\",\"blue\",\"blue\",\"blue\",\"blue\",\"blue\",\"blue\",\"blue\",\"blue\",\"blue\",\"blue\",\"blue\",\"blue\",\"blue\",\"blue\",\"blue\",\"blue\",\"blue\",\"blue\",\"blue\",\"blue\",\"blue\",\"blue\",\"blue\",\"blue\",\"blue\",\"blue\",\"blue\",\"blue\",\"blue\",\"blue\",\"blue\",\"blue\",\"blue\",\"blue\",\"blue\",\"blue\",\"blue\",\"blue\",\"blue\",\"blue\",\"blue\",\"blue\",\"blue\",\"blue\",\"blue\",\"blue\",\"blue\",\"blue\",\"blue\",\"blue\",\"blue\",\"blue\",\"blue\",\"blue\",\"blue\",\"blue\",\"blue\",\"blue\",\"blue\",\"blue\",\"blue\",\"blue\",\"blue\",\"blue\",\"blue\",\"blue\",\"blue\",\"blue\",\"blue\",\"blue\",\"blue\",\"blue\",\"blue\",\"blue\",\"blue\",\"blue\",\"blue\",\"blue\",\"blue\",\"blue\",\"blue\",\"blue\",\"blue\",\"blue\",\"blue\",\"blue\",\"blue\",\"blue\",\"blue\",\"blue\",\"blue\",\"blue\",\"blue\",\"blue\",\"blue\",\"blue\",\"blue\",\"blue\",\"blue\",\"blue\",\"blue\",\"blue\",\"blue\",\"blue\",\"blue\",\"blue\",\"blue\",\"blue\",\"blue\",\"blue\",\"blue\",\"blue\",\"blue\",\"blue\",\"blue\",\"blue\",\"blue\",\"blue\",\"blue\",\"blue\",\"blue\",\"blue\",\"blue\",\"blue\",\"blue\",\"blue\",\"blue\",\"blue\",\"blue\",\"blue\",\"blue\",\"blue\",\"blue\",\"blue\",\"blue\",\"blue\",\"blue\",\"blue\",\"blue\",\"blue\",\"blue\",\"blue\",\"blue\",\"blue\",\"blue\",\"blue\",\"blue\",\"blue\",\"blue\",\"blue\",\"blue\",\"blue\",\"blue\",\"blue\",\"blue\",\"blue\",\"blue\",\"blue\",\"blue\",\"blue\",\"blue\",\"blue\",\"blue\",\"blue\",\"blue\",\"blue\",\"blue\",\"blue\",\"blue\",\"blue\",\"blue\",\"blue\",\"blue\",\"blue\",\"blue\",\"blue\",\"blue\",\"blue\",\"blue\",\"blue\",\"blue\",\"blue\",\"blue\",\"blue\",\"blue\",\"blue\",\"blue\",\"blue\",\"blue\",\"blue\",\"blue\",\"blue\",\"blue\",\"blue\",\"blue\",\"blue\",\"blue\",\"blue\",\"blue\",\"blue\",\"blue\",\"blue\",\"blue\",\"blue\",\"blue\",\"blue\",\"blue\",\"blue\",\"blue\",\"blue\",\"blue\",\"blue\",\"blue\",\"blue\",\"blue\",\"blue\",\"blue\",\"blue\",\"blue\",\"blue\",\"blue\",\"blue\",\"blue\",\"blue\",\"blue\",\"blue\",\"blue\",\"blue\",\"blue\",\"blue\",\"blue\",\"blue\",\"blue\",\"blue\",\"blue\",\"blue\",\"blue\",\"blue\",\"blue\",\"blue\",\"blue\",\"blue\",\"blue\",\"blue\",\"blue\",\"blue\",\"blue\",\"blue\",\"blue\",\"blue\",\"blue\",\"blue\",\"blue\",\"blue\",\"blue\",\"blue\",\"blue\",\"blue\",\"blue\",\"blue\",\"blue\",\"blue\",\"blue\",\"blue\",\"blue\",\"blue\",\"blue\",\"blue\",\"blue\",\"blue\",\"blue\",\"blue\",\"blue\",\"blue\",\"blue\",\"blue\",\"blue\",\"blue\",\"blue\",\"blue\",\"blue\",\"blue\",\"blue\",\"blue\",\"blue\",\"blue\",\"blue\",\"blue\",\"blue\",\"blue\",\"blue\",\"blue\",\"blue\",\"blue\",\"blue\",\"blue\",\"blue\",\"blue\",\"blue\",\"blue\",\"blue\",\"blue\",\"blue\",\"blue\",\"blue\",\"blue\",\"blue\",\"blue\",\"blue\",\"blue\",\"blue\",\"blue\",\"blue\",\"blue\",\"blue\",\"blue\",\"blue\",\"blue\",\"blue\",\"blue\",\"blue\",\"blue\",\"blue\",\"blue\",\"blue\",\"blue\",\"blue\",\"blue\",\"blue\",\"blue\",\"blue\",\"blue\",\"blue\",\"blue\",\"blue\",\"blue\",\"blue\",\"blue\",\"blue\",\"blue\",\"blue\",\"blue\",\"blue\",\"blue\",\"blue\",\"blue\",\"blue\",\"blue\",\"blue\",\"blue\",\"blue\",\"blue\",\"blue\",\"blue\",\"blue\",\"blue\",\"blue\",\"blue\",\"blue\",\"blue\",\"blue\",\"blue\",\"blue\",\"blue\",\"blue\",\"blue\",\"blue\",\"blue\",\"blue\",\"blue\",\"blue\",\"blue\",\"blue\",\"blue\",\"blue\",\"blue\",\"blue\",\"blue\",\"blue\",\"blue\",\"blue\",\"blue\",\"blue\",\"blue\",\"blue\",\"blue\",\"blue\",\"blue\",\"blue\",\"blue\",\"blue\",\"blue\",\"blue\",\"blue\",\"blue\",\"blue\",\"blue\",\"blue\",\"blue\",\"blue\",\"blue\",\"blue\",\"blue\",\"blue\",\"blue\",\"blue\",\"blue\",\"blue\",\"blue\",\"blue\",\"blue\",\"blue\",\"blue\",\"blue\",\"blue\",\"blue\",\"blue\",\"blue\",\"blue\",\"blue\",\"blue\",\"blue\",\"blue\",\"blue\",\"blue\",\"blue\",\"blue\",\"blue\",\"blue\",\"blue\",\"blue\",\"blue\",\"blue\",\"blue\",\"blue\",\"blue\",\"blue\",\"blue\",\"blue\",\"blue\",\"blue\",\"blue\",\"blue\",\"blue\",\"blue\",\"blue\",\"blue\",\"blue\",\"blue\",\"blue\",\"blue\",\"blue\",\"blue\",\"blue\",\"blue\",\"blue\",\"blue\",\"blue\",\"blue\",\"blue\",\"blue\",\"blue\",\"blue\",\"blue\",\"blue\",\"blue\",\"blue\",\"blue\",\"blue\",\"blue\",\"blue\",\"blue\",\"blue\",\"blue\",\"blue\",\"blue\",\"blue\",\"blue\",\"blue\",\"blue\",\"blue\",\"blue\",\"blue\",\"blue\",\"blue\",\"blue\",\"blue\",\"blue\",\"blue\",\"blue\",\"blue\",\"blue\",\"blue\",\"blue\",\"blue\",\"blue\",\"blue\",\"blue\",\"blue\",\"blue\",\"blue\",\"blue\",\"blue\",\"blue\",\"blue\",\"blue\",\"blue\",\"blue\",\"blue\",\"blue\",\"blue\",\"blue\",\"blue\",\"blue\",\"blue\",\"blue\",\"blue\",\"blue\",\"blue\",\"blue\",\"blue\",\"blue\",\"blue\",\"blue\",\"blue\",\"blue\",\"blue\",\"blue\",\"blue\",\"blue\",\"blue\",\"blue\",\"blue\",\"blue\",\"blue\",\"blue\",\"blue\",\"blue\",\"blue\",\"blue\",\"blue\",\"blue\",\"blue\",\"blue\",\"blue\",\"blue\",\"blue\",\"blue\",\"blue\",\"blue\",\"blue\",\"blue\",\"blue\",\"blue\",\"blue\",\"blue\",\"blue\",\"blue\",\"blue\",\"blue\",\"blue\",\"blue\",\"blue\",\"blue\",\"blue\",\"blue\",\"blue\",\"blue\",\"blue\",\"blue\",\"blue\",\"blue\",\"blue\",\"blue\",\"blue\",\"blue\",\"blue\",\"blue\",\"blue\",\"blue\",\"blue\",\"blue\",\"blue\",\"blue\",\"blue\",\"blue\",\"blue\",\"blue\",\"blue\",\"blue\",\"blue\",\"blue\",\"blue\",\"blue\",\"blue\",\"blue\",\"blue\",\"blue\",\"blue\",\"blue\",\"blue\",\"blue\",\"blue\",\"blue\",\"blue\",\"blue\",\"blue\",\"blue\",\"blue\",\"blue\",\"blue\",\"blue\",\"blue\",\"blue\",\"blue\",\"blue\",\"blue\",\"blue\",\"blue\",\"blue\",\"blue\",\"blue\",\"blue\",\"blue\",\"blue\",\"blue\",\"blue\",\"blue\",\"blue\",\"blue\",\"blue\",\"blue\",\"blue\",\"blue\",\"blue\",\"blue\",\"blue\",\"blue\",\"blue\",\"blue\",\"blue\",\"blue\",\"blue\",\"blue\",\"blue\",\"blue\",\"blue\",\"blue\",\"blue\",\"blue\",\"blue\",\"blue\",\"blue\",\"blue\",\"blue\",\"blue\",\"blue\",\"blue\",\"blue\",\"blue\",\"blue\",\"blue\",\"blue\",\"blue\",\"blue\",\"blue\",\"blue\",\"blue\",\"blue\",\"blue\",\"blue\",\"blue\",\"blue\",\"blue\",\"blue\",\"blue\",\"blue\",\"blue\",\"blue\",\"blue\",\"blue\",\"blue\",\"blue\",\"blue\",\"blue\",\"blue\",\"blue\",\"blue\",\"blue\",\"blue\",\"blue\",\"blue\",\"blue\",\"blue\",\"blue\",\"blue\",\"blue\",\"blue\",\"blue\",\"blue\",\"blue\",\"blue\",\"blue\",\"blue\",\"blue\",\"blue\",\"blue\",\"blue\",\"blue\",\"blue\",\"blue\",\"blue\",\"blue\",\"blue\",\"blue\",\"blue\",\"blue\",\"blue\",\"blue\",\"blue\",\"blue\",\"blue\",\"blue\",\"blue\",\"blue\",\"blue\",\"blue\",\"blue\",\"blue\",\"blue\",\"blue\",\"blue\",\"blue\",\"blue\",\"blue\",\"blue\",\"blue\",\"blue\",\"blue\"]],[\"token\",[\"verified\",\"2gb\",\"illinois\",\"jazz\",\"checking\",\"telescope\",\"seasons\",\"astrologer\",\"contribution\",\"homemade\",\"heroes\",\"warcraft\",\"kumar\",\"tester\",\"politically\",\"conquer\",\"columbia\",\"quiet\",\"repeat\",\"kapil\",\"involve\",\"mckinsey\",\"switched\",\"att\",\"instance\",\"innocent\",\"portuguese\",\"subscribers\",\"cabinet\",\"terror\",\"85\",\"rotation\",\"shirts\",\"drawn\",\"bi\",\"aspergers\",\"inspiration\",\"beats\",\"\\u00a3\",\"approximately\",\"asset\",\"empathy\",\"rooting\",\"ia\",\"dandruff\",\"slab\",\"operator\",\"horrible\",\"dominant\",\"ocd\",\"spacetime\",\"blow\",\"installing\",\"learnt\",\"separation\",\"institution\",\"temples\",\"hons\",\"pound\",\"removing\",\"unemployment\",\"greenlit\",\"audit\",\"supplement\",\"roller\",\"dota\",\"tiny\",\"equally\",\"braces\",\"aggressive\",\"corn\",\"camps\",\"additional\",\"consent\",\"granted\",\"welfare\",\"myths\",\"stations\",\"timeline\",\"psychologist\",\"nagpur\",\"herself\",\"cooper\",\"exgirlfriend\",\"intercourse\",\"flip\",\"hurts\",\"lpa\",\"nerve\",\"tvs\",\"halloween\",\"screenshot\",\"biomedical\",\"covered\",\"milky\",\"onsite\",\"aside\",\"meaningful\",\"stretch\",\"joker\",\"encounter\",\"tone\",\"founders\",\"talked\",\"respectively\",\"downloads\",\"cocaine\",\"toxic\",\"sword\",\"fuck\",\"trainer\",\"partition\",\"boxing\",\"grid\",\"practicing\",\"menu\",\"cms\",\"indore\",\"ate\",\"volunteer\",\"misconceptions\",\"pics\",\"flies\",\"instantly\",\"trans\",\"friday\",\"sociopaths\",\"ctc\",\"hoax\",\"detailed\",\"sizes\",\"rejection\",\"limitations\",\"bharat\",\"kissing\",\"renewable\",\"oriented\",\"countrys\",\"dumps\",\"spiders\",\"technological\",\"advertisement\",\"headache\",\"zodiac\",\"accommodation\",\"venus\",\"calcium\",\"passenger\",\"falls\",\"overnight\",\"pickup\",\"gary\",\"transportation\",\"odds\",\"jupiter\",\"purchasing\",\"fluently\",\"flu\",\"photons\",\"conductor\",\"ohio\",\"balaji\",\"mcdonalds\",\"betting\",\"irrational\",\"sachin\",\"deactivate\",\"estimate\",\"hairs\",\"fluent\",\"errors\",\"remaining\",\"marriages\",\"medieval\",\"charles\",\"spider\",\"oxford\",\"gita\",\"races\",\"liquor\",\"poland\",\"lease\",\"co2\",\"selenium\",\"attempts\",\"crystal\",\"manaphy\",\"knight\",\"collapsed\",\"wheels\",\"behaviour\",\"bitcoins\",\"parliament\",\"himher\",\"handsome\",\"thousands\",\"caring\",\"kings\",\"lucky\",\"workplace\",\"condom\",\"intuitive\",\"chronic\",\"eyesight\",\"simulation\",\"prank\",\"quickest\",\"concert\",\"popularity\",\"connections\",\"disorders\",\"scripting\",\"appearance\",\"js\",\"depth\",\"cheque\",\"longterm\",\"documentaries\",\"dioxide\",\"bright\",\"info\",\"diseases\",\"appeal\",\"snap\",\"smoked\",\"singers\",\"boil\",\"probably\",\"temperatures\",\"appearing\",\"olive\",\"ntse\",\"telecom\",\"brief\",\"discrimination\",\"ethnic\",\"cache\",\"passionate\",\"shoulder\",\"assault\",\"marshmallow\",\"momentum\",\"yr\",\"migrate\",\"retire\",\"cet\",\"canvas\",\"vietnamese\",\"institutions\",\"meter\",\"roots\",\"integer\",\"imported\",\"ants\",\"lyft\",\"piercing\",\"il\",\"poop\",\"organisms\",\"ve\",\"entropy\",\"calm\",\"saddest\",\"toward\",\"myth\",\"sight\",\"filling\",\"hdmi\",\"satisfied\",\"transactions\",\"pharmacy\",\"nursing\",\"correlation\",\"regression\",\"awake\",\"md\",\"nri\",\"recommendations\",\"bin\",\"finland\",\"multi\",\"voted\",\"discovery\",\"edward\",\"touching\",\"immigrant\",\"geometry\",\"indicate\",\"ourselves\",\"texting\",\"seek\",\"expecting\",\"dj\",\"brake\",\"helicopter\",\"blonde\",\"triple\",\"ladies\",\"vivekananda\",\"switching\",\"prostitution\",\"banana\",\"magazines\",\"shippuden\",\"lucknow\",\"2019\",\"failing\",\"elizabeth\",\"irish\",\"ebook\",\"temporary\",\"governor\",\"wasting\",\"weekends\",\"cpt\",\"wax\",\"labor\",\"instruments\",\"instrumentation\",\"hates\",\"hip\",\"arnab\",\"bubble\",\"employers\",\"aadhaar\",\"boyfriends\",\"jake\",\"explained\",\"yesterday\",\"beta\",\"extrovert\",\"andhra\",\"micromax\",\"vertical\",\"lay\",\"nonprofit\",\"dubbed\",\"typing\",\"automotive\",\"thomas\",\"procedures\",\"priority\",\"funded\",\"arabs\",\"siblings\",\"guinea\",\"missile\",\"luck\",\"strategic\",\"defend\",\"module\",\"tuition\",\"acids\",\"controller\",\"committee\",\"housing\",\"integral\",\"peaceful\",\"refugees\",\"prescription\",\"interns\",\"supported\",\"womans\",\"dentist\",\"wives\",\"village\",\"affecting\",\"lte\",\"beaches\",\"austin\",\"substance\",\"engagement\",\"trainee\",\"measures\",\"trailer\",\"purchased\",\"15000\",\"uttar\",\"glue\",\"dtu\",\"medal\",\"photon\",\"engg\",\"violin\",\"column\",\"somehow\",\"rotate\",\"3000\",\"virat\",\"forgotten\",\"fingers\",\"slim\",\"arrest\",\"covalent\",\"ncert\",\"kernel\",\"da\",\"alarm\",\"ngo\",\"4gb\",\"productivity\",\"planned\",\"district\",\"berlin\",\"lists\",\"leads\",\"slang\",\"defence\",\"aspiring\",\"56\",\"enemy\",\"farming\",\"muller\",\"pays\",\"liver\",\"membrane\",\"secretly\",\"plug\",\"gum\",\"eclipse\",\"chewing\",\"labs\",\"zombie\",\"authority\",\"males\",\"argentina\",\"tasks\",\"fell\",\"nails\",\"palestine\",\"tanks\",\"identical\",\"deck\",\"qualification\",\"leadership\",\"kohli\",\"pronunciation\",\"hello\",\"violent\",\"sabha\",\"respiration\",\"transform\",\"warranty\",\"faculty\",\"adolf\",\"expenses\",\"jersey\",\"mercury\",\"whiskey\",\"tackle\",\"tweet\",\"blame\",\"cruise\",\"mahindra\",\"discharge\",\"reduced\",\"vodka\",\"mahatma\",\"bass\",\"compete\",\"stains\",\"pill\",\"swim\",\"ali\",\"gf\",\"ford\",\"prince\",\"sweat\",\"performing\",\"limits\",\"leonardo\",\"cow\",\"resolve\",\"matters\",\"pharmaceutical\",\"ray\",\"remotely\",\"pf\",\"clinical\",\"bpo\",\"homeless\",\"husbands\",\"rising\",\"newtons\",\"outcome\",\"derivative\",\"alpha\",\"grown\",\"capitalism\",\"astronaut\",\"hybrid\",\"palm\",\"teens\",\"hits\",\"airplanes\",\"none\",\"admin\",\"applicable\",\"amcat\",\"spam\",\"neutrality\",\"pixel\",\"festival\",\"faces\",\"molar\",\"snakes\",\"sip\",\"kik\",\"farm\",\"ltd\",\"votes\",\"publishing\",\"comfort\",\"frontend\",\"spin\",\"diagnosed\",\"buildings\",\"\\u00b0\",\"cashless\",\"addictive\",\"extinct\",\"ugc\",\"coke\",\"llb\",\"phrases\",\"struggle\",\"drives\",\"fiber\",\"grocery\",\"achieved\",\"penny\",\"bath\",\"allies\",\"uninstall\",\"ny\",\"appears\",\"effort\",\"satellites\",\"confirmed\",\"loneliness\",\"illuminati\",\"uri\",\"lucid\",\"preferably\",\"neither\",\"\\u221a\",\"pacific\",\"americas\",\"bs\",\"graduated\",\"bills\",\"tube\",\"germans\",\"assume\",\"cleared\",\"mate\",\"divide\",\"versions\",\"fallen\",\"journey\",\"anthem\",\"certificates\",\"looked\",\"sponsor\",\"useless\",\"dependent\",\"invite\",\"guru\",\"keyword\",\"aipmt\",\"clone\",\"kgs\",\"chip\",\"origins\",\"wide\",\"motivational\",\"elite\",\"wanna\",\"unity\",\"cough\",\"connecting\",\"mystery\",\"kim\",\"syrian\",\"voldemort\",\"responsibilities\",\"molecules\",\"boobs\",\"holidays\",\"tutorial\",\"circumstances\",\"fiitjee\",\"islands\",\"bypass\",\"slowly\",\"mixture\",\"aluminum\",\"salesforce\",\"twin\",\"iot\",\"remedy\",\"sheets\",\"pole\",\"hated\",\"females\",\"protected\",\"irs\",\"insecure\",\"entering\",\"neuroscience\",\"offices\",\"delta\",\"suggestion\",\"snapdeal\",\"backstory\",\"periodic\",\"cancelled\",\"mans\",\"complicated\",\"bitsat\",\"pleasure\",\"loop\",\"dropbox\",\"selfish\",\"nude\",\"20000\",\"voter\",\"variables\",\"victory\",\"closest\",\"compensation\",\"extended\",\"locations\",\"cracked\",\"perks\",\"ended\",\"exit\",\"awareness\",\"pakistanis\",\"ebooks\",\"bull\",\"unblock\",\"100000\",\"entrepreneurship\",\"infrastructure\",\"scotland\",\"guest\",\"attacked\",\"hurting\",\"lion\",\"reject\",\"purposes\",\"knife\",\"thai\",\"ipl\",\"knee\",\"accepting\",\"spent\",\"punjabi\",\"tab\",\"quoras\",\"caffeine\",\"athletes\",\"ink\",\"cooked\",\"improving\",\"invaded\",\"allah\",\"thermodynamics\",\"mortgage\",\"firsttime\",\"achievements\",\"issued\",\"breath\",\"award\",\"llc\",\"legends\",\"mood\",\"influenced\",\"proteins\",\"holy\",\"performed\",\"pee\",\"blocks\",\"molecule\",\"interests\",\"imei\",\"requires\",\"cisco\",\"moves\",\"marrying\",\"mca\",\"perfectly\",\"iisc\",\"corporation\",\"shiva\",\"viruses\",\"difficulty\",\"50000\",\"volte\",\"shampoo\",\"secular\",\"transplant\",\"ghz\",\"ahead\",\"crew\",\"interact\",\"depend\",\"hawaii\",\"hiv\",\"evening\",\"vegetable\",\"revenge\",\"suppose\",\"busy\",\"label\",\"rogue\",\"rational\",\"hillstation\",\"brains\",\"urdu\",\"imagine\",\"salaries\",\"survey\",\"g4\",\"butt\",\"manufacturers\",\"saas\",\"residency\",\"recommendation\",\"purple\",\"fault\",\"aadhar\",\"aging\",\"bhopal\",\"conducted\",\"loses\",\"infection\",\"forest\",\"impacts\",\"collection\",\"fridge\",\"diamond\",\"mis\",\"recorded\",\"march\",\"conditioner\",\"signature\",\"listed\",\"branches\",\"manchester\",\"wanting\",\"perception\",\"absolutely\",\"servers\",\"soluble\",\"swami\",\"lumia\",\"directors\",\"52\",\"2008\",\"gaining\",\"stereotypes\",\"homes\",\"vegas\",\"jam\",\"behave\",\"relatively\",\"forum\",\"ib\",\"earphones\",\"facilities\",\"april\",\"finally\",\"tail\",\"capacitor\",\"tiger\",\"deaf\",\"deliver\",\"django\",\"expand\",\"skip\",\"nearly\",\"maybe\",\"task\",\"gateway\",\"strangest\",\"abstract\",\"adding\",\"suck\",\"tim\",\"printed\",\"sigma\",\"immigrate\",\"decline\",\"arrested\",\"95\",\"narcissistic\",\"freelancing\",\"patterns\",\"expired\",\"casual\",\"tablets\",\"patients\",\"lean\",\"pieces\",\"laymans\",\"whatever\",\"polish\",\"lemon\",\"abortion\",\"i3\",\"theorem\",\"h\",\"compulsory\",\"helped\",\"sons\",\"feminism\",\"compiler\",\"tested\",\"enhance\",\"adhd\",\"manhattan\",\"iii\",\"nail\",\"eee\",\"deals\",\"excellent\",\"ipo\",\"folder\",\"sand\",\"continuous\",\"capable\",\"libraries\",\"aggregate\",\"64\",\"bsnl\",\"profiles\",\"spirit\",\"pulled\",\"owns\",\"deloitte\",\"therapist\",\"acts\",\"millions\",\"authors\",\"marathi\",\"dvd\",\"coconut\",\"swiss\",\"interaction\",\"ncr\",\"kannada\",\"smallest\",\"advisable\",\"smartest\",\"sorry\",\"normally\",\"ends\",\"rome\",\"spectrum\",\"cousin\",\"75\",\"suzuki\",\"nights\",\"cap\",\"enable\",\"counselling\",\"proxy\",\"margin\",\"shops\",\"hackers\",\"tatkal\",\"opened\",\"cinema\",\"consumption\",\"coal\",\"silent\",\"choosing\",\"introduction\",\"electromagnetic\",\"hcl\",\"complaint\",\"puppies\",\"vc\",\"symbols\",\"lenses\",\"username\",\"arrow\",\"adopted\",\"affects\",\"sudden\",\"pcm\",\"gel\",\"affair\",\"pinterest\",\"statements\",\"supplements\",\"justified\",\"turns\",\"santa\",\"shoe\",\"trek\",\"headphone\",\"girlfriends\",\"verizon\",\"rocket\",\"conference\",\"ego\",\"srm\",\"afghanistan\",\"nucleus\",\"generated\",\"chinas\",\"ww1\",\"consultancy\",\"socially\",\"allen\",\"berkeley\",\"missed\",\"crying\",\"introduced\",\"ps3\",\"flour\",\"brought\",\"elder\",\"minecraft\",\"9th\",\"freelancer\",\"circles\",\"scars\",\"entertainment\",\"turbine\",\"deeply\",\"rom\",\"evolved\",\"nato\",\"strengths\",\"ide\",\"tweets\",\"scholarships\",\"mentor\",\"collect\",\"hdfc\",\"mandarin\",\"solo\",\"terrible\",\"influential\",\"professionals\",\"65\",\"recognition\",\"nvidia\",\"cia\",\"designs\",\"10k\",\"creation\",\"tom\",\"rated\",\"introverts\",\"boiling\",\"communism\",\"treaty\",\"whereas\",\"thanks\",\"cigarette\",\"bengaluru\",\"oneplus\",\"reserve\",\"advertise\",\"nits\",\"helping\",\"bruce\",\"mp3\",\"severe\",\"proposal\",\"cultures\",\"tap\",\"animated\",\"planes\",\"hall\",\"cognitive\",\"supports\",\"keys\",\"gotten\",\"feedback\",\"recording\",\"proceed\",\"membership\",\"console\",\"overseas\",\"hows\",\"william\",\"billionaires\",\"updated\",\"pre\",\"organizations\",\"messi\",\"unexpected\",\"nitrogen\",\"hungry\",\"nigeria\",\"sync\",\"arduino\",\"gross\",\"outer\",\"searching\",\"workers\",\"outlook\",\"europeans\",\"founder\",\"lectures\",\"legitimate\",\"camp\",\"ordinary\",\"investments\",\"bone\",\"raising\",\"quite\",\"ages\",\"joint\",\"johnson\",\"destination\",\"concerned\",\"belief\",\"refrigerator\",\"implications\",\"manga\",\"mandatory\",\"obamas\",\"lawyers\",\"bedroom\",\"icon\",\"qualifications\",\"qa\",\"bikes\",\"boston\",\"holding\",\"session\",\"appointment\",\"weaknesses\",\"iphones\",\"motorcycle\",\"schizophrenia\",\"5th\",\"intellectual\",\"eaten\",\"attending\",\"medals\",\"adsense\",\"nda\",\"6th\",\"kali\",\"georgia\",\"wechat\",\"earlier\",\"drone\",\"truck\",\"horse\",\"merchant\",\"torque\",\"seed\",\"backend\",\"holmes\",\"graduating\",\"400\",\"bones\",\"sufficient\",\"participate\",\"rifle\",\"shock\",\"downloaded\",\"earthquake\",\"breasts\",\"secretary\",\"insert\",\"damaged\",\"massive\",\"standing\",\"remainder\",\"programme\",\"holocaust\",\"totally\",\"belt\",\"affairs\",\"nokia\",\"mechanism\",\"pin\",\"scan\",\"fought\",\"superpower\",\"poetry\",\"signals\",\"educated\",\"scariest\",\"trains\",\"closer\",\"weapon\",\"icici\",\"serial\",\"bicycle\",\"terminal\",\"finished\",\"stolen\",\"inspiring\",\"cuisine\",\"spark\",\"sounds\",\"pricing\",\"click\",\"underwear\",\"kidney\",\"bengal\",\"invention\",\"discount\",\"chase\",\"evaluate\",\"distributed\",\"themes\",\"amd\",\"stem\",\"st\",\"genre\",\"vegetables\",\"council\",\"bihar\",\"thick\",\"mouse\",\"worry\",\"newly\",\"updates\",\"candy\",\"prepaid\",\"wet\",\"rap\",\"motors\",\"implemented\",\"theoretical\",\"fabric\",\"mexican\",\"portfolio\",\"technique\",\"icse\",\"expansion\",\"evolutionary\",\"justify\",\"trick\",\"attached\",\"lightning\",\"pitch\",\"armed\",\"einstein\",\"conversion\",\"iitjee\",\"declared\",\"admit\",\"acquisition\",\"innovation\",\"runs\",\"wwe\",\"trial\",\"memories\",\"refuse\",\"netherlands\",\"committed\",\"fraud\",\"jailbreak\",\"settle\",\"badly\",\"approved\",\"eligibility\",\"trend\",\"increases\",\"comic\",\"quorans\",\"cellular\",\"matches\",\"receiving\",\"bmw\",\"vlsi\",\"signed\",\"lakes\",\"350\",\"communications\",\"pork\",\"joined\",\"anyway\",\"differentiate\",\"actresses\",\"29\",\"ethics\",\"premier\",\"hearing\",\"vehicles\",\"drama\",\"instant\",\"lips\",\"dates\",\"july\",\"holiday\",\"coach\",\"malayalam\",\"superior\",\"soviet\",\"plate\",\"throw\",\"worship\",\"bars\",\"sharma\",\"mothers\",\"integrated\",\"clubs\",\"bug\",\"melbourne\",\"co\",\"bisexual\",\"regions\",\"lesson\",\"heads\",\"reader\",\"snake\",\"qualify\",\"paul\",\"causing\",\"disappear\",\"era\",\"lets\",\"qualified\",\"spiritual\",\"wolf\",\"requirement\",\"journalism\",\"studied\",\"lowest\",\"vader\",\"coursera\",\"stark\",\"configuration\",\"verbal\",\"undergrad\",\"dimensions\",\"transition\",\"efficiently\",\"interstellar\",\"locked\",\"summary\",\"chandigarh\",\"ghosts\",\"included\",\"operate\",\"dimension\",\"mount\",\"noticed\",\"rating\",\"somewhere\",\"martin\",\"bra\",\"bird\",\"zuckerberg\",\"sensor\",\"audience\",\"dirty\",\"starbucks\",\"permission\",\"residential\",\"wholesale\",\"assets\",\"clearly\",\"km\",\"invade\",\"ipcc\",\"fb\",\"shell\",\"shave\",\"loud\",\"tip\",\"seeds\",\"sets\",\"polar\",\"although\",\"june\",\"judaism\",\"anti\",\"instrument\",\"seven\",\"shooting\",\"j\",\"portal\",\"tower\",\"github\",\"linked\",\"admitted\",\"punishment\",\"mid\",\"micro\",\"cured\",\"lifestyle\",\"nor\",\"upset\",\"challenge\",\"soap\",\"standards\",\"integration\",\"lottery\",\"lab\",\"williams\",\"odd\",\"soil\",\"sensitive\",\"route\",\"tattoos\",\"coin\",\"declare\",\"frame\",\"differential\",\"bowl\",\"softwares\",\"notifications\",\"maintenance\",\"inner\",\"apples\",\"converted\",\"recruiter\",\"bombay\",\"command\",\"posting\",\"controlled\",\"balls\",\"personally\",\"poker\",\"extract\",\"hired\",\"bugs\",\"providers\",\"loans\",\"calculator\",\"attractions\",\"torrents\",\"keywords\",\"profession\",\"blogging\",\"transport\",\"sue\",\"anonymously\",\"compounds\",\"robot\",\"buddhism\",\"sweet\",\"defense\",\"nobody\",\"uc\",\"defined\",\"division\",\"bags\",\"epic\",\"unhealthy\",\"craziest\",\"urban\",\"combination\",\"pair\",\"laugh\",\"cv\",\"usd\",\"launched\",\"usps\",\"visited\",\"nexus\",\"regularly\",\"brothers\",\"broker\",\"concentrate\",\"agreement\",\"nervous\",\"frozen\",\"detail\",\"sir\",\"situations\",\"borderline\",\"angularjs\",\"abusive\",\"tourism\",\"relate\",\"august\",\"communist\",\"accountant\",\"dumb\",\"arab\",\"b2b\",\"du\",\"thermal\",\"asians\",\"threat\",\"karma\",\"passive\",\"homosexuality\",\"putting\",\"quantitative\",\"relativity\",\"sanskrit\",\"opinions\",\"verify\",\"bear\",\"roll\",\"expanding\",\"teenage\",\"jeans\",\"providing\",\"shared\",\"extreme\",\"mi\",\"vr\",\"progress\",\"greece\",\"cpu\",\"ips\",\"merge\",\"reputation\",\"loving\",\"salman\",\"iss\",\"warm\",\"dental\",\"extension\",\"attraction\",\"fictional\",\"journal\",\"login\",\"secondary\",\"recognize\",\"southern\",\"ph\",\"lunch\",\"wallet\",\"ronaldo\",\"larger\",\"actions\",\"fathers\",\"adopt\",\"claims\",\"bottom\",\"therapy\",\"patient\",\"described\",\"virginity\",\"functional\",\"ionic\",\"chartered\",\"discover\",\"55\",\"21st\",\"biased\",\"mad\",\"northern\",\"onto\",\"liberals\",\"premium\",\"neutral\",\"detect\",\"diagram\",\"sperm\",\"ga\",\"bleach\",\"spread\",\"contributions\",\"activate\",\"prior\",\"safest\",\"holder\",\"360\",\"aim\",\"rental\",\"families\",\"everybody\",\"shut\",\"payments\",\"150\",\"cube\",\"vegan\",\"newspaper\",\"beef\",\"houses\",\"preferred\",\"simultaneously\",\"marked\",\"reactions\",\"emergency\",\"protection\",\"cab\",\"forex\",\"norway\",\"immigrants\",\"googles\",\"ssb\",\"wing\",\"yrs\",\"ensure\",\"spy\",\"reasoning\",\"strange\",\"forgive\",\"turkish\",\"tag\",\"ranking\",\"platforms\",\"fox\",\"existed\",\"walmart\",\"lazy\",\"ears\",\"clock\",\"beam\",\"rare\",\"bush\",\"2011\",\"stops\",\"batteries\",\"certified\",\"naked\",\"worldwide\",\"staying\",\"lifetime\",\"ted\",\"lake\",\"wealthy\",\"transit\",\"stephen\",\"rural\",\"versa\",\"pets\",\"commonly\",\"adults\",\"ultimate\",\"genius\",\"vinegar\",\"allows\",\"aid\",\"retirement\",\"airtel\",\"sciences\",\"mountain\",\"drinks\",\"tour\",\"wind\",\"seattle\",\"disabled\",\"bodies\",\"lesbian\",\"governments\",\"kinetic\",\"tumblr\",\"absolute\",\"author\",\"toilet\",\"whey\",\"sleepy\",\"molecular\",\"watches\",\"inventions\",\"rain\",\"34\",\"angular\",\"o\",\"dish\",\"however\",\"agents\",\"abs\",\"switzerland\",\"transformer\",\"clearing\",\"consciousness\",\"broadband\",\"uae\",\"automatic\",\"opposed\",\"geography\",\"astronauts\",\"decisions\",\"cement\",\"induction\",\"luxury\",\"upvotes\",\"politicians\",\"posted\",\"toefl\",\"kitchen\",\"noise\",\"radius\",\"dye\",\"miles\",\"risks\",\"scientifically\",\"mnc\",\"propose\",\"prepared\",\"iiit\",\"mention\",\"equipment\",\"darth\",\"january\",\"surname\",\"raised\",\"attitude\",\"gta\",\"david\",\"hike\",\"awkward\",\"proven\",\"productive\",\"lg\",\"filled\",\"atmosphere\",\"lee\",\"irctc\",\"addicted\",\"dynamic\",\"employment\",\"weekend\",\"replacement\",\"singing\",\"owners\",\"bipolar\",\"tomorrow\",\"poems\",\"default\",\"kvpy\",\"sauce\",\"competitors\",\"russians\",\"sample\",\"crimes\",\"hang\",\"inspired\",\"furniture\",\"throughout\",\"presence\",\"efficiency\",\"leg\",\"biological\",\"pilani\",\"conversations\",\"inspirational\",\"bachelor\",\"centers\",\"withdraw\",\"fundamental\",\"comparison\",\"november\",\"fifa\",\"penalty\",\"algebra\",\"joke\",\"htc\",\"pilots\",\"collapse\",\"texts\",\"vocabulary\",\"moved\",\"sc\",\"smile\",\"october\",\"dot\",\"genetic\",\"architect\",\"url\",\"51\",\"sore\",\"uniform\",\"re\",\"rails\",\"smaller\",\"marine\",\"terrorists\",\"nazi\",\"breast\",\"politician\",\"subtitles\",\"chosen\",\"egypt\",\"thin\",\"packages\",\"editor\",\"bands\",\"mythology\",\"reasonable\",\"permit\",\"acceptable\",\"seriously\",\"iraq\",\"fever\",\"visitor\",\"honest\",\"friction\",\"offering\",\"smarter\",\"ahmedabad\",\"replaced\",\"resolution\",\"burning\",\"bridge\",\"catholic\",\"calendar\",\"resident\",\"policies\",\"forced\",\"leading\",\"arm\",\"deserve\",\"context\",\"coolest\",\"arranged\",\"arizona\",\"comics\",\"harm\",\"democrats\",\"jail\",\"breed\",\"anywhere\",\"psu\",\"christ\",\"violence\",\"agriculture\",\"objective\",\"moments\",\"infinity\",\"supporting\",\"critical\",\"trees\",\"beyond\",\"bag\",\"vitamin\",\"assembly\",\"solved\",\"array\",\"perspective\",\"pas\",\"wwii\",\"skinny\",\"contains\",\"lift\",\"cleaning\",\"peter\",\"aap\",\"pimples\",\"initial\",\"lesserknown\",\"sights\",\"principles\",\"realize\",\"millionaire\",\"faux\",\"orbit\",\"desire\",\"hi\",\"prophet\",\"suits\",\"careers\",\"thinks\",\"quantity\",\"spots\",\"wage\",\"asleep\",\"sociology\",\"guard\",\"units\",\"structural\",\"operation\",\"pants\",\"w\",\"bulk\",\"possibly\",\"drunk\",\"fired\",\"accident\",\"inch\",\"bottle\",\"aerospace\",\"narcissist\",\"ux\",\"angeles\",\"wood\",\"index\",\"safely\",\"robotics\",\"edition\",\"metals\",\"practices\",\"scheme\",\"interior\",\"diabetes\",\"nobel\",\"youth\",\"lived\",\"september\",\"chief\",\"proposed\",\"assuming\",\"sin\",\"counter\",\"disable\",\"introduce\",\"restore\",\"swimming\",\"intern\",\"answering\",\"mentioned\",\"crash\",\"laser\",\"teenagers\",\"presentation\",\"quran\",\"classified\",\"demonetisation\",\"communicate\",\"cotton\",\"autism\",\"anger\",\"environmental\",\"stable\",\"7th\",\"bread\",\"invited\",\"wisdom\",\"wrote\",\"widely\",\"minor\",\"formal\",\"dreaming\",\"managers\",\"escape\",\"pollution\",\"taiwan\",\"verification\",\"los\",\"figures\",\"26\",\"illness\",\"sides\",\"compatible\",\"pack\",\"conspiracy\",\"hedge\",\"flights\",\"dropped\",\"former\",\"suffer\",\"aware\",\"designers\",\"mahabharata\",\"evolve\",\"weigh\",\"dies\",\"fruits\",\"cc\",\"butter\",\"sharing\",\"atoms\",\"tongue\",\"transaction\",\"poverty\",\"suffering\",\"presidents\",\"resistance\",\"adam\",\"civilization\",\"mining\",\"toronto\",\"stick\",\"increased\",\"wild\",\"freelance\",\"removal\",\"aws\",\"rio\",\"principle\",\"asus\",\"cute\",\"consumer\",\"pool\",\"variable\",\"tutorials\",\"advance\",\"keeping\",\"visible\",\"cognizant\",\"equations\",\"rooms\",\"krishna\",\"printer\",\"tooth\",\"mentally\",\"realistic\",\"automobile\",\"cake\",\"tie\",\"beach\",\"ghost\",\"comfortable\",\"mysql\",\"oral\",\"closed\",\"helps\",\"maharashtra\",\"admissions\",\"i5\",\"partners\",\"axis\",\"beliefs\",\"neck\",\"clans\",\"hidden\",\"cyber\",\"voting\",\"bacteria\",\"layer\",\"chhattisgarh\",\"5000\",\"sitting\",\"murder\",\"argument\",\"f\",\"privacy\",\"syndrome\",\"2010\",\"bite\",\"vacation\",\"isro\",\"trouble\",\"records\",\"answered\",\"digit\",\"defeat\",\"childhood\",\"5s\",\"gates\",\"f1\",\"town\",\"anal\",\"copper\",\"talks\",\"affiliate\",\"sociopath\",\"installed\",\"static\",\"copyright\",\"animation\",\"donate\",\"stranger\",\"bcom\",\"destroyed\",\"gujarat\",\"foundation\",\"prize\",\"components\",\"foreigner\",\"arms\",\"unlimited\",\"needing\",\"settings\",\"item\",\"eve\",\"competition\",\"landing\",\"beard\",\"patent\",\"ending\",\"2020\",\"incident\",\"petroleum\",\"florida\",\"particularly\",\"ups\",\"generator\",\"leather\",\"heal\",\"experiment\",\"28\",\"passing\",\"talent\",\"remote\",\"300\",\"published\",\"impossible\",\"steam\",\"80\",\"washing\",\"guilty\",\"punjab\",\"70\",\"album\",\"bullet\",\"paris\",\"interface\",\"agencies\",\"mission\",\"digits\",\"modis\",\"recruitment\",\"manipal\",\"telling\",\"meal\",\"orange\",\"stone\",\"links\",\"ab\",\"upper\",\"cameras\",\"p\",\"combat\",\"passion\",\"shower\",\"thailand\",\"beings\",\"grad\",\"27\",\"finger\",\"jump\",\"lights\",\"ui\",\"bba\",\"sweden\",\"arrive\",\"4th\",\"amendment\",\"window\",\"satellite\",\"al\",\"matlab\",\"jokes\",\"muhammad\",\"expression\",\"booking\",\"dinner\",\"skype\",\"lots\",\"2018\",\"teen\",\"finish\",\"dslr\",\"mens\",\"proud\",\"entrepreneurs\",\"ukraine\",\"coins\",\"scenario\",\"transmission\",\"ignore\",\"pride\",\"contribute\",\"grand\",\"curve\",\"false\",\"operations\",\"breakup\",\"eventually\",\"acquire\",\"commission\",\"lies\",\"spoken\",\"pills\",\"masturbating\",\"jackson\",\"airbnb\",\"delivered\",\"disk\",\"radiation\",\"plays\",\"marvel\",\"particle\",\"breakfast\",\"smartphones\",\"relevant\",\"quota\",\"refund\",\"inches\",\"telugu\",\"angel\",\"eastern\",\"inflation\",\"predict\",\"annoying\",\"obc\",\"tough\",\"conduct\",\"originate\",\"notification\",\"backup\",\"harder\",\"richest\",\"pronounce\",\"sri\",\"wheel\",\"wasnt\",\"oldest\",\"sheet\",\"soda\",\"20s\",\"wipro\",\"awesome\",\"facial\",\"z\",\"noida\",\"confident\",\"fbi\",\"corrupt\",\"succeed\",\"reddit\",\"associate\",\"input\",\"guns\",\"rahul\",\"baking\",\"description\",\"musical\",\"apache\",\"nowadays\",\"fluid\",\"capacity\",\"loose\",\"freshman\",\"cfa\",\"optional\",\"theres\",\"ps4\",\"trends\",\"jon\",\"richard\",\"legit\",\"nodejs\",\"document\",\"sexually\",\"particles\",\"singer\",\"printing\",\"captain\",\"valuable\",\"several\",\"aiims\",\"boot\",\"sit\",\"zone\",\"billionaire\",\"floor\",\"gravitational\",\"export\",\"motivation\",\"golden\",\"transgender\",\"healthcare\",\"heaven\",\"81\",\"leaves\",\"listening\",\"overall\",\"press\",\"dishes\",\"railways\",\"warming\",\"enfield\",\"extent\",\"acceleration\",\"afford\",\"bonds\",\"border\",\"registration\",\"cast\",\"hope\",\"shipping\",\"karnataka\",\"specifically\",\"opportunity\",\"arabia\",\"pump\",\"pg\",\"carrier\",\"plot\",\"kingdom\",\"contract\",\"painful\",\"kindle\",\"boring\",\"essential\",\"disney\",\"charger\",\"seconds\",\"measured\",\"honda\",\"ba\",\"makeup\",\"\\u2013\",\"mini\",\"annual\",\"traits\",\"retrieve\",\"willing\",\"swift\",\"consume\",\"hindus\",\"psychopath\",\"tells\",\"solving\",\"conditions\",\"artists\",\"spotify\",\"bomb\",\"integrate\",\"stuck\",\"nikon\",\"gadgets\",\"womens\",\"judge\",\"republicans\",\"vacuum\",\"felt\",\"putin\",\"tennis\",\"concentration\",\"fans\",\"constantly\",\"matrix\",\"secrets\",\"spot\",\"soft\",\"stored\",\"neural\",\"submit\",\"scores\",\"ola\",\"wire\",\"gdp\",\"jaipur\",\"typically\",\"airline\",\"roles\",\"cheaper\",\"machines\",\"shift\",\"impress\",\"basics\",\"32\",\"conservative\",\"birds\",\"tend\",\"duty\",\"setup\",\"rude\",\"pink\",\"church\",\"mine\",\"jack\",\"sending\",\"cooking\",\"versus\",\"expert\",\"olympic\",\"biotechnology\",\"gurgaon\",\"worked\",\"codes\",\"successfully\",\"hardware\",\"faith\",\"pr\",\"television\",\"compound\",\"vit\",\"universal\",\"thank\",\"grammatically\",\"chicago\",\"ivy\",\"worried\",\"enterprise\",\"sodium\",\"railway\",\"remedies\",\"racism\",\"tracking\",\"psychological\",\"apartment\",\"magazine\",\"martial\",\"beauty\",\"waiting\",\"attacks\",\"horror\",\"fantasy\",\"ma\",\"select\",\"increasing\",\"metro\",\"opt\",\"map\",\"watched\",\"gear\",\"icloud\",\"james\",\"comedy\",\"lollipop\",\"ireland\",\"upcoming\",\"italian\",\"oven\",\"emotionally\",\"decided\",\"lakh\",\"grey\",\"kept\",\"produced\",\"mouth\",\"manual\",\"dhoni\",\"fill\",\"throat\",\"shoot\",\"liked\",\"innovative\",\"immediately\",\"lonely\",\"fighting\",\"max\",\"accidentally\",\"schedule\",\"orgasm\",\"rape\",\"ride\",\"muscles\",\"graduates\",\"taller\",\"boost\",\"lakhs\",\"microwave\",\"electrons\",\"upon\",\"attract\",\"ap\",\"abuse\",\"earths\",\"forever\",\"underrated\",\"facing\",\"terrorist\",\"alien\",\"celebrity\",\"frequently\",\"vpn\",\"wales\",\"powder\",\"superman\",\"mixed\",\"caught\",\"goods\",\"beginning\",\"starts\",\"atomic\",\"associated\",\"triangle\",\"parties\",\"banning\",\"k\",\"honey\",\"monitor\",\"graph\",\"leaders\",\"embedded\",\"juice\",\"split\",\"lady\",\"sequence\",\"911\",\"harassment\",\"nepal\",\"pop\",\"habit\",\"setting\",\"edge\",\"ww2\",\"gps\",\"federal\",\"charged\",\"lying\",\"empty\",\"whenever\",\"airplane\",\"jet\",\"destroy\",\"ies\",\"wouldnt\",\"quick\",\"decrease\",\"robert\",\"pradesh\",\"professors\",\"massage\",\"held\",\"spending\",\"markets\",\"objects\",\"chart\",\"mechanics\",\"silver\",\"usage\",\"basketball\",\"gen\",\"periods\",\"identity\",\"individuals\",\"css\",\"soul\",\"ipod\",\"chest\",\"understanding\",\"coast\",\"classic\",\"spain\",\"babies\",\"sd\",\"hostel\",\"shirt\",\"further\",\"logical\",\"franchise\",\"obtain\",\"foreigners\",\"fully\",\"region\",\"designed\",\"cheated\",\"beneficial\",\"shes\",\"accent\",\"couldnt\",\"queen\",\"sick\",\"blowing\",\"properly\",\"stronger\",\"returns\",\"condition\",\"musk\",\"ugly\",\"teams\",\"filter\",\"snow\",\"glasses\",\"employer\",\"solid\",\"followed\",\"embarrassing\",\"auto\",\"meeting\",\"belong\",\"strike\",\"internships\",\"bachelors\",\"administration\",\"temple\",\"wealth\",\"retail\",\"speakers\",\"electoral\",\"headphones\",\"streaming\",\"mirror\",\"diesel\",\"republic\",\"antivirus\",\"customers\",\"atm\",\"vagina\",\"cigarettes\",\"aptitude\",\"lewis\",\"saudi\",\"puppy\",\"recovery\",\"jimmy\",\"obsessed\",\"domestic\",\"pen\",\"batch\",\"de\",\"drawing\",\"ai\",\"medium\",\"simply\",\"photoshop\",\"sms\",\"turning\",\"nadu\",\"appropriate\",\"adobe\",\"substitute\",\"fruit\",\"recipes\",\"fighter\",\"saving\",\"greater\",\"cheat\",\"routine\",\"push\",\"sherlock\",\"arguments\",\"sony\",\"import\",\"soldiers\",\"charges\",\"emotions\",\"ibm\",\"un\",\"innovations\",\"itunes\",\"consultant\",\"iims\",\"relations\",\"psychopaths\",\"existing\",\"angle\",\"clash\",\"bus\",\"australian\",\"crazy\",\"pull\",\"theories\",\"savings\",\"suit\",\"contrast\",\"calculus\",\"pi\",\"credits\",\"bluetooth\",\"himself\",\"traveling\",\"criminal\",\"xiaomi\",\"zealand\",\"seats\",\"electron\",\"script\",\"11th\",\"lessons\",\"programmers\",\"december\",\"flag\",\"singh\",\"arabic\",\"sale\",\"nfl\",\"grammar\",\"killing\",\"virgin\",\"differently\",\"poem\",\"provided\",\"automation\",\"shy\",\"translation\",\"mathematical\",\"45\",\"celebrities\",\"spring\",\"downloading\",\"dr\",\"organization\",\"majority\",\"clients\",\"hd\",\"motivate\",\"thats\",\"thesis\",\"door\",\"weakest\",\"saw\",\"canon\",\"younger\",\"costs\",\"river\",\"rings\",\"factory\",\"decent\",\"clintons\",\"holes\",\"desert\",\"divorce\",\"sold\",\"cheese\",\"atom\",\"taught\",\"minute\",\"ocean\",\"crisis\",\"represent\",\"surgical\",\"parent\",\"brexit\",\"possibility\",\"longest\",\"edit\",\"scholarship\",\"motivated\",\"chocolate\",\"faced\",\"90\",\"parallel\",\"foot\",\"examination\",\"friendly\",\"kinds\",\"wins\",\"islamic\",\"degrees\",\"registered\",\"distribution\",\"junior\",\"gave\",\"sing\",\"articles\",\"hadoop\",\"saved\",\"hero\",\"ear\",\"asks\",\"improved\",\"teenager\",\"forms\",\"wash\",\"provides\",\"washington\",\"strikes\",\"binary\",\"syria\",\"indonesia\",\"powers\",\"highly\",\"heshe\",\"happiness\",\"director\",\"citizenship\",\"knew\",\"humanity\",\"translate\",\"nba\",\"permanently\",\"soccer\",\"todays\",\"challenges\",\"barack\",\"title\",\"latin\",\"fitness\",\"genuine\",\"investor\",\"dislike\",\"scenes\",\"hacker\",\"bangladesh\",\"ebay\",\"earning\",\"dell\",\"paytm\",\"spouse\",\"bored\",\"roman\",\"official\",\"dragon\",\"park\",\"except\",\"habits\",\"quote\",\"astrology\",\"congress\",\"automatically\",\"island\",\"religions\",\"christianity\",\"supreme\",\"owner\",\"hell\",\"wikipedia\",\"cancel\",\"industries\",\"actress\",\"client\",\"visual\",\"michael\",\"remain\",\"ability\",\"concrete\",\"conflict\",\"string\",\"linear\",\"supposed\",\"engines\",\"2012\",\"\\u2018\",\"lesser\",\"traditional\",\"episodes\",\"goals\",\"tata\",\"opening\",\"target\",\"weak\",\"anonymous\",\"bjp\",\"resource\",\"concepts\",\"ruby\",\"friendship\",\"nyc\",\"pretty\",\"implement\",\"painting\",\"ill\",\"agency\",\"reverse\",\"confused\",\"italy\",\"response\",\"yellow\",\"dance\",\"contain\",\"vice\",\"editing\",\"acting\",\"weirdest\",\"feels\",\"govt\",\"accounting\",\"rise\",\"wise\",\"leaving\",\"lens\",\"artist\",\"arvind\",\"pattern\",\"scared\",\"attention\",\"airlines\",\"sky\",\"malaysia\",\"port\",\"attempt\",\"element\",\"classical\",\"shown\",\"safety\",\"including\",\"tablet\",\"la\",\"terrorism\",\"commit\",\"maps\",\"african\",\"viewed\",\"calling\",\"6s\",\"agent\",\"output\",\"justice\",\"don\",\"addiction\",\"lock\",\"vegetarian\",\"britain\",\"percent\",\"meditation\",\"ibps\",\"monthly\",\"writers\",\"forward\",\"stuff\",\"mr\",\"ready\",\"forgot\",\"flying\",\"recommended\",\"fields\",\"blind\",\"l\",\"hinduism\",\"desktop\",\"host\",\"tattoo\",\"maintain\",\"boards\",\"helpful\",\"semester\",\"load\",\"tier\",\"agree\",\"factor\",\"elon\",\"freshers\",\"sql\",\"cases\",\"exact\",\"confidence\",\"behavior\",\"hacked\",\"quotes\",\"hydrogen\",\"pakistani\",\"masturbate\",\"divided\",\"skill\",\"fine\",\"falling\",\"chess\",\"charging\",\"pages\",\"vector\",\"supporters\",\"waste\",\"sanders\",\"affordable\",\"unlock\",\"techniques\",\"wine\",\"keyboard\",\"cm\",\"wireless\",\"lawyer\",\"egg\",\"cope\",\"mindblowing\",\"recipe\",\"corruption\",\"scored\",\"secure\",\"teaching\",\"opposite\",\"educational\",\"bernie\",\"y\",\"library\",\"models\",\"kid\",\"stack\",\"separate\",\"19\",\"extremely\",\"properties\",\"cable\",\"magic\",\"removed\",\"computing\",\"hospital\",\"beer\",\"christians\",\"twice\",\"kg\",\"consulting\",\"whose\",\"serious\",\"petrol\",\"travelling\",\"revolution\",\"custom\",\"structures\",\"guide\",\"celebrate\",\"lenovo\",\"turned\",\"ielts\",\"grades\",\"fuel\",\"relative\",\"oracle\",\"academy\",\"lack\",\"passed\",\"relation\",\"values\",\"movement\",\"strategies\",\"eu\",\"emotional\",\"legs\",\"pokemon\",\"3g\",\"iran\",\"mostly\",\"jewish\",\"offered\",\"log\",\"hasnt\",\"explanation\",\"signal\",\"stores\",\"syllabus\",\"bits\",\"yoga\",\"weapons\",\"gods\",\"10000\",\"delivery\",\"gb\",\"sum\",\"letters\",\"venture\",\"selection\",\"winning\",\"35\",\"comment\",\"consequences\",\"sport\",\"items\",\"seems\",\"ring\",\"jealous\",\"laptops\",\"criteria\",\"fresh\",\"reference\",\"bitcoin\",\"infinite\",\"perform\",\"brazil\",\"density\",\"plans\",\"hosting\",\"clothing\",\"hong\",\"dying\",\"heavy\",\"steve\",\"gone\",\"damage\",\"missing\",\"ethical\",\"republican\",\"contacts\",\"activity\",\"electronic\",\"qualities\",\"piano\",\"hisher\",\"repair\",\"posts\",\"disease\",\"winter\",\"ten\",\"publish\",\"paint\",\"physically\",\"executive\",\"deposit\",\"elements\",\"xbox\",\"ceo\",\"visitors\",\"discovered\",\"tickets\",\"literature\",\"primary\",\"naturally\",\"senior\",\"u\",\"hardest\",\"debate\",\"frequency\",\"vietnam\",\"cry\",\"assistant\",\"gifts\",\"practical\",\"funny\",\"valid\",\"liberal\",\"refer\",\"beat\",\"shape\",\"institutes\",\"msc\",\"internal\",\"located\",\"significant\",\"scientists\",\"g\",\"ship\",\"proper\",\"independence\",\"added\",\"hes\",\"catch\",\"urine\",\"effectively\",\"named\",\"responsible\",\"strength\",\"whos\",\"immigration\",\"vehicle\",\"tesla\",\"kong\",\"meth\",\"england\",\"huge\",\"pizza\",\"rejected\",\"george\",\"fan\",\"salt\",\"browser\",\"sat\",\"loved\",\"fees\",\"walking\",\"symbol\",\"equity\",\"ubuntu\",\"alternatives\",\"theme\",\"virus\",\"manufacturing\",\"cutoff\",\"pure\",\"22\",\"introvert\",\"unable\",\"greek\",\"rice\",\"gst\",\"happening\",\"centre\",\"kiss\",\"prison\",\"bigger\",\"font\",\"construction\",\"exercises\",\"keeps\",\"gmat\",\"offers\",\"cross\",\"nasa\",\"unit\",\"advertising\",\"cup\",\"fixed\",\"limited\",\"billion\",\"subjects\",\"arts\",\"worlds\",\"stupid\",\"breaking\",\"funding\",\"tank\",\"generate\",\"efficient\",\"exists\",\"atheist\",\"entrepreneur\",\"direction\",\"broken\",\"offline\",\"firms\",\"station\",\"magnetic\",\"include\",\"aliens\",\"tinder\",\"logo\",\"photography\",\"worse\",\"besides\",\"path\",\"somebody\",\"interviews\",\"persons\",\"figure\",\"placed\",\"nation\",\"knows\",\"unmarried\",\"hp\",\"profitable\",\"tricks\",\"boss\",\"reply\",\"scam\",\"circle\",\"processor\",\"debt\",\"growing\",\"royal\",\"fiction\",\"department\",\"mistake\",\"weird\",\"graphics\",\"external\",\"article\",\"volume\",\"scratch\",\"chain\",\"protect\",\"storage\",\"texas\",\"liquid\",\"circuit\",\"graphic\",\"tired\",\"weather\",\"oxygen\",\"velocity\",\"dad\",\"band\",\"teachers\",\"drugs\",\"complex\",\"studio\",\"accenture\",\"leader\",\"levels\",\"goal\",\"logic\",\"acne\",\"plastic\",\"motion\",\"button\",\"peoples\",\"vision\",\"gap\",\"dollar\",\"computers\",\"stomach\",\"sources\",\"constant\",\"draw\",\"dress\",\"calculated\",\"sort\",\"3rd\",\"club\",\"channels\",\"creating\",\"candidates\",\"kejriwal\",\"broke\",\"sentences\",\"format\",\"emails\",\"raw\",\"stanford\",\"completed\",\"documents\",\"pan\",\"showing\",\"enter\",\"unknown\",\"bought\",\"router\",\"claim\",\"six\",\"technologies\",\"\\u20b9\",\"flipkart\",\"infosys\",\"mutual\",\"angry\",\"iits\",\"affected\",\"prices\",\"shares\",\"naruto\",\"processing\",\"finding\",\"democratic\",\"evolution\",\"harmful\",\"dual\",\"virtual\",\"member\",\"wave\",\"actual\",\"extra\",\"radio\",\"citizens\",\"e\",\"hr\",\"previous\",\"stopped\",\"walk\",\"redmi\",\"speaker\",\"torrent\",\"smoke\",\"mistakes\",\"flash\",\"iron\",\"entire\",\"individual\",\"express\",\"flow\",\"mode\",\"aircraft\",\"section\",\"planets\",\"10th\",\"respond\",\"easier\",\"evil\",\"percentile\",\"seeing\",\"calories\",\"upgrade\",\"professor\",\"v\",\"launch\",\"staff\",\"till\",\"silicon\",\"entry\",\"constitution\",\"century\",\"notice\",\"ie\",\"atheists\",\"tests\",\"21\",\"became\",\"kerala\",\"truly\",\"count\",\"essay\",\"papers\",\"accurate\",\"colors\",\"respect\",\"ideal\",\"rock\",\"reliance\",\"peace\",\"masturbation\",\"audio\",\"random\",\"independent\",\"colour\",\"hotels\",\"presidency\",\"generation\",\"paypal\",\"shot\",\"central\",\"released\",\"occur\",\"display\",\"industrial\",\"particular\",\"risk\",\"eg\",\"belly\",\"pet\",\"similarities\",\"organic\",\"marijuana\",\"networks\",\"aspects\",\"flat\",\"d\",\"comments\",\"nose\",\"identify\",\"rbi\",\"improvement\",\"directly\",\"framework\",\"suggestions\",\"designing\",\"brands\",\"religious\",\"influence\",\"novels\",\"statistics\",\"historical\",\"ground\",\"commerce\",\"pregnancy\",\"romantic\",\"failure\",\"wearing\",\"john\",\"apart\",\"bay\",\"symptoms\",\"200\",\"couple\",\"60\",\"canadian\",\"lie\",\"print\",\"carry\",\"gender\",\"experienced\",\"pounds\",\"reservation\",\"either\",\"stage\",\"artificial\",\"fit\",\"blogs\",\"developing\",\"environment\",\"learned\",\"copy\",\"phase\",\"bond\",\"democracy\",\"cgpa\",\"operating\",\"surface\",\"officers\",\"h1b\",\"ip\",\"workout\",\"fee\",\"elected\",\"hands\",\"largest\",\"sad\",\"shouldnt\",\"seat\",\"sister\",\"developers\",\"despite\",\"scene\",\"po\",\"diploma\",\"request\",\"empire\",\"ratio\",\"considering\",\"academic\",\"tree\",\"register\",\"advantage\",\"eligible\",\"nit\",\"shop\",\"intel\",\"funniest\",\"alternative\",\"fail\",\"ads\",\"nature\",\"miss\",\"involved\",\"overrated\",\"attend\",\"freedom\",\"dna\",\"beginners\",\"raise\",\"dry\",\"failed\",\"legally\",\"batman\",\"upload\",\"carbon\",\"regret\",\"applied\",\"points\",\"investors\",\"pick\",\"equivalent\",\"connected\",\"christmas\",\"lyrics\",\"nations\",\"caused\",\"bsc\",\"1st\",\"action\",\"activities\",\"biology\",\"hide\",\"asia\",\"takes\",\"require\",\"alive\",\"mom\",\"cycle\",\"generally\",\"campaign\",\"fair\",\"wake\",\"bit\",\"rules\",\"olympics\",\"racist\",\"areas\",\"eggs\",\"feature\",\"sap\",\"taxes\",\"ad\",\"shall\",\"theyre\",\"species\",\"pilot\",\"firm\",\"fish\",\"define\",\"doctors\",\"piece\",\"itself\",\"bang\",\"solutions\",\"iim\",\"2013\",\"wanted\",\"length\",\"burn\",\"waves\",\"bar\",\"gives\",\"forces\",\"christian\",\"anybody\",\"relationships\",\"nice\",\"wedding\",\"various\",\"brother\",\"films\",\"cream\",\"suddenly\",\"philippines\",\"fashion\",\"truth\",\"gpa\",\"cgl\",\"tall\",\"goa\",\"hacking\",\"statement\",\"reset\",\"materials\",\"played\",\"match\",\"usb\",\"novel\",\"unusual\",\"knowing\",\"selected\",\"valley\",\"chrome\",\"couples\",\"becomes\",\"died\",\"cheating\",\"community\",\"groups\",\"category\",\"pursuing\",\"writer\",\"mexico\",\"anymore\",\"sugar\",\"climate\",\"brown\",\"players\",\"ii\",\"reviews\",\"took\",\"led\",\"connection\",\"begin\",\"html\",\"changing\",\"received\",\"plants\",\"debit\",\"record\",\"revenue\",\"mars\",\"strongest\",\"members\",\"formed\",\"union\",\"thought\",\"existence\",\"kashmir\",\"gandhi\",\"pdf\",\"banned\",\"0\",\"plane\",\"treated\",\"electricity\",\"scale\",\"basis\",\"moral\",\"images\",\"methods\",\"certification\",\"voltage\",\"style\",\"base\",\"excel\",\"amazing\",\"regarding\",\"result\",\"rates\",\"hold\",\"indias\",\"airport\",\"businesses\",\"feet\",\"built\",\"linkedin\",\"signs\",\"above\",\"networking\",\"r\",\"shopping\",\"looks\",\"went\",\"placements\",\"bed\",\"experiences\",\"daughter\",\"tourist\",\"employee\",\"caste\",\"wait\",\"direct\",\"especially\",\"feed\",\"continue\",\"expected\",\"algorithm\",\"depressed\",\"shoes\",\"soon\",\"supply\",\"stress\",\"24\",\"inr\",\"foods\",\"rent\",\"architecture\",\"ban\",\"entrance\",\"actors\",\"messenger\",\"unique\",\"kolkata\",\"funds\",\"rupee\",\"promote\",\"rupees\",\"jews\",\"23\",\"cook\",\"cultural\",\"accepted\",\"hear\",\"glass\",\"road\",\"joining\",\"measure\",\"havent\",\"metal\",\"resume\",\"afraid\",\"turkey\",\"meat\",\"goes\",\"installation\",\"netflix\",\"benefit\",\"demand\",\"release\",\"produce\",\"report\",\"cover\",\"changes\",\"double\",\"2nd\",\"reaction\",\"killed\",\"steel\",\"requirements\",\"france\",\"exchange\",\"ac\",\"quantum\",\"reliable\",\"box\",\"results\",\"lives\",\"treatment\",\"4g\",\"ece\",\"probability\",\"sleeping\",\"philosophy\",\"handle\",\"forget\",\"driver\",\"demonetization\",\"algorithms\",\"trade\",\"rule\",\"muscle\",\"calls\",\"tried\",\"mental\",\"sure\",\"quit\",\"navy\",\"achieve\",\"francisco\",\"location\",\"until\",\"sense\",\"anxiety\",\"wordpress\",\"focus\",\"fact\",\"production\",\"conversation\",\"motor\",\"five\",\"attracted\",\"hit\",\"analyst\",\"moto\",\"isis\",\"chicken\",\"sector\",\"permanent\",\"along\",\"king\",\"slow\",\"candidate\",\"minutes\",\"purchase\",\"gun\",\"selling\",\"usually\",\"\\u2026\",\"fly\",\"round\",\"panel\",\"error\",\"stocks\",\"api\",\"remember\",\"africa\",\"paying\",\"hitler\",\"3d\",\"regular\",\"losing\",\"mail\",\"yahoo\",\"cheapest\",\"older\",\"concept\",\"characters\",\"definition\",\"lines\",\"pm\",\"cloud\",\"cats\",\"russian\",\"ipad\",\"korean\",\"proof\",\"battle\",\"stars\",\"stream\",\"recent\",\"typical\",\"performance\",\"harvard\",\"restaurant\",\"origin\",\"listen\",\"smell\",\"decide\",\"serve\",\"undergraduate\",\"profit\",\"situation\",\"surgery\",\"asking\",\"plant\",\"link\",\"square\",\"completing\",\"four\",\"trust\",\"payment\",\"gym\",\"andor\",\"worklife\",\"guitar\",\"elections\",\"half\",\"investing\",\"scientist\",\"street\",\"needs\",\"native\",\"thoughts\",\"reality\",\"40\",\"medicine\",\"race\",\"choice\",\"longer\",\"came\",\"applying\",\"hiring\",\"west\",\"weed\",\"hacks\",\"step\",\"sea\",\"crime\",\"devices\",\"event\",\"citizen\",\"14\",\"17\",\"ticket\",\"fund\",\"equation\",\"suicide\",\"whom\",\"met\",\"almost\",\"designer\",\"local\",\"departments\",\"khan\",\"customer\",\"banking\",\"javascript\",\"trip\",\"issue\",\"react\",\"cannot\",\"dubai\",\"wall\",\"touch\",\"parts\",\"loves\",\"clothes\",\"straight\",\"sexual\",\"active\",\"inpatient\",\"dreams\",\"protein\",\"table\",\"exercise\",\"lord\",\"mtech\",\"creative\",\"ball\",\"speaking\",\"son\",\"receive\",\"dollars\",\"domain\",\"prospects\",\"hour\",\"graduation\",\"commercial\",\"themselves\",\"factors\",\"jesus\",\"programmer\",\"recommend\",\"replace\",\"chat\",\"placement\",\"episode\",\"fastest\",\"restaurants\",\"object\",\"drivers\",\"gaming\",\"mark\",\"taste\",\"seem\",\"perfect\",\"potential\",\"trumps\",\"appear\",\"rights\",\"equal\",\"rest\",\"package\",\"meant\",\"drop\",\"cool\",\"material\",\"potter\",\"events\",\"convince\",\"completely\",\"n\",\"zero\",\"significance\",\"lower\",\"feelings\",\"followers\",\"evidence\",\"certain\",\"later\",\"original\",\"bible\",\"disorder\",\"testing\",\"via\",\"stand\",\"actor\",\"characteristics\",\"cities\",\"reach\",\"ago\",\"mbbs\",\"speech\",\"electric\",\"approach\",\"scientific\",\"root\",\"analytics\",\"below\",\"grade\",\"mains\",\"topic\",\"fun\",\"ancient\",\"adult\",\"standard\",\"ice\",\"everyday\",\"population\",\"invented\",\"european\",\"intelligent\",\"11\",\"subject\",\"rehab\",\"background\",\"giving\",\"platform\",\"flight\",\"thrones\",\"maths\",\"dc\",\"teeth\",\"mit\",\"weeks\",\"east\",\"means\",\"programs\",\"beginner\",\"heat\",\"third\",\"tea\",\"range\",\"london\",\"maximum\",\"enjoy\",\"2000\",\"cells\",\"quickly\",\"here\",\"expensive\",\"phrase\",\"partner\",\"league\",\"anime\",\"latest\",\"specific\",\"whether\",\"functions\",\"os\",\"fire\",\"saying\",\"secret\",\"13\",\"planet\",\"hole\",\"super\",\"teacher\",\"strong\",\"accounts\",\"minister\",\"database\",\"economic\",\"channel\",\"estate\",\"ram\",\"switch\",\"asian\",\"smoking\",\"branch\",\"israel\",\"18\",\"features\",\"success\",\"lead\",\"total\",\"key\",\"master\",\"ok\",\"favourite\",\"psychology\",\"pok\\u00e9mon\",\"nothing\",\"clean\",\"25\",\"politics\",\"drinking\",\"sometimes\",\"recently\",\"korea\",\"sent\",\"poor\",\"hindu\",\"hollywood\",\"survive\",\"cure\",\"property\",\"return\",\"narendra\",\"budget\",\"sports\",\"limit\",\"arent\",\"boys\",\"driving\",\"whole\",\"cash\",\"smartphone\",\"php\",\"developed\",\"ssc\",\"hot\",\"attractive\",\"tool\",\"physical\",\"ecommerce\",\"sbi\",\"morning\",\"animal\",\"multiple\",\"loan\",\"acid\",\"fresher\",\"spanish\",\"moving\",\"decision\",\"county\",\"determined\",\"becoming\",\"seo\",\"summer\",\"manage\",\"server\",\"competitive\",\"milk\",\"importance\",\"banks\",\"cheap\",\"powerful\",\"issues\",\"penis\",\"according\",\"analysis\",\"bike\",\"position\",\"western\",\"advanced\",\"campus\",\"highest\",\"front\",\"court\",\"status\",\"gravity\",\"positions\",\"comes\",\"steps\",\"complete\",\"electronics\",\"won\",\"hurt\",\"certificate\",\"temperature\",\"player\",\"someones\",\"communication\",\"million\",\"talking\",\"preparing\",\"finance\",\"cancer\",\"9\",\"harry\",\"accept\",\"2014\",\"plus\",\"born\",\"tcs\",\"license\",\"bring\",\"teach\",\"practice\",\"trading\",\"m\",\"might\",\"opportunities\",\"global\",\"wish\",\"outside\",\"attack\",\"procedure\",\"needed\",\"update\",\"coffee\",\"provider\",\"rather\",\"16\",\"allow\",\"tamil\",\"mix\",\"connect\",\"room\",\"watching\",\"deep\",\"york\",\"image\",\"birth\",\"sign\",\"birthday\",\"playing\",\"wars\",\"grads\",\"hire\",\"phones\",\"cbse\",\"details\",\"clear\",\"cricket\",\"dangerous\",\"track\",\"corporate\",\"voice\",\"upsc\",\"content\",\"okay\",\"san\",\"heart\",\"far\",\"heard\",\"prove\",\"positive\",\"moment\",\"sales\",\"opinion\",\"engineers\",\"block\",\"diet\",\"coding\",\"core\",\"baby\",\"father\",\"little\",\"large\",\"blocked\",\"distance\",\"land\",\"simple\",\"husband\",\"told\",\"traffic\",\"prevent\",\"pictures\",\"planning\",\"fear\",\"classes\",\"towards\",\"technical\",\"building\",\"trying\",\"photo\",\"early\",\"uses\",\"sydney\",\"startups\",\"act\",\"id\",\"describe\",\"12th\",\"may\",\"formula\",\"gets\",\"present\",\"wont\",\"cut\",\"treat\",\"mathematics\",\"visiting\",\"eye\",\"policy\",\"close\",\"cse\",\"suitable\",\"version\",\"tools\",\"head\",\"minimum\",\"chennai\",\"easily\",\"method\",\"intelligence\",\"gre\",\"mother\",\"doctor\",\"macbook\",\"deleted\",\"gas\",\"suggest\",\"cards\",\"files\",\"loss\",\"art\",\"easiest\",\"late\",\"among\",\"together\",\"depression\",\"higher\",\"alone\",\"economics\",\"dead\",\"growth\",\"insurance\",\"gold\",\"necessary\",\"neet\",\"blog\",\"example\",\"memory\",\"crack\",\"consider\",\"works\",\"currency\",\"recruit\",\"pursue\",\"strategy\",\"young\",\"cs\",\"projects\",\"50\",\"manager\",\"abroad\",\"schools\",\"illegal\",\"inside\",\"stories\",\"hand\",\"t\",\"greatest\",\"personality\",\"galaxy\",\"device\",\"views\",\"user\",\"chemistry\",\"cars\",\"iq\",\"prefer\",\"picture\",\"nuclear\",\"middle\",\"applications\",\"gmail\",\"laws\",\"final\",\"capital\",\"kids\",\"society\",\"fake\",\"bill\",\"save\",\"though\",\"likely\",\"determine\",\"shows\",\"character\",\"snapchat\",\"youre\",\"eyes\",\"islam\",\"marry\",\"brand\",\"yet\",\"impact\",\"speak\",\"within\",\"rich\",\"resources\",\"net\",\"non\",\"pressure\",\"changed\",\"allowed\",\"obama\",\"cold\",\"running\",\"feeling\",\"jio\",\"football\",\"gift\",\"written\",\"buying\",\"mac\",\"spend\",\"prime\",\"blue\",\"train\",\"studies\",\"negative\",\"thinking\",\"solution\",\"sun\",\"least\",\"following\",\"install\",\"else\",\"muslims\",\"camera\",\"vote\",\"linux\",\"expect\",\"german\",\"recover\",\"starting\",\"crush\",\"coming\",\"muslim\",\"modern\",\"battery\",\"provide\",\"access\",\"presidential\",\"interest\",\"dating\",\"pro\",\"likes\",\"french\",\"singapore\",\"useful\",\"already\",\"professional\",\"percentage\",\"drink\",\"created\",\"board\",\"passport\",\"structure\",\"case\",\"height\",\"microsoft\",\"break\",\"screen\",\"names\",\"chance\",\"special\",\"30\",\"skin\",\"natural\",\"color\",\"interested\",\"amount\",\"pain\",\"healthy\",\"hack\",\"messages\",\"ias\",\"gay\",\"disadvantages\",\"pass\",\"moon\",\"systems\",\"hindi\",\"financial\",\"taken\",\"yes\",\"sim\",\"pregnant\",\"faster\",\"animals\",\"internship\",\"let\",\"photos\",\"balance\",\"sound\",\"due\",\"knowledge\",\"charge\",\"message\",\"officer\",\"solar\",\"military\",\"meet\",\"option\",\"reading\",\"across\",\"overcome\",\"everyone\",\"everything\",\"wife\",\"reduce\",\"chances\",\"samsung\",\"income\",\"bollywood\",\"season\",\"europe\",\"boy\",\"currently\",\"ex\",\"smart\",\"california\",\"engine\",\"paid\",\"army\",\"contact\",\"address\",\"wants\",\"ones\",\"gain\",\"reasons\",\"avoid\",\"please\",\"note\",\"known\",\"pune\",\"film\",\"national\",\"once\",\"users\",\"porn\",\"scope\",\"twitter\",\"drug\",\"rank\",\"japan\",\"fight\",\"transfer\",\"political\",\"green\",\"news\",\"self\",\"uber\",\"basic\",\"british\",\"religion\",\"hyderabad\",\"topics\",\"explain\",\"phd\",\"eating\",\"letter\",\"calculate\",\"ive\",\"tech\",\"personal\",\"japanese\",\"check\",\"hotel\",\"wifi\",\"beautiful\",\"difficult\",\"paper\",\"languages\",\"investment\",\"develop\",\"north\",\"electrical\",\"ios\",\"alcohol\",\"exactly\",\"profile\",\"past\",\"exams\",\"ca\",\"convert\",\"vs\",\"understand\",\"care\",\"dream\",\"try\",\"americans\",\"lost\",\"chemical\",\"source\",\"b\",\"admission\",\"easy\",\"must\",\"three\",\"effect\",\"view\",\"options\",\"page\",\"away\",\"red\",\"said\",\"line\",\"short\",\"happy\",\"security\",\"dark\",\"preparation\",\"second\",\"fat\",\"matter\",\"few\",\"since\",\"role\",\"pc\",\"office\",\"team\",\"delete\",\"cell\",\"election\",\"economy\",\"term\",\"dogs\",\"text\",\"female\",\"effective\",\"brain\",\"share\",\"digital\",\"btech\",\"russia\",\"\\u201c\",\"party\",\"numbers\",\"20\",\"store\",\"male\",\"mass\",\"turn\",\"left\",\"married\",\"rs\",\"taking\",\"those\",\"password\",\"follow\",\"advice\",\"isnt\",\"15\",\"types\",\"network\",\"\\u201d\",\"week\",\"purpose\",\"related\",\"fix\",\"started\",\"courses\",\"masters\",\"grow\",\"8\",\"fast\",\"leave\",\"100\",\"often\",\"found\",\"pros\",\"marriage\",\"cons\",\"quality\",\"words\",\"kill\",\"price\",\"near\",\"modi\",\"enough\",\"search\",\"python\",\"x\",\"blood\",\"math\",\"yourself\",\"drive\",\"size\",\"star\",\"graduate\",\"majors\",\"500\",\"model\",\"studying\",\"general\",\"oil\",\"colleges\",\"area\",\"developer\",\"germany\",\"industry\",\"full\",\"training\",\"says\",\"period\",\"videos\",\"universe\",\"fall\",\"daily\",\"information\",\"foreign\",\"credit\",\"force\",\"12\",\"youve\",\"south\",\"offer\",\"set\",\"add\",\"send\",\"australia\",\"center\",\"1000\",\"famous\",\"2015\",\"lot\",\"function\",\"tax\",\"correct\",\"solve\",\"advantages\",\"coaching\",\"institute\",\"effects\",\"guys\",\"again\",\"group\",\"hours\",\"side\",\"sentence\",\"low\",\"similar\",\"plan\",\"children\",\"answers\",\"talk\",\"marks\",\"ideas\",\"theory\",\"death\",\"compared\",\"night\",\"remove\",\"dog\",\"anything\",\"single\",\"successful\",\"gate\",\"indians\",\"put\",\"problems\",\"move\",\"writing\",\"point\",\"invest\",\"asked\",\"biggest\",\"others\",\"stock\",\"notes\",\"story\",\"machine\",\"private\",\"sell\",\"seen\",\"required\",\"field\",\"file\",\"rate\",\"humans\",\"application\",\"face\",\"sites\",\"mind\",\"facts\",\"mumbai\",\"post\",\"stay\",\"child\",\"terms\",\"products\",\"control\",\"legal\",\"police\",\"didnt\",\"level\",\"worst\",\"hate\",\"visit\",\"called\",\"amazon\",\"causes\",\"health\",\"form\",\"physics\",\"iit\",\"skills\",\"times\",\"medical\",\"based\",\"list\",\"websites\",\"die\",\"part\",\"less\",\"benefits\",\"apple\",\"instead\",\"these\",\"boyfriend\",\"sleep\",\"canada\",\"reason\",\"education\",\"cause\",\"jee\",\"value\",\"today\",\"media\",\"public\",\"happened\",\"product\",\"research\",\"main\",\"behind\",\"international\",\"project\",\"uk\",\"differ\",\"7\",\"places\",\"wear\",\"order\",\"date\",\"etc\",\"small\",\"songs\",\"apps\",\"email\",\"given\",\"wrong\",\"site\",\"normal\",\"culture\",\"also\",\"civil\",\"city\",\"available\",\"house\",\"exist\",\"startup\",\"services\",\"ms\",\"both\",\"down\",\"2017\",\"run\",\"cat\",\"well\",\"space\",\"join\",\"deal\",\"games\",\"visa\",\"rid\",\"air\",\"speed\",\"popular\",\"problem\",\"support\",\"current\",\"pakistan\",\"choose\",\"build\",\"idea\",\"america\",\"whatsapp\",\"affect\",\"law\",\"technology\",\"call\",\"6\",\"universities\",\"family\",\"marketing\",\"major\",\"actually\",\"favorite\",\"light\",\"bangalore\",\"woman\",\"because\",\"type\",\"program\",\"looking\",\"living\",\"open\",\"believe\",\"month\",\"able\",\"management\",\"travel\",\"degree\",\"show\",\"interesting\",\"score\",\"months\",\"series\",\"chinese\",\"development\",\"end\",\"code\",\"design\",\"per\",\"employees\",\"review\",\"clinton\",\"common\",\"kind\",\"internet\",\"song\",\"download\",\"course\",\"parents\",\"jobs\",\"such\",\"increase\",\"java\",\"god\",\"another\",\"united\",\"girlfriend\",\"mechanical\",\"always\",\"next\",\"never\",\"around\",\"tips\",\"mba\",\"myself\",\"hillary\",\"apply\",\"answer\",\"something\",\"considered\",\"making\",\"differences\",\"market\",\"compare\",\"great\",\"keep\",\"test\",\"s\",\"win\",\"against\",\"states\",\"earn\",\"youtube\",\"worth\",\"delhi\",\"energy\",\"laptop\",\"american\",\"lose\",\"each\",\"hard\",\"makes\",\"age\",\"ask\",\"safe\",\"body\",\"power\",\"salary\",\"4\",\"watch\",\"white\",\"windows\",\"instagram\",\"history\",\"pay\",\"every\",\"last\",\"create\",\"relationship\",\"music\",\"too\",\"meaning\",\"state\",\"average\",\"earth\",\"got\",\"process\",\"class\",\"tv\",\"eat\",\"done\",\"happens\",\"days\",\"big\",\"off\",\"improve\",\"future\",\"place\",\"man\",\"human\",\"government\",\"play\",\"countries\",\"food\",\"service\",\"students\",\"weight\",\"game\",\"engineer\",\"write\",\"very\",\"interview\",\"web\",\"tell\",\"social\",\"girls\",\"video\",\"look\",\"having\",\"guy\",\"home\",\"hair\",\"usa\",\"doesnt\",\"word\",\"bank\",\"friend\",\"true\",\"experience\",\"career\",\"president\",\"question\",\"own\",\"china\",\"come\",\"under\",\"working\",\"him\",\"doing\",\"donald\",\"friends\",\"right\",\"5\",\"cost\",\"mobile\",\"even\",\"movies\",\"then\",\"c\",\"\\u2019\",\"exam\",\"men\",\"learning\",\"card\",\"war\",\"read\",\"programming\",\"black\",\"anyone\",\"high\",\"10\",\"companies\",\"car\",\"getting\",\"give\",\"important\",\"questions\",\"cant\",\"iphone\",\"website\",\"top\",\"water\",\"prepare\",\"during\",\"real\",\"say\",\"system\",\"name\",\"through\",\"two\",\"1\",\"our\",\"study\",\"3\",\"university\",\"made\",\"back\",\"happen\",\"stop\",\"student\",\"sex\",\"bad\",\"language\",\"going\",\"same\",\"before\",\"software\",\"school\",\"live\",\"country\",\"android\",\"science\",\"help\",\"she\",\"see\",\"thing\",\"women\",\"over\",\"data\",\"examples\",\"computer\",\"had\",\"ways\",\"change\",\"while\",\"book\",\"english\",\"account\",\"still\",\"movie\",\"books\",\"2016\",\"facebook\",\"free\",\"number\",\"college\",\"app\",\"2\",\"just\",\"now\",\"no\",\"trump\",\"company\",\"only\",\"old\",\"been\",\"google\",\"phone\",\"long\",\"different\",\"girl\",\"his\",\"her\",\"years\",\"really\",\"them\",\"using\",\"business\",\"need\",\"being\",\"buy\",\"day\",\"person\",\"things\",\"possible\",\"could\",\"were\",\"its\",\"love\",\"engineering\",\"im\",\"used\",\"online\",\"go\",\"year\",\"he\",\"into\",\"feel\",\"dont\",\"first\",\"up\"]]]}}},\"view\":{\"type\":\"object\",\"name\":\"CDSView\",\"id\":\"p1045\",\"attributes\":{\"filter\":{\"type\":\"object\",\"name\":\"AllIndices\",\"id\":\"p1046\"}}},\"glyph\":{\"type\":\"object\",\"name\":\"Scatter\",\"id\":\"p1041\",\"attributes\":{\"x\":{\"type\":\"field\",\"field\":\"x\"},\"y\":{\"type\":\"field\",\"field\":\"y\"},\"size\":{\"type\":\"value\",\"value\":10},\"line_color\":{\"type\":\"field\",\"field\":\"color\"},\"line_alpha\":{\"type\":\"value\",\"value\":0.25},\"fill_color\":{\"type\":\"field\",\"field\":\"color\"},\"fill_alpha\":{\"type\":\"value\",\"value\":0.25},\"hatch_color\":{\"type\":\"field\",\"field\":\"color\"},\"hatch_alpha\":{\"type\":\"value\",\"value\":0.25}}},\"nonselection_glyph\":{\"type\":\"object\",\"name\":\"Scatter\",\"id\":\"p1042\",\"attributes\":{\"x\":{\"type\":\"field\",\"field\":\"x\"},\"y\":{\"type\":\"field\",\"field\":\"y\"},\"size\":{\"type\":\"value\",\"value\":10},\"line_color\":{\"type\":\"field\",\"field\":\"color\"},\"line_alpha\":{\"type\":\"value\",\"value\":0.1},\"fill_color\":{\"type\":\"field\",\"field\":\"color\"},\"fill_alpha\":{\"type\":\"value\",\"value\":0.1},\"hatch_color\":{\"type\":\"field\",\"field\":\"color\"},\"hatch_alpha\":{\"type\":\"value\",\"value\":0.1}}},\"muted_glyph\":{\"type\":\"object\",\"name\":\"Scatter\",\"id\":\"p1043\",\"attributes\":{\"x\":{\"type\":\"field\",\"field\":\"x\"},\"y\":{\"type\":\"field\",\"field\":\"y\"},\"size\":{\"type\":\"value\",\"value\":10},\"line_color\":{\"type\":\"field\",\"field\":\"color\"},\"line_alpha\":{\"type\":\"value\",\"value\":0.2},\"fill_color\":{\"type\":\"field\",\"field\":\"color\"},\"fill_alpha\":{\"type\":\"value\",\"value\":0.2},\"hatch_color\":{\"type\":\"field\",\"field\":\"color\"},\"hatch_alpha\":{\"type\":\"value\",\"value\":0.2}}}}}],\"toolbar\":{\"type\":\"object\",\"name\":\"Toolbar\",\"id\":\"p1012\",\"attributes\":{\"tools\":[{\"type\":\"object\",\"name\":\"PanTool\",\"id\":\"p1025\"},{\"type\":\"object\",\"name\":\"WheelZoomTool\",\"id\":\"p1026\",\"attributes\":{\"renderers\":\"auto\"}},{\"type\":\"object\",\"name\":\"BoxZoomTool\",\"id\":\"p1027\",\"attributes\":{\"overlay\":{\"type\":\"object\",\"name\":\"BoxAnnotation\",\"id\":\"p1028\",\"attributes\":{\"syncable\":false,\"line_color\":\"black\",\"line_alpha\":1.0,\"line_width\":2,\"line_dash\":[4,4],\"fill_color\":\"lightgrey\",\"fill_alpha\":0.5,\"level\":\"overlay\",\"visible\":false,\"left\":{\"type\":\"number\",\"value\":\"nan\"},\"right\":{\"type\":\"number\",\"value\":\"nan\"},\"top\":{\"type\":\"number\",\"value\":\"nan\"},\"bottom\":{\"type\":\"number\",\"value\":\"nan\"},\"left_units\":\"canvas\",\"right_units\":\"canvas\",\"top_units\":\"canvas\",\"bottom_units\":\"canvas\",\"handles\":{\"type\":\"object\",\"name\":\"BoxInteractionHandles\",\"id\":\"p1034\",\"attributes\":{\"all\":{\"type\":\"object\",\"name\":\"AreaVisuals\",\"id\":\"p1033\",\"attributes\":{\"fill_color\":\"white\",\"hover_fill_color\":\"lightgray\"}}}}}}}},{\"type\":\"object\",\"name\":\"SaveTool\",\"id\":\"p1035\"},{\"type\":\"object\",\"name\":\"ResetTool\",\"id\":\"p1036\"},{\"type\":\"object\",\"name\":\"HelpTool\",\"id\":\"p1037\"},{\"type\":\"object\",\"name\":\"HoverTool\",\"id\":\"p1047\",\"attributes\":{\"renderers\":\"auto\",\"tooltips\":[[\"token\",\"@token\"]]}}],\"active_scroll\":{\"id\":\"p1026\"}}},\"left\":[{\"type\":\"object\",\"name\":\"LinearAxis\",\"id\":\"p1020\",\"attributes\":{\"ticker\":{\"type\":\"object\",\"name\":\"BasicTicker\",\"id\":\"p1021\",\"attributes\":{\"mantissas\":[1,2,5]}},\"formatter\":{\"type\":\"object\",\"name\":\"BasicTickFormatter\",\"id\":\"p1022\"},\"major_label_policy\":{\"type\":\"object\",\"name\":\"AllLabels\",\"id\":\"p1023\"}}}],\"below\":[{\"type\":\"object\",\"name\":\"LinearAxis\",\"id\":\"p1015\",\"attributes\":{\"ticker\":{\"type\":\"object\",\"name\":\"BasicTicker\",\"id\":\"p1016\",\"attributes\":{\"mantissas\":[1,2,5]}},\"formatter\":{\"type\":\"object\",\"name\":\"BasicTickFormatter\",\"id\":\"p1017\"},\"major_label_policy\":{\"type\":\"object\",\"name\":\"AllLabels\",\"id\":\"p1018\"}}}],\"center\":[{\"type\":\"object\",\"name\":\"Grid\",\"id\":\"p1019\",\"attributes\":{\"axis\":{\"id\":\"p1015\"}}},{\"type\":\"object\",\"name\":\"Grid\",\"id\":\"p1024\",\"attributes\":{\"dimension\":1,\"axis\":{\"id\":\"p1020\"}}}]}}]}};\n  const render_items = [{\"docid\":\"6bbb153c-debb-4d21-a7be-44ac37692a9b\",\"roots\":{\"p1004\":\"bee04369-05a5-43dd-9b41-45e4733dfd08\"},\"root_ids\":[\"p1004\"]}];\n  void root.Bokeh.embed.embed_items_notebook(docs_json, render_items);\n  }\n  if (root.Bokeh !== undefined) {\n    embed_document(root);\n  } else {\n    let attempts = 0;\n    const timer = setInterval(function(root) {\n      if (root.Bokeh !== undefined) {\n        clearInterval(timer);\n        embed_document(root);\n      } else {\n        attempts++;\n        if (attempts > 100) {\n          clearInterval(timer);\n          console.log(\"Bokeh: ERROR: Unable to run BokehJS code because BokehJS library is missing\");\n        }\n      }\n    }, 10, root)\n  }\n})(window);",
      "application/vnd.bokehjs_exec.v0+json": ""
     },
     "metadata": {
      "application/vnd.bokehjs_exec.v0+json": {
       "id": "p1004"
      }
     },
     "output_type": "display_data"
    },
    {
     "data": {
      "text/html": [
       "<div style=\"display: table;\"><div style=\"display: table-row;\"><div style=\"display: table-cell;\"><b title=\"bokeh.plotting._figure.figure\">figure</b>(</div><div style=\"display: table-cell;\">id&nbsp;=&nbsp;'p1004', <span id=\"p1051\" style=\"cursor: pointer;\">&hellip;)</span></div></div><div class=\"p1050\" style=\"display: none;\"><div style=\"display: table-cell;\"></div><div style=\"display: table-cell;\">above&nbsp;=&nbsp;[],</div></div><div class=\"p1050\" style=\"display: none;\"><div style=\"display: table-cell;\"></div><div style=\"display: table-cell;\">align&nbsp;=&nbsp;'auto',</div></div><div class=\"p1050\" style=\"display: none;\"><div style=\"display: table-cell;\"></div><div style=\"display: table-cell;\">aspect_ratio&nbsp;=&nbsp;None,</div></div><div class=\"p1050\" style=\"display: none;\"><div style=\"display: table-cell;\"></div><div style=\"display: table-cell;\">aspect_scale&nbsp;=&nbsp;1,</div></div><div class=\"p1050\" style=\"display: none;\"><div style=\"display: table-cell;\"></div><div style=\"display: table-cell;\">attribution&nbsp;=&nbsp;[],</div></div><div class=\"p1050\" style=\"display: none;\"><div style=\"display: table-cell;\"></div><div style=\"display: table-cell;\">background_fill_alpha&nbsp;=&nbsp;1.0,</div></div><div class=\"p1050\" style=\"display: none;\"><div style=\"display: table-cell;\"></div><div style=\"display: table-cell;\">background_fill_color&nbsp;=&nbsp;'#ffffff',</div></div><div class=\"p1050\" style=\"display: none;\"><div style=\"display: table-cell;\"></div><div style=\"display: table-cell;\">below&nbsp;=&nbsp;[LinearAxis(id='p1015', ...)],</div></div><div class=\"p1050\" style=\"display: none;\"><div style=\"display: table-cell;\"></div><div style=\"display: table-cell;\">border_fill_alpha&nbsp;=&nbsp;1.0,</div></div><div class=\"p1050\" style=\"display: none;\"><div style=\"display: table-cell;\"></div><div style=\"display: table-cell;\">border_fill_color&nbsp;=&nbsp;'#ffffff',</div></div><div class=\"p1050\" style=\"display: none;\"><div style=\"display: table-cell;\"></div><div style=\"display: table-cell;\">center&nbsp;=&nbsp;[Grid(id='p1019', ...), Grid(id='p1024', ...)],</div></div><div class=\"p1050\" style=\"display: none;\"><div style=\"display: table-cell;\"></div><div style=\"display: table-cell;\">context_menu&nbsp;=&nbsp;None,</div></div><div class=\"p1050\" style=\"display: none;\"><div style=\"display: table-cell;\"></div><div style=\"display: table-cell;\">css_classes&nbsp;=&nbsp;[],</div></div><div class=\"p1050\" style=\"display: none;\"><div style=\"display: table-cell;\"></div><div style=\"display: table-cell;\">css_variables&nbsp;=&nbsp;{},</div></div><div class=\"p1050\" style=\"display: none;\"><div style=\"display: table-cell;\"></div><div style=\"display: table-cell;\">disabled&nbsp;=&nbsp;False,</div></div><div class=\"p1050\" style=\"display: none;\"><div style=\"display: table-cell;\"></div><div style=\"display: table-cell;\">elements&nbsp;=&nbsp;[],</div></div><div class=\"p1050\" style=\"display: none;\"><div style=\"display: table-cell;\"></div><div style=\"display: table-cell;\">extra_x_ranges&nbsp;=&nbsp;{},</div></div><div class=\"p1050\" style=\"display: none;\"><div style=\"display: table-cell;\"></div><div style=\"display: table-cell;\">extra_x_scales&nbsp;=&nbsp;{},</div></div><div class=\"p1050\" style=\"display: none;\"><div style=\"display: table-cell;\"></div><div style=\"display: table-cell;\">extra_y_ranges&nbsp;=&nbsp;{},</div></div><div class=\"p1050\" style=\"display: none;\"><div style=\"display: table-cell;\"></div><div style=\"display: table-cell;\">extra_y_scales&nbsp;=&nbsp;{},</div></div><div class=\"p1050\" style=\"display: none;\"><div style=\"display: table-cell;\"></div><div style=\"display: table-cell;\">flow_mode&nbsp;=&nbsp;'block',</div></div><div class=\"p1050\" style=\"display: none;\"><div style=\"display: table-cell;\"></div><div style=\"display: table-cell;\">frame_align&nbsp;=&nbsp;True,</div></div><div class=\"p1050\" style=\"display: none;\"><div style=\"display: table-cell;\"></div><div style=\"display: table-cell;\">frame_height&nbsp;=&nbsp;None,</div></div><div class=\"p1050\" style=\"display: none;\"><div style=\"display: table-cell;\"></div><div style=\"display: table-cell;\">frame_width&nbsp;=&nbsp;None,</div></div><div class=\"p1050\" style=\"display: none;\"><div style=\"display: table-cell;\"></div><div style=\"display: table-cell;\">height&nbsp;=&nbsp;400,</div></div><div class=\"p1050\" style=\"display: none;\"><div style=\"display: table-cell;\"></div><div style=\"display: table-cell;\">height_policy&nbsp;=&nbsp;'auto',</div></div><div class=\"p1050\" style=\"display: none;\"><div style=\"display: table-cell;\"></div><div style=\"display: table-cell;\">hidpi&nbsp;=&nbsp;True,</div></div><div class=\"p1050\" style=\"display: none;\"><div style=\"display: table-cell;\"></div><div style=\"display: table-cell;\">hold_render&nbsp;=&nbsp;False,</div></div><div class=\"p1050\" style=\"display: none;\"><div style=\"display: table-cell;\"></div><div style=\"display: table-cell;\">js_event_callbacks&nbsp;=&nbsp;{},</div></div><div class=\"p1050\" style=\"display: none;\"><div style=\"display: table-cell;\"></div><div style=\"display: table-cell;\">js_property_callbacks&nbsp;=&nbsp;{},</div></div><div class=\"p1050\" style=\"display: none;\"><div style=\"display: table-cell;\"></div><div style=\"display: table-cell;\">left&nbsp;=&nbsp;[LinearAxis(id='p1020', ...)],</div></div><div class=\"p1050\" style=\"display: none;\"><div style=\"display: table-cell;\"></div><div style=\"display: table-cell;\">lod_factor&nbsp;=&nbsp;10,</div></div><div class=\"p1050\" style=\"display: none;\"><div style=\"display: table-cell;\"></div><div style=\"display: table-cell;\">lod_interval&nbsp;=&nbsp;300,</div></div><div class=\"p1050\" style=\"display: none;\"><div style=\"display: table-cell;\"></div><div style=\"display: table-cell;\">lod_threshold&nbsp;=&nbsp;2000,</div></div><div class=\"p1050\" style=\"display: none;\"><div style=\"display: table-cell;\"></div><div style=\"display: table-cell;\">lod_timeout&nbsp;=&nbsp;500,</div></div><div class=\"p1050\" style=\"display: none;\"><div style=\"display: table-cell;\"></div><div style=\"display: table-cell;\">margin&nbsp;=&nbsp;None,</div></div><div class=\"p1050\" style=\"display: none;\"><div style=\"display: table-cell;\"></div><div style=\"display: table-cell;\">match_aspect&nbsp;=&nbsp;False,</div></div><div class=\"p1050\" style=\"display: none;\"><div style=\"display: table-cell;\"></div><div style=\"display: table-cell;\">max_height&nbsp;=&nbsp;None,</div></div><div class=\"p1050\" style=\"display: none;\"><div style=\"display: table-cell;\"></div><div style=\"display: table-cell;\">max_width&nbsp;=&nbsp;None,</div></div><div class=\"p1050\" style=\"display: none;\"><div style=\"display: table-cell;\"></div><div style=\"display: table-cell;\">min_border&nbsp;=&nbsp;5,</div></div><div class=\"p1050\" style=\"display: none;\"><div style=\"display: table-cell;\"></div><div style=\"display: table-cell;\">min_border_bottom&nbsp;=&nbsp;None,</div></div><div class=\"p1050\" style=\"display: none;\"><div style=\"display: table-cell;\"></div><div style=\"display: table-cell;\">min_border_left&nbsp;=&nbsp;None,</div></div><div class=\"p1050\" style=\"display: none;\"><div style=\"display: table-cell;\"></div><div style=\"display: table-cell;\">min_border_right&nbsp;=&nbsp;None,</div></div><div class=\"p1050\" style=\"display: none;\"><div style=\"display: table-cell;\"></div><div style=\"display: table-cell;\">min_border_top&nbsp;=&nbsp;None,</div></div><div class=\"p1050\" style=\"display: none;\"><div style=\"display: table-cell;\"></div><div style=\"display: table-cell;\">min_height&nbsp;=&nbsp;None,</div></div><div class=\"p1050\" style=\"display: none;\"><div style=\"display: table-cell;\"></div><div style=\"display: table-cell;\">min_width&nbsp;=&nbsp;None,</div></div><div class=\"p1050\" style=\"display: none;\"><div style=\"display: table-cell;\"></div><div style=\"display: table-cell;\">name&nbsp;=&nbsp;None,</div></div><div class=\"p1050\" style=\"display: none;\"><div style=\"display: table-cell;\"></div><div style=\"display: table-cell;\">outline_line_alpha&nbsp;=&nbsp;1.0,</div></div><div class=\"p1050\" style=\"display: none;\"><div style=\"display: table-cell;\"></div><div style=\"display: table-cell;\">outline_line_cap&nbsp;=&nbsp;'butt',</div></div><div class=\"p1050\" style=\"display: none;\"><div style=\"display: table-cell;\"></div><div style=\"display: table-cell;\">outline_line_color&nbsp;=&nbsp;'#e5e5e5',</div></div><div class=\"p1050\" style=\"display: none;\"><div style=\"display: table-cell;\"></div><div style=\"display: table-cell;\">outline_line_dash&nbsp;=&nbsp;[],</div></div><div class=\"p1050\" style=\"display: none;\"><div style=\"display: table-cell;\"></div><div style=\"display: table-cell;\">outline_line_dash_offset&nbsp;=&nbsp;0,</div></div><div class=\"p1050\" style=\"display: none;\"><div style=\"display: table-cell;\"></div><div style=\"display: table-cell;\">outline_line_join&nbsp;=&nbsp;'bevel',</div></div><div class=\"p1050\" style=\"display: none;\"><div style=\"display: table-cell;\"></div><div style=\"display: table-cell;\">outline_line_width&nbsp;=&nbsp;1,</div></div><div class=\"p1050\" style=\"display: none;\"><div style=\"display: table-cell;\"></div><div style=\"display: table-cell;\">output_backend&nbsp;=&nbsp;'canvas',</div></div><div class=\"p1050\" style=\"display: none;\"><div style=\"display: table-cell;\"></div><div style=\"display: table-cell;\">renderers&nbsp;=&nbsp;[GlyphRenderer(id='p1044', ...)],</div></div><div class=\"p1050\" style=\"display: none;\"><div style=\"display: table-cell;\"></div><div style=\"display: table-cell;\">reset_policy&nbsp;=&nbsp;'standard',</div></div><div class=\"p1050\" style=\"display: none;\"><div style=\"display: table-cell;\"></div><div style=\"display: table-cell;\">resizable&nbsp;=&nbsp;False,</div></div><div class=\"p1050\" style=\"display: none;\"><div style=\"display: table-cell;\"></div><div style=\"display: table-cell;\">right&nbsp;=&nbsp;[],</div></div><div class=\"p1050\" style=\"display: none;\"><div style=\"display: table-cell;\"></div><div style=\"display: table-cell;\">sizing_mode&nbsp;=&nbsp;None,</div></div><div class=\"p1050\" style=\"display: none;\"><div style=\"display: table-cell;\"></div><div style=\"display: table-cell;\">styles&nbsp;=&nbsp;{},</div></div><div class=\"p1050\" style=\"display: none;\"><div style=\"display: table-cell;\"></div><div style=\"display: table-cell;\">stylesheets&nbsp;=&nbsp;[],</div></div><div class=\"p1050\" style=\"display: none;\"><div style=\"display: table-cell;\"></div><div style=\"display: table-cell;\">subscribed_events&nbsp;=&nbsp;PropertyValueSet(),</div></div><div class=\"p1050\" style=\"display: none;\"><div style=\"display: table-cell;\"></div><div style=\"display: table-cell;\">syncable&nbsp;=&nbsp;True,</div></div><div class=\"p1050\" style=\"display: none;\"><div style=\"display: table-cell;\"></div><div style=\"display: table-cell;\">tags&nbsp;=&nbsp;[],</div></div><div class=\"p1050\" style=\"display: none;\"><div style=\"display: table-cell;\"></div><div style=\"display: table-cell;\">title&nbsp;=&nbsp;Title(id='p1011', ...),</div></div><div class=\"p1050\" style=\"display: none;\"><div style=\"display: table-cell;\"></div><div style=\"display: table-cell;\">title_location&nbsp;=&nbsp;'above',</div></div><div class=\"p1050\" style=\"display: none;\"><div style=\"display: table-cell;\"></div><div style=\"display: table-cell;\">toolbar&nbsp;=&nbsp;Toolbar(id='p1012', ...),</div></div><div class=\"p1050\" style=\"display: none;\"><div style=\"display: table-cell;\"></div><div style=\"display: table-cell;\">toolbar_inner&nbsp;=&nbsp;False,</div></div><div class=\"p1050\" style=\"display: none;\"><div style=\"display: table-cell;\"></div><div style=\"display: table-cell;\">toolbar_location&nbsp;=&nbsp;'right',</div></div><div class=\"p1050\" style=\"display: none;\"><div style=\"display: table-cell;\"></div><div style=\"display: table-cell;\">toolbar_sticky&nbsp;=&nbsp;True,</div></div><div class=\"p1050\" style=\"display: none;\"><div style=\"display: table-cell;\"></div><div style=\"display: table-cell;\">visible&nbsp;=&nbsp;True,</div></div><div class=\"p1050\" style=\"display: none;\"><div style=\"display: table-cell;\"></div><div style=\"display: table-cell;\">width&nbsp;=&nbsp;600,</div></div><div class=\"p1050\" style=\"display: none;\"><div style=\"display: table-cell;\"></div><div style=\"display: table-cell;\">width_policy&nbsp;=&nbsp;'auto',</div></div><div class=\"p1050\" style=\"display: none;\"><div style=\"display: table-cell;\"></div><div style=\"display: table-cell;\">x_range&nbsp;=&nbsp;DataRange1d(id='p1005', ...),</div></div><div class=\"p1050\" style=\"display: none;\"><div style=\"display: table-cell;\"></div><div style=\"display: table-cell;\">x_scale&nbsp;=&nbsp;LinearScale(id='p1013', ...),</div></div><div class=\"p1050\" style=\"display: none;\"><div style=\"display: table-cell;\"></div><div style=\"display: table-cell;\">y_range&nbsp;=&nbsp;DataRange1d(id='p1006', ...),</div></div><div class=\"p1050\" style=\"display: none;\"><div style=\"display: table-cell;\"></div><div style=\"display: table-cell;\">y_scale&nbsp;=&nbsp;LinearScale(id='p1014', ...))</div></div></div>\n",
       "<script>\n",
       "(function() {\n",
       "  let expanded = false;\n",
       "  const ellipsis = document.getElementById(\"p1051\");\n",
       "  ellipsis.addEventListener(\"click\", function() {\n",
       "    const rows = document.getElementsByClassName(\"p1050\");\n",
       "    for (let i = 0; i < rows.length; i++) {\n",
       "      const el = rows[i];\n",
       "      el.style.display = expanded ? \"none\" : \"table-row\";\n",
       "    }\n",
       "    ellipsis.innerHTML = expanded ? \"&hellip;)\" : \"&lsaquo;&lsaquo;&lsaquo;\";\n",
       "    expanded = !expanded;\n",
       "  });\n",
       "})();\n",
       "</script>\n"
      ],
      "text/plain": [
       "figure(id='p1004', ...)"
      ]
     },
     "execution_count": 57,
     "metadata": {},
     "output_type": "execute_result"
    }
   ],
   "source": [
    "draw_vectors(embedding[:, 0], embedding[:, 1], token=top_words)"
   ]
  },
  {
   "cell_type": "markdown",
   "metadata": {},
   "source": [
    "Для сдачи задания необходимо загрузить функции `subsample_frequent_words` и `get_negative_sampling_prob`, а также сгенерировать файл для посылки ниже и приложить в соответствующую задачу. Успехов!"
   ]
  },
  {
   "cell_type": "code",
   "execution_count": 60,
   "metadata": {},
   "outputs": [
    {
     "name": "stdout",
     "output_type": "stream",
     "text": [
      "File saved to `submission_dict.json`\n"
     ]
    }
   ],
   "source": [
    "# do not change the code in the block below\n",
    "# __________start of block__________\n",
    "import os\n",
    "import json\n",
    "\n",
    "assert os.path.exists(\n",
    "    \"words_subset.txt\"\n",
    "), \"Please, download `words_subset.txt` and place it in the working directory\"\n",
    "\n",
    "with open(\"words_subset.txt\") as iofile:\n",
    "    selected_words = iofile.read().split(\"\\n\")\n",
    "\n",
    "\n",
    "def get_matrix_for_selected_words(selected_words, embedding_matrix, word_to_index):\n",
    "    word_vectors = []\n",
    "    for word in selected_words:\n",
    "        index = word_to_index.get(word, None)\n",
    "        vector = [0.0] * embedding_matrix.shape[1]\n",
    "        if index is not None:\n",
    "            vector = embedding_matrix[index].numpy().tolist()\n",
    "        word_vectors.append(vector)\n",
    "    return word_vectors\n",
    "\n",
    "\n",
    "word_vectors = get_matrix_for_selected_words(\n",
    "    selected_words, embedding_matrix_context, word_to_index\n",
    ")\n",
    "\n",
    "with open(\"submission_dict.json\", \"w\") as iofile:\n",
    "    json.dump(word_vectors, iofile)\n",
    "print(\"File saved to `submission_dict.json`\")\n",
    "# __________end of block__________"
   ]
  },
  {
   "cell_type": "code",
   "execution_count": null,
   "metadata": {},
   "outputs": [],
   "source": []
  }
 ],
 "metadata": {
  "colab": {
   "provenance": []
  },
  "kernelspec": {
   "display_name": "ml_train2",
   "language": "python",
   "name": "python3"
  },
  "language_info": {
   "codemirror_mode": {
    "name": "ipython",
    "version": 3
   },
   "file_extension": ".py",
   "mimetype": "text/x-python",
   "name": "python",
   "nbconvert_exporter": "python",
   "pygments_lexer": "ipython3",
   "version": "3.12.7"
  }
 },
 "nbformat": 4,
 "nbformat_minor": 0
}
